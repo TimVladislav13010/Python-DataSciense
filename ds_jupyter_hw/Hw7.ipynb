{
 "cells": [
  {
   "cell_type": "code",
   "execution_count": 1,
   "id": "d06f6452",
   "metadata": {},
   "outputs": [],
   "source": [
    "import pandas as pd\n",
    "from surprise import SVD, SVDpp, NMF\n",
    "from surprise import Dataset\n",
    "from surprise.model_selection import cross_validate"
   ]
  },
  {
   "cell_type": "markdown",
   "id": "acd4dbb8",
   "metadata": {},
   "source": [
    "# Dataset"
   ]
  },
  {
   "cell_type": "code",
   "execution_count": 2,
   "id": "697b2975",
   "metadata": {},
   "outputs": [
    {
     "name": "stdout",
     "output_type": "stream",
     "text": [
      "Dataset ml-100k could not be found. Do you want to download it? [Y/n] y\n",
      "Trying to download dataset from https://files.grouplens.org/datasets/movielens/ml-100k.zip...\n",
      "Done! Dataset ml-100k has been saved to /home/user/.surprise_data/ml-100k\n"
     ]
    }
   ],
   "source": [
    "data = Dataset.load_builtin('ml-100k')"
   ]
  },
  {
   "cell_type": "markdown",
   "id": "9c0c24ea",
   "metadata": {},
   "source": [
    "# SVD"
   ]
  },
  {
   "cell_type": "code",
   "execution_count": 4,
   "id": "9993f2cc",
   "metadata": {},
   "outputs": [
    {
     "name": "stdout",
     "output_type": "stream",
     "text": [
      "Evaluating RMSE, MAE of algorithm SVD on 10 split(s).\n",
      "\n",
      "                  Fold 1  Fold 2  Fold 3  Fold 4  Fold 5  Fold 6  Fold 7  Fold 8  Fold 9  Fold 10 Mean    Std     \n",
      "RMSE (testset)    0.9354  0.9289  0.9239  0.9279  0.9355  0.9331  0.9362  0.9300  0.9251  0.9271  0.9303  0.0043  \n",
      "MAE (testset)     0.7358  0.7302  0.7297  0.7301  0.7371  0.7337  0.7377  0.7373  0.7300  0.7309  0.7332  0.0033  \n",
      "Fit time          1.20    1.06    1.08    1.05    1.07    1.26    1.05    1.06    1.06    1.07    1.10    0.07    \n",
      "Test time         0.08    0.14    0.09    0.09    0.08    0.09    0.08    0.08    0.09    0.09    0.09    0.01    \n"
     ]
    }
   ],
   "source": [
    "alg_svd = SVD()\n",
    "result = cross_validate(alg_svd, data, measures=['RMSE', 'MAE'], cv=10, verbose=True)\n",
    "SVD_result = pd.DataFrame.from_dict(result).mean(axis=0)"
   ]
  },
  {
   "cell_type": "markdown",
   "id": "777ddee0",
   "metadata": {},
   "source": [
    "# SVD++"
   ]
  },
  {
   "cell_type": "code",
   "execution_count": 5,
   "id": "b2ad3d62",
   "metadata": {},
   "outputs": [
    {
     "name": "stdout",
     "output_type": "stream",
     "text": [
      "Evaluating RMSE, MAE of algorithm SVDpp on 10 split(s).\n",
      "\n",
      "                  Fold 1  Fold 2  Fold 3  Fold 4  Fold 5  Fold 6  Fold 7  Fold 8  Fold 9  Fold 10 Mean    Std     \n",
      "RMSE (testset)    0.9091  0.9217  0.9051  0.9130  0.9048  0.9201  0.9149  0.9163  0.9170  0.9173  0.9139  0.0056  \n",
      "MAE (testset)     0.7112  0.7199  0.7087  0.7164  0.7065  0.7216  0.7189  0.7152  0.7180  0.7165  0.7153  0.0047  \n",
      "Fit time          49.09   48.37   51.38   51.49   51.98   48.17   51.13   49.49   48.47   47.80   49.74   1.51    \n",
      "Test time         3.07    3.35    3.06    3.62    3.04    2.95    3.12    2.99    2.83    2.84    3.09    0.23    \n"
     ]
    }
   ],
   "source": [
    "alg_svdpp = SVDpp()\n",
    "result_svdpp = cross_validate(alg_svdpp, data, measures=['RMSE', 'MAE'], cv=10, verbose=True)\n",
    "SVDPP_result = pd.DataFrame.from_dict(result_svdpp).mean(axis=0)"
   ]
  },
  {
   "cell_type": "markdown",
   "id": "680b8675",
   "metadata": {},
   "source": [
    "# NMF"
   ]
  },
  {
   "cell_type": "code",
   "execution_count": 6,
   "id": "cab94606",
   "metadata": {},
   "outputs": [
    {
     "name": "stdout",
     "output_type": "stream",
     "text": [
      "Evaluating RMSE, MAE of algorithm NMF on 10 split(s).\n",
      "\n",
      "                  Fold 1  Fold 2  Fold 3  Fold 4  Fold 5  Fold 6  Fold 7  Fold 8  Fold 9  Fold 10 Mean    Std     \n",
      "RMSE (testset)    0.9582  0.9467  0.9615  0.9701  0.9613  0.9516  0.9622  0.9639  0.9588  0.9448  0.9579  0.0075  \n",
      "MAE (testset)     0.7529  0.7431  0.7558  0.7634  0.7579  0.7456  0.7545  0.7595  0.7532  0.7396  0.7525  0.0072  \n",
      "Fit time          1.84    1.73    1.78    1.75    1.75    1.75    1.76    1.81    1.79    1.76    1.77    0.03    \n",
      "Test time         0.08    0.14    0.07    0.07    0.14    0.11    0.07    0.08    0.14    0.07    0.10    0.03    \n"
     ]
    }
   ],
   "source": [
    "alg_nmf = NMF()\n",
    "result_nmf = cross_validate(alg_nmf, data, measures=['RMSE', 'MAE'], cv=10, verbose=True)\n",
    "NMF_result = pd.DataFrame.from_dict(result_nmf).mean(axis=0)"
   ]
  },
  {
   "cell_type": "markdown",
   "id": "ba8e0616",
   "metadata": {},
   "source": [
    "# Result"
   ]
  },
  {
   "cell_type": "code",
   "execution_count": 9,
   "id": "0ddc847a",
   "metadata": {},
   "outputs": [
    {
     "data": {
      "text/html": [
       "<div>\n",
       "<style scoped>\n",
       "    .dataframe tbody tr th:only-of-type {\n",
       "        vertical-align: middle;\n",
       "    }\n",
       "\n",
       "    .dataframe tbody tr th {\n",
       "        vertical-align: top;\n",
       "    }\n",
       "\n",
       "    .dataframe thead th {\n",
       "        text-align: right;\n",
       "    }\n",
       "</style>\n",
       "<table border=\"1\" class=\"dataframe\">\n",
       "  <thead>\n",
       "    <tr style=\"text-align: right;\">\n",
       "      <th></th>\n",
       "      <th>SVD</th>\n",
       "      <th>SVDpp</th>\n",
       "      <th>NMF</th>\n",
       "    </tr>\n",
       "  </thead>\n",
       "  <tbody>\n",
       "    <tr>\n",
       "      <th>test_rmse</th>\n",
       "      <td>0.930306</td>\n",
       "      <td>0.913936</td>\n",
       "      <td>0.957924</td>\n",
       "    </tr>\n",
       "    <tr>\n",
       "      <th>test_mae</th>\n",
       "      <td>0.733227</td>\n",
       "      <td>0.715315</td>\n",
       "      <td>0.752539</td>\n",
       "    </tr>\n",
       "    <tr>\n",
       "      <th>fit_time</th>\n",
       "      <td>1.095531</td>\n",
       "      <td>49.736845</td>\n",
       "      <td>1.771352</td>\n",
       "    </tr>\n",
       "    <tr>\n",
       "      <th>test_time</th>\n",
       "      <td>0.091399</td>\n",
       "      <td>3.087009</td>\n",
       "      <td>0.098298</td>\n",
       "    </tr>\n",
       "  </tbody>\n",
       "</table>\n",
       "</div>"
      ],
      "text/plain": [
       "                SVD      SVDpp       NMF\n",
       "test_rmse  0.930306   0.913936  0.957924\n",
       "test_mae   0.733227   0.715315  0.752539\n",
       "fit_time   1.095531  49.736845  1.771352\n",
       "test_time  0.091399   3.087009  0.098298"
      ]
     },
     "execution_count": 9,
     "metadata": {},
     "output_type": "execute_result"
    }
   ],
   "source": [
    "Final_result = pd.DataFrame(columns=['SVD', 'SVDpp', 'NMF'])\n",
    "\n",
    "Final_result['SVD'] = SVD_result\n",
    "Final_result['SVDpp'] = SVDPP_result\n",
    "Final_result['NMF'] = NMF_result\n",
    "\n",
    "Final_result"
   ]
  },
  {
   "cell_type": "markdown",
   "id": "9a4b89cd",
   "metadata": {},
   "source": [
    "SVD - має середню точність 0.733227 але дуже швидке обчислення. варто використовувати коли датасети дуже великі але точність результату може бути гіршою.\n",
    "\n",
    "SVD++ - має найкращу точність 0.715315 але дуже повільне обчислення в порівнянні з SVD. Варто використовувати коли найкраща точність має значення.\n",
    "\n",
    "NMF - має найгіршу точність з перевірених алгоритмів, але швидкість навчання трішки довша чим у SVD.\n",
    "\n",
    "Краще використовувати SVD алгоритм мінімальні затрати ресурсів з приємлемим результатом, але коли результат повинен бути максимально точний краще використовувати SVD++."
   ]
  }
 ],
 "metadata": {
  "kernelspec": {
   "display_name": "Python 3 (ipykernel)",
   "language": "python",
   "name": "python3"
  },
  "language_info": {
   "codemirror_mode": {
    "name": "ipython",
    "version": 3
   },
   "file_extension": ".py",
   "mimetype": "text/x-python",
   "name": "python",
   "nbconvert_exporter": "python",
   "pygments_lexer": "ipython3",
   "version": "3.9.16"
  }
 },
 "nbformat": 4,
 "nbformat_minor": 5
}
