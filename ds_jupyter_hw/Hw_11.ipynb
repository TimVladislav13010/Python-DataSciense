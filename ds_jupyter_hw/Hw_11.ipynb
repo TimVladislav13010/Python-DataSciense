{
 "cells": [
  {
   "cell_type": "markdown",
   "id": "8f67d9a2-9e88-43d0-b1d3-c55210c112de",
   "metadata": {},
   "source": [
    "# Домашнє завдання\n",
    "\r\n",
    "В якості домашнього завдання вам пропонується створити рекурентну нейронну мережу за допомогою механізмів Keras, яка буде класифікувати рецензії із датасету imdb.\r\n",
    "\r\n",
    "На відміну від прикладу в модулі 9 ми використаємо рекурентну нейронну мережу. Поекспериментуйте з будовою мережі - RNN, LSTM, двостороння та глибока.\r\n",
    "\r\n",
    "Порівняйте результати та зробіть висновки."
   ]
  },
  {
   "cell_type": "code",
   "execution_count": 1,
   "id": "1b8a14c9-c589-48d1-bdff-d75afa1adb0e",
   "metadata": {},
   "outputs": [
    {
     "name": "stderr",
     "output_type": "stream",
     "text": [
      "2023-08-28 20:54:23.101188: I tensorflow/core/platform/cpu_feature_guard.cc:182] This TensorFlow binary is optimized to use available CPU instructions in performance-critical operations.\n",
      "To enable the following instructions: AVX2 FMA, in other operations, rebuild TensorFlow with the appropriate compiler flags.\n"
     ]
    }
   ],
   "source": [
    "import numpy as np\n",
    "from tensorflow import keras\n",
    "import tensorflow as tf\n",
    "from keras.datasets import fashion_mnist\n",
    "import matplotlib.pyplot as plt\n",
    "from keras.models import Sequential\n",
    "from keras.layers import Dense, Dropout, Conv2D, MaxPooling2D\n",
    "import random\n",
    "from keras.datasets import imdb\n",
    "from keras.utils import pad_sequences\n",
    "from keras.models import Sequential\n",
    "from keras.layers import Embedding, SimpleRNN, Dense, LSTM, Bidirectional, GRU\n",
    "\n",
    "from tensorflow.keras.callbacks import EarlyStopping, ModelCheckpoint\n",
    "\n",
    "import wandb\n",
    "from wandb.keras import WandbMetricsLogger"
   ]
  },
  {
   "cell_type": "code",
   "execution_count": 52,
   "id": "96c77f60-5b1d-493c-bd4f-d4d3d9f11e1c",
   "metadata": {},
   "outputs": [],
   "source": [
    "max_features = 20000  # кількість слів, що розглядаються як особливості\n",
    "maxlen = 500  # обмеження кількості слів в тексті\n",
    "batch_size = 256\n",
    "epochs=50\n",
    "validation_split=0.3\n",
    "\n",
    "project_name = \"Hw11_1\""
   ]
  },
  {
   "cell_type": "code",
   "execution_count": 3,
   "id": "dbd9280f-2d01-4500-b5e6-ff92ede7369e",
   "metadata": {},
   "outputs": [
    {
     "name": "stderr",
     "output_type": "stream",
     "text": [
      "\u001b[34m\u001b[1mwandb\u001b[0m: Currently logged in as: \u001b[33mvladyslav_tymoshchuk\u001b[0m. Use \u001b[1m`wandb login --relogin`\u001b[0m to force relogin\n"
     ]
    },
    {
     "data": {
      "text/html": [
       "wandb version 0.15.9 is available!  To upgrade, please run:\n",
       " $ pip install wandb --upgrade"
      ],
      "text/plain": [
       "<IPython.core.display.HTML object>"
      ]
     },
     "metadata": {},
     "output_type": "display_data"
    },
    {
     "data": {
      "text/html": [
       "Tracking run with wandb version 0.15.8"
      ],
      "text/plain": [
       "<IPython.core.display.HTML object>"
      ]
     },
     "metadata": {},
     "output_type": "display_data"
    },
    {
     "data": {
      "text/html": [
       "Run data is saved locally in <code>/tf-knugs/Hw11/Hw_11/wandb/run-20230828_205431-mtrd1ohh</code>"
      ],
      "text/plain": [
       "<IPython.core.display.HTML object>"
      ]
     },
     "metadata": {},
     "output_type": "display_data"
    },
    {
     "data": {
      "text/html": [
       "Syncing run <strong><a href='https://wandb.ai/vladyslav_tymoshchuk/Hw11_1/runs/mtrd1ohh' target=\"_blank\">sleek-donkey-1</a></strong> to <a href='https://wandb.ai/vladyslav_tymoshchuk/Hw11_1' target=\"_blank\">Weights & Biases</a> (<a href='https://wandb.me/run' target=\"_blank\">docs</a>)<br/>"
      ],
      "text/plain": [
       "<IPython.core.display.HTML object>"
      ]
     },
     "metadata": {},
     "output_type": "display_data"
    },
    {
     "data": {
      "text/html": [
       " View project at <a href='https://wandb.ai/vladyslav_tymoshchuk/Hw11_1' target=\"_blank\">https://wandb.ai/vladyslav_tymoshchuk/Hw11_1</a>"
      ],
      "text/plain": [
       "<IPython.core.display.HTML object>"
      ]
     },
     "metadata": {},
     "output_type": "display_data"
    },
    {
     "data": {
      "text/html": [
       " View run at <a href='https://wandb.ai/vladyslav_tymoshchuk/Hw11_1/runs/mtrd1ohh' target=\"_blank\">https://wandb.ai/vladyslav_tymoshchuk/Hw11_1/runs/mtrd1ohh</a>"
      ],
      "text/plain": [
       "<IPython.core.display.HTML object>"
      ]
     },
     "metadata": {},
     "output_type": "display_data"
    },
    {
     "data": {
      "text/html": [
       "<button onClick=\"this.nextSibling.style.display='block';this.style.display='none';\">Display W&B run</button><iframe src='https://wandb.ai/vladyslav_tymoshchuk/Hw11_1/runs/mtrd1ohh?jupyter=true' style='border:none;width:100%;height:420px;display:none;'></iframe>"
      ],
      "text/plain": [
       "<wandb.sdk.wandb_run.Run at 0x7f78844402e0>"
      ]
     },
     "execution_count": 3,
     "metadata": {},
     "output_type": "execute_result"
    }
   ],
   "source": [
    "wandb.init(project=project_name, config={\"epochs\": epochs, \"batch_size\": batch_size, \"validation_split\": validation_split})"
   ]
  },
  {
   "cell_type": "code",
   "execution_count": 4,
   "id": "b6eba975-7d50-4bb2-83e0-f30c432e33cb",
   "metadata": {},
   "outputs": [],
   "source": [
    "(train_data, y_train), (test_data, y_test) = imdb.load_data(num_words=max_features)"
   ]
  },
  {
   "cell_type": "code",
   "execution_count": 5,
   "id": "aaa80c1c-4fbc-4328-9309-cdb4fe61abbe",
   "metadata": {},
   "outputs": [],
   "source": [
    "data_train = pad_sequences(train_data, maxlen=maxlen)\n",
    "data_test = pad_sequences(test_data, maxlen=maxlen)"
   ]
  },
  {
   "cell_type": "code",
   "execution_count": 55,
   "id": "3e34ff64-bb23-418a-87f0-af531bcff450",
   "metadata": {},
   "outputs": [],
   "source": [
    "class Model:\n",
    "    def __init__(self, input_train, y_train, var, epochs, batch_size, validation_split):\n",
    "        self.var = var\n",
    "        \n",
    "        self.input_train = input_train\n",
    "        self.y_train = y_train\n",
    "        self.epochs = epochs\n",
    "        self.batch_size = batch_size\n",
    "        self.validation_split = validation_split\n",
    "\n",
    "        self.callback_early_stopping = EarlyStopping(monitor=\"val_acc\", patience=2, verbose=1, mode=\"max\")\n",
    "        self.callback_save = ModelCheckpoint(\"best_Hw11.hdf5\", monitor=\"val_loss\", save_best_only=True)\n",
    "\n",
    "        self.model = Sequential()\n",
    "        self.model.add(Embedding(max_features, 32))\n",
    "        self.model.add(var)\n",
    "        self.model.add(Dense(1, activation='sigmoid'))\n",
    "\n",
    "    def compile(self):\n",
    "        self.model.compile(optimizer='rmsprop', loss='binary_crossentropy', metrics=['acc'])\n",
    "        return self.model\n",
    "\n",
    "    def summary(self):\n",
    "        self.model.summary()\n",
    "        return self.model\n",
    "\n",
    "    def fit(self):\n",
    "        fits = self.model.fit(self.input_train,\n",
    "                              self.y_train,\n",
    "                              epochs=self.epochs,\n",
    "                              batch_size=self.batch_size,\n",
    "                              validation_split=self.validation_split,\n",
    "                              callbacks=[self.callback_early_stopping, WandbMetricsLogger(), self.callback_save])\n",
    "        return fits"
   ]
  },
  {
   "cell_type": "markdown",
   "id": "687cad9c-587e-4b8a-b17f-e53d16aedc03",
   "metadata": {},
   "source": [
    "# SimpleRNN"
   ]
  },
  {
   "cell_type": "code",
   "execution_count": 7,
   "id": "84fa1795-30c7-48eb-b369-6d997b352a38",
   "metadata": {},
   "outputs": [
    {
     "name": "stderr",
     "output_type": "stream",
     "text": [
      "2023-08-28 20:54:39.990762: I tensorflow/compiler/xla/stream_executor/cuda/cuda_gpu_executor.cc:981] could not open file to read NUMA node: /sys/bus/pci/devices/0000:03:00.0/numa_node\n",
      "Your kernel may have been built without NUMA support.\n",
      "2023-08-28 20:54:40.039584: I tensorflow/compiler/xla/stream_executor/cuda/cuda_gpu_executor.cc:981] could not open file to read NUMA node: /sys/bus/pci/devices/0000:03:00.0/numa_node\n",
      "Your kernel may have been built without NUMA support.\n",
      "2023-08-28 20:54:40.040014: I tensorflow/compiler/xla/stream_executor/cuda/cuda_gpu_executor.cc:981] could not open file to read NUMA node: /sys/bus/pci/devices/0000:03:00.0/numa_node\n",
      "Your kernel may have been built without NUMA support.\n",
      "2023-08-28 20:54:40.044399: I tensorflow/compiler/xla/stream_executor/cuda/cuda_gpu_executor.cc:981] could not open file to read NUMA node: /sys/bus/pci/devices/0000:03:00.0/numa_node\n",
      "Your kernel may have been built without NUMA support.\n",
      "2023-08-28 20:54:40.044812: I tensorflow/compiler/xla/stream_executor/cuda/cuda_gpu_executor.cc:981] could not open file to read NUMA node: /sys/bus/pci/devices/0000:03:00.0/numa_node\n",
      "Your kernel may have been built without NUMA support.\n",
      "2023-08-28 20:54:40.045208: I tensorflow/compiler/xla/stream_executor/cuda/cuda_gpu_executor.cc:981] could not open file to read NUMA node: /sys/bus/pci/devices/0000:03:00.0/numa_node\n",
      "Your kernel may have been built without NUMA support.\n",
      "2023-08-28 20:54:42.113405: I tensorflow/compiler/xla/stream_executor/cuda/cuda_gpu_executor.cc:981] could not open file to read NUMA node: /sys/bus/pci/devices/0000:03:00.0/numa_node\n",
      "Your kernel may have been built without NUMA support.\n",
      "2023-08-28 20:54:42.113815: I tensorflow/compiler/xla/stream_executor/cuda/cuda_gpu_executor.cc:981] could not open file to read NUMA node: /sys/bus/pci/devices/0000:03:00.0/numa_node\n",
      "Your kernel may have been built without NUMA support.\n",
      "2023-08-28 20:54:42.113839: I tensorflow/core/common_runtime/gpu/gpu_device.cc:1726] Could not identify NUMA node of platform GPU id 0, defaulting to 0.  Your kernel may not have been built with NUMA support.\n",
      "2023-08-28 20:54:42.114208: I tensorflow/compiler/xla/stream_executor/cuda/cuda_gpu_executor.cc:981] could not open file to read NUMA node: /sys/bus/pci/devices/0000:03:00.0/numa_node\n",
      "Your kernel may have been built without NUMA support.\n",
      "2023-08-28 20:54:42.114318: I tensorflow/core/common_runtime/gpu/gpu_device.cc:1639] Created device /job:localhost/replica:0/task:0/device:GPU:0 with 1838 MB memory:  -> device: 0, name: NVIDIA GeForce GTX 1060 3GB, pci bus id: 0000:03:00.0, compute capability: 6.1\n"
     ]
    }
   ],
   "source": [
    "model = Model(input_train=data_train,\n",
    "                 y_train=y_train,\n",
    "                 var=SimpleRNN(32),\n",
    "                 epochs=epochs,\n",
    "                 batch_size=batch_size,\n",
    "                 validation_split=validation_split)"
   ]
  },
  {
   "cell_type": "code",
   "execution_count": 8,
   "id": "0ad05a5c-1e79-4b25-86ff-70ec76807ec0",
   "metadata": {},
   "outputs": [
    {
     "name": "stdout",
     "output_type": "stream",
     "text": [
      "Model: \"sequential\"\n",
      "_________________________________________________________________\n",
      " Layer (type)                Output Shape              Param #   \n",
      "=================================================================\n",
      " embedding (Embedding)       (None, None, 32)          640000    \n",
      "                                                                 \n",
      " simple_rnn (SimpleRNN)      (None, 32)                2080      \n",
      "                                                                 \n",
      " dense (Dense)               (None, 1)                 33        \n",
      "                                                                 \n",
      "=================================================================\n",
      "Total params: 642113 (2.45 MB)\n",
      "Trainable params: 642113 (2.45 MB)\n",
      "Non-trainable params: 0 (0.00 Byte)\n",
      "_________________________________________________________________\n"
     ]
    }
   ],
   "source": [
    "model_compile = model.compile()\n",
    "sum = model_compile.summary()"
   ]
  },
  {
   "cell_type": "code",
   "execution_count": 9,
   "id": "acabd6b7-cf51-4764-ac14-a296e7253e99",
   "metadata": {},
   "outputs": [
    {
     "name": "stdout",
     "output_type": "stream",
     "text": [
      "Epoch 1/10\n"
     ]
    },
    {
     "name": "stderr",
     "output_type": "stream",
     "text": [
      "2023-08-28 20:54:46.130863: I tensorflow/compiler/xla/service/service.cc:168] XLA service 0x7f7678011ce0 initialized for platform CUDA (this does not guarantee that XLA will be used). Devices:\n",
      "2023-08-28 20:54:46.130980: I tensorflow/compiler/xla/service/service.cc:176]   StreamExecutor device (0): NVIDIA GeForce GTX 1060 3GB, Compute Capability 6.1\n",
      "2023-08-28 20:54:46.144906: I tensorflow/compiler/mlir/tensorflow/utils/dump_mlir_util.cc:255] disabling MLIR crash reproducer, set env var `MLIR_CRASH_REPRODUCER_DIRECTORY` to enable.\n",
      "2023-08-28 20:54:46.738360: I tensorflow/compiler/xla/stream_executor/cuda/cuda_dnn.cc:432] Loaded cuDNN version 8600\n",
      "2023-08-28 20:54:46.893531: I ./tensorflow/compiler/jit/device_compiler.h:186] Compiled cluster using XLA!  This line is logged at most once for the lifetime of the process.\n"
     ]
    },
    {
     "name": "stdout",
     "output_type": "stream",
     "text": [
      "69/69 [==============================] - 102s 1s/step - loss: 0.6872 - acc: 0.5440 - val_loss: 0.6788 - val_acc: 0.5687\n",
      "Epoch 2/10\n"
     ]
    },
    {
     "name": "stderr",
     "output_type": "stream",
     "text": [
      "/usr/local/lib/python3.8/dist-packages/keras/src/engine/training.py:3000: UserWarning: You are saving your model as an HDF5 file via `model.save()`. This file format is considered legacy. We recommend using instead the native Keras format, e.g. `model.save('my_model.keras')`.\n",
      "  saving_api.save_model(\n"
     ]
    },
    {
     "name": "stdout",
     "output_type": "stream",
     "text": [
      "69/69 [==============================] - 97s 1s/step - loss: 0.6136 - acc: 0.6873 - val_loss: 0.5546 - val_acc: 0.7516\n",
      "Epoch 3/10\n",
      "69/69 [==============================] - 94s 1s/step - loss: 0.4621 - acc: 0.8054 - val_loss: 0.4626 - val_acc: 0.8000\n",
      "Epoch 4/10\n",
      "69/69 [==============================] - 98s 1s/step - loss: 0.3919 - acc: 0.8284 - val_loss: 0.4206 - val_acc: 0.8223\n",
      "Epoch 5/10\n",
      "69/69 [==============================] - 96s 1s/step - loss: 0.2640 - acc: 0.8997 - val_loss: 0.4355 - val_acc: 0.8071\n",
      "Epoch 6/10\n",
      "69/69 [==============================] - 94s 1s/step - loss: 0.1911 - acc: 0.9353 - val_loss: 0.4654 - val_acc: 0.7976\n",
      "Epoch 6: early stopping\n"
     ]
    }
   ],
   "source": [
    "history = model.fit()"
   ]
  },
  {
   "cell_type": "code",
   "execution_count": 10,
   "id": "94c646d0-0850-4cf5-9b2b-906eb24768e7",
   "metadata": {},
   "outputs": [
    {
     "data": {
      "text/html": [
       "Waiting for W&B process to finish... <strong style=\"color:green\">(success).</strong>"
      ],
      "text/plain": [
       "<IPython.core.display.HTML object>"
      ]
     },
     "metadata": {},
     "output_type": "display_data"
    },
    {
     "data": {
      "text/html": [
       "<style>\n",
       "    table.wandb td:nth-child(1) { padding: 0 10px; text-align: left ; width: auto;} td:nth-child(2) {text-align: left ; width: 100%}\n",
       "    .wandb-row { display: flex; flex-direction: row; flex-wrap: wrap; justify-content: flex-start; width: 100% }\n",
       "    .wandb-col { display: flex; flex-direction: column; flex-basis: 100%; flex: 1; padding: 10px; }\n",
       "    </style>\n",
       "<div class=\"wandb-row\"><div class=\"wandb-col\"><h3>Run history:</h3><br/><table class=\"wandb\"><tr><td>epoch/acc</td><td>▁▄▆▆▇█</td></tr><tr><td>epoch/epoch</td><td>▁▂▄▅▇█</td></tr><tr><td>epoch/learning_rate</td><td>▁▁▁▁▁▁</td></tr><tr><td>epoch/loss</td><td>█▇▅▄▂▁</td></tr><tr><td>epoch/val_acc</td><td>▁▆▇██▇</td></tr><tr><td>epoch/val_loss</td><td>█▅▂▁▁▂</td></tr></table><br/></div><div class=\"wandb-col\"><h3>Run summary:</h3><br/><table class=\"wandb\"><tr><td>epoch/acc</td><td>0.93531</td></tr><tr><td>epoch/epoch</td><td>5</td></tr><tr><td>epoch/learning_rate</td><td>0.001</td></tr><tr><td>epoch/loss</td><td>0.19115</td></tr><tr><td>epoch/val_acc</td><td>0.7976</td></tr><tr><td>epoch/val_loss</td><td>0.46536</td></tr></table><br/></div></div>"
      ],
      "text/plain": [
       "<IPython.core.display.HTML object>"
      ]
     },
     "metadata": {},
     "output_type": "display_data"
    },
    {
     "data": {
      "text/html": [
       " View run <strong style=\"color:#cdcd00\">sleek-donkey-1</strong> at: <a href='https://wandb.ai/vladyslav_tymoshchuk/Hw11_1/runs/mtrd1ohh' target=\"_blank\">https://wandb.ai/vladyslav_tymoshchuk/Hw11_1/runs/mtrd1ohh</a><br/>Synced 5 W&B file(s), 0 media file(s), 0 artifact file(s) and 0 other file(s)"
      ],
      "text/plain": [
       "<IPython.core.display.HTML object>"
      ]
     },
     "metadata": {},
     "output_type": "display_data"
    },
    {
     "data": {
      "text/html": [
       "Find logs at: <code>./wandb/run-20230828_205431-mtrd1ohh/logs</code>"
      ],
      "text/plain": [
       "<IPython.core.display.HTML object>"
      ]
     },
     "metadata": {},
     "output_type": "display_data"
    }
   ],
   "source": [
    "wandb.finish()"
   ]
  },
  {
   "cell_type": "code",
   "execution_count": 11,
   "id": "3cacb3b0-e8b3-41ed-8d08-9147c18cae03",
   "metadata": {},
   "outputs": [],
   "source": [
    "def line_plot(history=history):\n",
    "    acc = history.history['acc']\n",
    "    val_acc = history.history['val_acc']\n",
    "    loss = history.history['loss']\n",
    "    val_loss = history.history['val_loss']\n",
    "    \n",
    "    epochs = range(1, len(acc) + 1)\n",
    "    \n",
    "    plt.plot(epochs, acc, 'bo', label='Точність на тренуванні')  # Графік точності на тренувальних данних\n",
    "    plt.plot(epochs, val_acc, 'b', label='Точність на валідації')  # Графік точності на валідаційних данних\n",
    "    plt.title('Точність тренування і валідації')  # Заголовок графіку\n",
    "    plt.legend()  # Показати легенду\n",
    "    \n",
    "    plt.figure()\n",
    "    \n",
    "    plt.plot(epochs, loss, 'bo', label='Втрати на тренуванні')  # Графік втрат на тренувальних данних\n",
    "    plt.plot(epochs, val_loss, 'b', label='Втрати на валідації')  # Графік втрат на валідаційних данних\n",
    "    plt.title('Втрати тренування і валідації')  # Заголовок графіку\n",
    "    plt.legend()  # Показати легенду\n",
    "    \n",
    "    plt.show()  # Відобразити графіки"
   ]
  },
  {
   "cell_type": "code",
   "execution_count": 12,
   "id": "6ee77276-68d6-4530-acac-599304ed55b5",
   "metadata": {},
   "outputs": [],
   "source": [
    "def test_prediction(model=model):\n",
    "    predictions = model.model.predict(data_test)\n",
    "    \n",
    "    # Для отримання зрозумілішого вигляду прогнозів, їх можна перетворити в бінарний формат:\n",
    "    binary_predictions = [1 if pred > 0.5 else 0 for pred in predictions]\n",
    "    \n",
    "    # Для порівняння можна вивести деякі прогнозовані значення поряд з фактичними значеннями\n",
    "    for i in range(10):\n",
    "        print(f\"Прогнозоване: {binary_predictions[i]}, Фактичне: {y_test[i]}\")\n",
    "    \n",
    "    # Додатковий крок: Оцінка моделі\n",
    "    # Це дасть загальну точність моделі на тестових даних\n",
    "    test_loss, test_acc = model.model.evaluate(data_test, y_test)\n",
    "    print('Test Loss: {}'.format(test_loss))\n",
    "    print('Test Accuracy: {}'.format(test_acc))"
   ]
  },
  {
   "cell_type": "code",
   "execution_count": 13,
   "id": "42836d29-85e9-4857-95b9-941a644f1b03",
   "metadata": {},
   "outputs": [
    {
     "data": {
      "image/png": "[encoded data removed]",
      "text/plain": [
       "<Figure size 640x480 with 1 Axes>"
      ]
     },
     "metadata": {},
     "output_type": "display_data"
    },
    {
     "data": {
      "image/png": "[encoded data removed]",
      "text/plain": [
       "<Figure size 640x480 with 1 Axes>"
      ]
     },
     "metadata": {},
     "output_type": "display_data"
    }
   ],
   "source": [
    "line_plot(history)"
   ]
  },
  {
   "cell_type": "code",
   "execution_count": 14,
   "id": "bebc0214-7bd8-43ee-a897-e920be474340",
   "metadata": {},
   "outputs": [
    {
     "name": "stdout",
     "output_type": "stream",
     "text": [
      "782/782 [==============================] - 96s 122ms/step\n",
      "Прогнозоване: 0, Фактичне: 0\n",
      "Прогнозоване: 1, Фактичне: 1\n",
      "Прогнозоване: 0, Фактичне: 1\n",
      "Прогнозоване: 0, Фактичне: 0\n",
      "Прогнозоване: 1, Фактичне: 1\n",
      "Прогнозоване: 0, Фактичне: 1\n",
      "Прогнозоване: 1, Фактичне: 1\n",
      "Прогнозоване: 0, Фактичне: 0\n",
      "Прогнозоване: 1, Фактичне: 0\n",
      "Прогнозоване: 1, Фактичне: 1\n",
      "782/782 [==============================] - 98s 125ms/step - loss: 0.4599 - acc: 0.7990\n",
      "Test Loss: 0.45987898111343384\n",
      "Test Accuracy: 0.7990000247955322\n"
     ]
    }
   ],
   "source": [
    "test_prediction(model)"
   ]
  },
  {
   "cell_type": "markdown",
   "id": "e773fa60-0d42-4f7e-ab7d-03165ffa9d97",
   "metadata": {},
   "source": [
    "# LSTM"
   ]
  },
  {
   "cell_type": "code",
   "execution_count": 15,
   "id": "29a4bb48-7eb0-4c7c-b6fc-11320ade37a7",
   "metadata": {},
   "outputs": [
    {
     "data": {
      "text/html": [
       "wandb version 0.15.9 is available!  To upgrade, please run:\n",
       " $ pip install wandb --upgrade"
      ],
      "text/plain": [
       "<IPython.core.display.HTML object>"
      ]
     },
     "metadata": {},
     "output_type": "display_data"
    },
    {
     "data": {
      "text/html": [
       "Tracking run with wandb version 0.15.8"
      ],
      "text/plain": [
       "<IPython.core.display.HTML object>"
      ]
     },
     "metadata": {},
     "output_type": "display_data"
    },
    {
     "data": {
      "text/html": [
       "Run data is saved locally in <code>/tf-knugs/Hw11/Hw_11/wandb/run-20230828_210742-ar9vstfr</code>"
      ],
      "text/plain": [
       "<IPython.core.display.HTML object>"
      ]
     },
     "metadata": {},
     "output_type": "display_data"
    },
    {
     "data": {
      "text/html": [
       "Syncing run <strong><a href='https://wandb.ai/vladyslav_tymoshchuk/Hw11_1/runs/ar9vstfr' target=\"_blank\">frosty-water-2</a></strong> to <a href='https://wandb.ai/vladyslav_tymoshchuk/Hw11_1' target=\"_blank\">Weights & Biases</a> (<a href='https://wandb.me/run' target=\"_blank\">docs</a>)<br/>"
      ],
      "text/plain": [
       "<IPython.core.display.HTML object>"
      ]
     },
     "metadata": {},
     "output_type": "display_data"
    },
    {
     "data": {
      "text/html": [
       " View project at <a href='https://wandb.ai/vladyslav_tymoshchuk/Hw11_1' target=\"_blank\">https://wandb.ai/vladyslav_tymoshchuk/Hw11_1</a>"
      ],
      "text/plain": [
       "<IPython.core.display.HTML object>"
      ]
     },
     "metadata": {},
     "output_type": "display_data"
    },
    {
     "data": {
      "text/html": [
       " View run at <a href='https://wandb.ai/vladyslav_tymoshchuk/Hw11_1/runs/ar9vstfr' target=\"_blank\">https://wandb.ai/vladyslav_tymoshchuk/Hw11_1/runs/ar9vstfr</a>"
      ],
      "text/plain": [
       "<IPython.core.display.HTML object>"
      ]
     },
     "metadata": {},
     "output_type": "display_data"
    },
    {
     "data": {
      "text/html": [
       "<button onClick=\"this.nextSibling.style.display='block';this.style.display='none';\">Display W&B run</button><iframe src='https://wandb.ai/vladyslav_tymoshchuk/Hw11_1/runs/ar9vstfr?jupyter=true' style='border:none;width:100%;height:420px;display:none;'></iframe>"
      ],
      "text/plain": [
       "<wandb.sdk.wandb_run.Run at 0x7f77d5797130>"
      ]
     },
     "execution_count": 15,
     "metadata": {},
     "output_type": "execute_result"
    }
   ],
   "source": [
    "wandb.init(project=project_name, config={\"epochs\": epochs, \"batch_size\": batch_size, \"validation_split\": validation_split})"
   ]
  },
  {
   "cell_type": "code",
   "execution_count": 16,
   "id": "fe597beb-393c-4109-ba59-bf7aa6629b3f",
   "metadata": {},
   "outputs": [],
   "source": [
    "model = Model(input_train=data_train,\n",
    "                 y_train=y_train,\n",
    "                 var=LSTM(32),\n",
    "                 epochs=epochs,\n",
    "                 batch_size=batch_size,\n",
    "                 validation_split=validation_split)"
   ]
  },
  {
   "cell_type": "code",
   "execution_count": 17,
   "id": "41b4f6de-e3ab-4e5f-83dd-5c9c04850842",
   "metadata": {},
   "outputs": [
    {
     "name": "stdout",
     "output_type": "stream",
     "text": [
      "Model: \"sequential_1\"\n",
      "_________________________________________________________________\n",
      " Layer (type)                Output Shape              Param #   \n",
      "=================================================================\n",
      " embedding_1 (Embedding)     (None, None, 32)          640000    \n",
      "                                                                 \n",
      " lstm (LSTM)                 (None, 32)                8320      \n",
      "                                                                 \n",
      " dense_1 (Dense)             (None, 1)                 33        \n",
      "                                                                 \n",
      "=================================================================\n",
      "Total params: 648353 (2.47 MB)\n",
      "Trainable params: 648353 (2.47 MB)\n",
      "Non-trainable params: 0 (0.00 Byte)\n",
      "_________________________________________________________________\n"
     ]
    }
   ],
   "source": [
    "model_compile = model.compile()\n",
    "sum = model_compile.summary()"
   ]
  },
  {
   "cell_type": "code",
   "execution_count": 18,
   "id": "9cc28f7d-0687-4b50-85fc-b30b01223461",
   "metadata": {},
   "outputs": [
    {
     "name": "stdout",
     "output_type": "stream",
     "text": [
      "Epoch 1/10\n",
      "69/69 [==============================] - 25s 306ms/step - loss: 0.6700 - acc: 0.5945 - val_loss: 0.5487 - val_acc: 0.7332\n",
      "Epoch 2/10\n"
     ]
    },
    {
     "name": "stderr",
     "output_type": "stream",
     "text": [
      "/usr/local/lib/python3.8/dist-packages/keras/src/engine/training.py:3000: UserWarning: You are saving your model as an HDF5 file via `model.save()`. This file format is considered legacy. We recommend using instead the native Keras format, e.g. `model.save('my_model.keras')`.\n",
      "  saving_api.save_model(\n"
     ]
    },
    {
     "name": "stdout",
     "output_type": "stream",
     "text": [
      "69/69 [==============================] - 19s 273ms/step - loss: 0.4854 - acc: 0.7879 - val_loss: 0.4682 - val_acc: 0.7824\n",
      "Epoch 3/10\n",
      "69/69 [==============================] - 19s 272ms/step - loss: 0.3576 - acc: 0.8514 - val_loss: 0.3420 - val_acc: 0.8552\n",
      "Epoch 4/10\n",
      "69/69 [==============================] - 17s 246ms/step - loss: 0.3002 - acc: 0.8829 - val_loss: 0.3424 - val_acc: 0.8519\n",
      "Epoch 5/10\n",
      "69/69 [==============================] - 18s 256ms/step - loss: 0.2441 - acc: 0.9095 - val_loss: 0.2958 - val_acc: 0.8835\n",
      "Epoch 6/10\n",
      "69/69 [==============================] - 16s 230ms/step - loss: 0.2224 - acc: 0.9171 - val_loss: 0.3962 - val_acc: 0.8495\n",
      "Epoch 7/10\n",
      "69/69 [==============================] - 14s 212ms/step - loss: 0.1866 - acc: 0.9341 - val_loss: 0.2961 - val_acc: 0.8824\n",
      "Epoch 7: early stopping\n"
     ]
    }
   ],
   "source": [
    "history = model.fit()"
   ]
  },
  {
   "cell_type": "code",
   "execution_count": 19,
   "id": "7f05b9cf-fd08-427f-b034-cb55c3384462",
   "metadata": {},
   "outputs": [
    {
     "data": {
      "text/html": [
       "Waiting for W&B process to finish... <strong style=\"color:green\">(success).</strong>"
      ],
      "text/plain": [
       "<IPython.core.display.HTML object>"
      ]
     },
     "metadata": {},
     "output_type": "display_data"
    },
    {
     "data": {
      "text/html": [
       "<style>\n",
       "    table.wandb td:nth-child(1) { padding: 0 10px; text-align: left ; width: auto;} td:nth-child(2) {text-align: left ; width: 100%}\n",
       "    .wandb-row { display: flex; flex-direction: row; flex-wrap: wrap; justify-content: flex-start; width: 100% }\n",
       "    .wandb-col { display: flex; flex-direction: column; flex-basis: 100%; flex: 1; padding: 10px; }\n",
       "    </style>\n",
       "<div class=\"wandb-row\"><div class=\"wandb-col\"><h3>Run history:</h3><br/><table class=\"wandb\"><tr><td>epoch/acc</td><td>▁▅▆▇▇██</td></tr><tr><td>epoch/epoch</td><td>▁▂▃▅▆▇█</td></tr><tr><td>epoch/learning_rate</td><td>▁▁▁▁▁▁▁</td></tr><tr><td>epoch/loss</td><td>█▅▃▃▂▂▁</td></tr><tr><td>epoch/val_acc</td><td>▁▃▇▇█▆█</td></tr><tr><td>epoch/val_loss</td><td>█▆▂▂▁▄▁</td></tr></table><br/></div><div class=\"wandb-col\"><h3>Run summary:</h3><br/><table class=\"wandb\"><tr><td>epoch/acc</td><td>0.93411</td></tr><tr><td>epoch/epoch</td><td>6</td></tr><tr><td>epoch/learning_rate</td><td>0.001</td></tr><tr><td>epoch/loss</td><td>0.18662</td></tr><tr><td>epoch/val_acc</td><td>0.8824</td></tr><tr><td>epoch/val_loss</td><td>0.29611</td></tr></table><br/></div></div>"
      ],
      "text/plain": [
       "<IPython.core.display.HTML object>"
      ]
     },
     "metadata": {},
     "output_type": "display_data"
    },
    {
     "data": {
      "text/html": [
       " View run <strong style=\"color:#cdcd00\">frosty-water-2</strong> at: <a href='https://wandb.ai/vladyslav_tymoshchuk/Hw11_1/runs/ar9vstfr' target=\"_blank\">https://wandb.ai/vladyslav_tymoshchuk/Hw11_1/runs/ar9vstfr</a><br/>Synced 5 W&B file(s), 0 media file(s), 0 artifact file(s) and 0 other file(s)"
      ],
      "text/plain": [
       "<IPython.core.display.HTML object>"
      ]
     },
     "metadata": {},
     "output_type": "display_data"
    },
    {
     "data": {
      "text/html": [
       "Find logs at: <code>./wandb/run-20230828_210742-ar9vstfr/logs</code>"
      ],
      "text/plain": [
       "<IPython.core.display.HTML object>"
      ]
     },
     "metadata": {},
     "output_type": "display_data"
    }
   ],
   "source": [
    "wandb.finish()"
   ]
  },
  {
   "cell_type": "code",
   "execution_count": 20,
   "id": "7a927126-aa7c-4bc3-8743-1e73538621d9",
   "metadata": {},
   "outputs": [
    {
     "data": {
      "image/png": "[encoded data removed]",
      "text/plain": [
       "<Figure size 640x480 with 1 Axes>"
      ]
     },
     "metadata": {},
     "output_type": "display_data"
    },
    {
     "data": {
      "image/png": "[encoded data removed]",
      "text/plain": [
       "<Figure size 640x480 with 1 Axes>"
      ]
     },
     "metadata": {},
     "output_type": "display_data"
    }
   ],
   "source": [
    "line_plot(history)"
   ]
  },
  {
   "cell_type": "code",
   "execution_count": 21,
   "id": "3008d5a6-f558-4836-a0da-7ec3b6301ff6",
   "metadata": {},
   "outputs": [
    {
     "name": "stdout",
     "output_type": "stream",
     "text": [
      "782/782 [==============================] - 24s 30ms/step\n",
      "Прогнозоване: 0, Фактичне: 0\n",
      "Прогнозоване: 1, Фактичне: 1\n",
      "Прогнозоване: 0, Фактичне: 1\n",
      "Прогнозоване: 0, Фактичне: 0\n",
      "Прогнозоване: 1, Фактичне: 1\n",
      "Прогнозоване: 1, Фактичне: 1\n",
      "Прогнозоване: 1, Фактичне: 1\n",
      "Прогнозоване: 0, Фактичне: 0\n",
      "Прогнозоване: 1, Фактичне: 0\n",
      "Прогнозоване: 1, Фактичне: 1\n",
      "782/782 [==============================] - 28s 36ms/step - loss: 0.3155 - acc: 0.8765\n",
      "Test Loss: 0.31548985838890076\n",
      "Test Accuracy: 0.8765199780464172\n"
     ]
    }
   ],
   "source": [
    "test_prediction(model)"
   ]
  },
  {
   "cell_type": "markdown",
   "id": "8e64f707-9837-4672-83db-b09fb7d18629",
   "metadata": {},
   "source": [
    "# Bidirectional(LSTM(32))"
   ]
  },
  {
   "cell_type": "code",
   "execution_count": 53,
   "id": "5d25a8ba-6abe-42e8-94d4-6ea398c37e9d",
   "metadata": {},
   "outputs": [
    {
     "data": {
      "text/html": [
       "wandb version 0.15.9 is available!  To upgrade, please run:\n",
       " $ pip install wandb --upgrade"
      ],
      "text/plain": [
       "<IPython.core.display.HTML object>"
      ]
     },
     "metadata": {},
     "output_type": "display_data"
    },
    {
     "data": {
      "text/html": [
       "Tracking run with wandb version 0.15.8"
      ],
      "text/plain": [
       "<IPython.core.display.HTML object>"
      ]
     },
     "metadata": {},
     "output_type": "display_data"
    },
    {
     "data": {
      "text/html": [
       "Run data is saved locally in <code>/tf-knugs/Hw11/Hw_11/wandb/run-20230828_214232-vfs1k2cr</code>"
      ],
      "text/plain": [
       "<IPython.core.display.HTML object>"
      ]
     },
     "metadata": {},
     "output_type": "display_data"
    },
    {
     "data": {
      "text/html": [
       "Syncing run <strong><a href='https://wandb.ai/vladyslav_tymoshchuk/Hw11_1/runs/vfs1k2cr' target=\"_blank\">scarlet-blaze-7</a></strong> to <a href='https://wandb.ai/vladyslav_tymoshchuk/Hw11_1' target=\"_blank\">Weights & Biases</a> (<a href='https://wandb.me/run' target=\"_blank\">docs</a>)<br/>"
      ],
      "text/plain": [
       "<IPython.core.display.HTML object>"
      ]
     },
     "metadata": {},
     "output_type": "display_data"
    },
    {
     "data": {
      "text/html": [
       " View project at <a href='https://wandb.ai/vladyslav_tymoshchuk/Hw11_1' target=\"_blank\">https://wandb.ai/vladyslav_tymoshchuk/Hw11_1</a>"
      ],
      "text/plain": [
       "<IPython.core.display.HTML object>"
      ]
     },
     "metadata": {},
     "output_type": "display_data"
    },
    {
     "data": {
      "text/html": [
       " View run at <a href='https://wandb.ai/vladyslav_tymoshchuk/Hw11_1/runs/vfs1k2cr' target=\"_blank\">https://wandb.ai/vladyslav_tymoshchuk/Hw11_1/runs/vfs1k2cr</a>"
      ],
      "text/plain": [
       "<IPython.core.display.HTML object>"
      ]
     },
     "metadata": {},
     "output_type": "display_data"
    },
    {
     "data": {
      "text/html": [
       "<button onClick=\"this.nextSibling.style.display='block';this.style.display='none';\">Display W&B run</button><iframe src='https://wandb.ai/vladyslav_tymoshchuk/Hw11_1/runs/vfs1k2cr?jupyter=true' style='border:none;width:100%;height:420px;display:none;'></iframe>"
      ],
      "text/plain": [
       "<wandb.sdk.wandb_run.Run at 0x7f7868d55190>"
      ]
     },
     "execution_count": 53,
     "metadata": {},
     "output_type": "execute_result"
    }
   ],
   "source": [
    "wandb.init(project=project_name, config={\"epochs\": epochs, \"batch_size\": batch_size, \"validation_split\": validation_split})"
   ]
  },
  {
   "cell_type": "code",
   "execution_count": 56,
   "id": "f791782c-1c86-4527-b01f-fcb8e5f1ab49",
   "metadata": {},
   "outputs": [],
   "source": [
    "model = Model(input_train=data_train,\n",
    "                 y_train=y_train,\n",
    "                 var=Bidirectional(LSTM(32)),\n",
    "                 epochs=epochs,\n",
    "                 batch_size=batch_size,\n",
    "                 validation_split=validation_split)"
   ]
  },
  {
   "cell_type": "code",
   "execution_count": 57,
   "id": "ac2540cb-ea34-4e2c-a5b3-2d74556453fa",
   "metadata": {},
   "outputs": [
    {
     "name": "stdout",
     "output_type": "stream",
     "text": [
      "Model: \"sequential_6\"\n",
      "_________________________________________________________________\n",
      " Layer (type)                Output Shape              Param #   \n",
      "=================================================================\n",
      " embedding_6 (Embedding)     (None, None, 32)          640000    \n",
      "                                                                 \n",
      " bidirectional_8 (Bidirecti  (None, 64)                16640     \n",
      " onal)                                                           \n",
      "                                                                 \n",
      " dense_6 (Dense)             (None, 1)                 65        \n",
      "                                                                 \n",
      "=================================================================\n",
      "Total params: 656705 (2.51 MB)\n",
      "Trainable params: 656705 (2.51 MB)\n",
      "Non-trainable params: 0 (0.00 Byte)\n",
      "_________________________________________________________________\n"
     ]
    }
   ],
   "source": [
    "model_compile = model.compile()\n",
    "sum = model_compile.summary()"
   ]
  },
  {
   "cell_type": "code",
   "execution_count": 58,
   "id": "03e516cb-a522-46bf-a29c-805bebafce57",
   "metadata": {},
   "outputs": [
    {
     "name": "stdout",
     "output_type": "stream",
     "text": [
      "Epoch 1/50\n",
      "69/69 [==============================] - 28s 342ms/step - loss: 0.6890 - acc: 0.5508 - val_loss: 0.6489 - val_acc: 0.7029\n",
      "Epoch 2/50\n"
     ]
    },
    {
     "name": "stderr",
     "output_type": "stream",
     "text": [
      "/usr/local/lib/python3.8/dist-packages/keras/src/engine/training.py:3000: UserWarning: You are saving your model as an HDF5 file via `model.save()`. This file format is considered legacy. We recommend using instead the native Keras format, e.g. `model.save('my_model.keras')`.\n",
      "  saving_api.save_model(\n"
     ]
    },
    {
     "name": "stdout",
     "output_type": "stream",
     "text": [
      "69/69 [==============================] - 22s 316ms/step - loss: 0.5611 - acc: 0.7413 - val_loss: 0.4759 - val_acc: 0.7752\n",
      "Epoch 3/50\n",
      "69/69 [==============================] - 21s 308ms/step - loss: 0.4103 - acc: 0.8317 - val_loss: 0.4021 - val_acc: 0.8325\n",
      "Epoch 4/50\n",
      "69/69 [==============================] - 20s 290ms/step - loss: 0.3273 - acc: 0.8717 - val_loss: 0.4309 - val_acc: 0.8221\n",
      "Epoch 5/50\n",
      "69/69 [==============================] - 20s 288ms/step - loss: 0.2747 - acc: 0.8961 - val_loss: 0.3155 - val_acc: 0.8663\n",
      "Epoch 6/50\n",
      "69/69 [==============================] - 17s 252ms/step - loss: 0.2368 - acc: 0.9103 - val_loss: 0.2941 - val_acc: 0.8828\n",
      "Epoch 7/50\n",
      "69/69 [==============================] - 18s 261ms/step - loss: 0.2021 - acc: 0.9257 - val_loss: 0.2929 - val_acc: 0.8864\n",
      "Epoch 8/50\n",
      "69/69 [==============================] - 17s 240ms/step - loss: 0.1838 - acc: 0.9341 - val_loss: 0.3661 - val_acc: 0.8619\n",
      "Epoch 9/50\n",
      "69/69 [==============================] - 19s 270ms/step - loss: 0.1543 - acc: 0.9458 - val_loss: 0.3416 - val_acc: 0.8792\n",
      "Epoch 9: early stopping\n"
     ]
    }
   ],
   "source": [
    "history = model.fit()"
   ]
  },
  {
   "cell_type": "code",
   "execution_count": 59,
   "id": "9a58f201-22ce-482f-b980-49e13b7519a7",
   "metadata": {},
   "outputs": [
    {
     "data": {
      "text/html": [
       "Waiting for W&B process to finish... <strong style=\"color:green\">(success).</strong>"
      ],
      "text/plain": [
       "<IPython.core.display.HTML object>"
      ]
     },
     "metadata": {},
     "output_type": "display_data"
    },
    {
     "data": {
      "text/html": [
       "<style>\n",
       "    table.wandb td:nth-child(1) { padding: 0 10px; text-align: left ; width: auto;} td:nth-child(2) {text-align: left ; width: 100%}\n",
       "    .wandb-row { display: flex; flex-direction: row; flex-wrap: wrap; justify-content: flex-start; width: 100% }\n",
       "    .wandb-col { display: flex; flex-direction: column; flex-basis: 100%; flex: 1; padding: 10px; }\n",
       "    </style>\n",
       "<div class=\"wandb-row\"><div class=\"wandb-col\"><h3>Run history:</h3><br/><table class=\"wandb\"><tr><td>epoch/acc</td><td>▁▄▆▇▇▇███</td></tr><tr><td>epoch/epoch</td><td>▁▂▃▄▅▅▆▇█</td></tr><tr><td>epoch/learning_rate</td><td>▁▁▁▁▁▁▁▁▁</td></tr><tr><td>epoch/loss</td><td>█▆▄▃▃▂▂▁▁</td></tr><tr><td>epoch/val_acc</td><td>▁▄▆▆▇██▇█</td></tr><tr><td>epoch/val_loss</td><td>█▅▃▄▁▁▁▂▂</td></tr></table><br/></div><div class=\"wandb-col\"><h3>Run summary:</h3><br/><table class=\"wandb\"><tr><td>epoch/acc</td><td>0.94577</td></tr><tr><td>epoch/epoch</td><td>8</td></tr><tr><td>epoch/learning_rate</td><td>0.001</td></tr><tr><td>epoch/loss</td><td>0.15434</td></tr><tr><td>epoch/val_acc</td><td>0.8792</td></tr><tr><td>epoch/val_loss</td><td>0.3416</td></tr></table><br/></div></div>"
      ],
      "text/plain": [
       "<IPython.core.display.HTML object>"
      ]
     },
     "metadata": {},
     "output_type": "display_data"
    },
    {
     "data": {
      "text/html": [
       " View run <strong style=\"color:#cdcd00\">scarlet-blaze-7</strong> at: <a href='https://wandb.ai/vladyslav_tymoshchuk/Hw11_1/runs/vfs1k2cr' target=\"_blank\">https://wandb.ai/vladyslav_tymoshchuk/Hw11_1/runs/vfs1k2cr</a><br/>Synced 5 W&B file(s), 0 media file(s), 0 artifact file(s) and 0 other file(s)"
      ],
      "text/plain": [
       "<IPython.core.display.HTML object>"
      ]
     },
     "metadata": {},
     "output_type": "display_data"
    },
    {
     "data": {
      "text/html": [
       "Find logs at: <code>./wandb/run-20230828_214232-vfs1k2cr/logs</code>"
      ],
      "text/plain": [
       "<IPython.core.display.HTML object>"
      ]
     },
     "metadata": {},
     "output_type": "display_data"
    }
   ],
   "source": [
    "wandb.finish()"
   ]
  },
  {
   "cell_type": "code",
   "execution_count": 60,
   "id": "cb37196e-bc8e-417b-8a1b-01a0fd097d9b",
   "metadata": {},
   "outputs": [
    {
     "data": {
      "image/png": "[encoded data removed]",
      "text/plain": [
       "<Figure size 640x480 with 1 Axes>"
      ]
     },
     "metadata": {},
     "output_type": "display_data"
    },
    {
     "data": {
      "image/png": "[encoded data removed]",
      "text/plain": [
       "<Figure size 640x480 with 1 Axes>"
      ]
     },
     "metadata": {},
     "output_type": "display_data"
    }
   ],
   "source": [
    "line_plot(history)"
   ]
  },
  {
   "cell_type": "code",
   "execution_count": 61,
   "id": "16d56f28-b36f-4acd-a2df-fe5845311e22",
   "metadata": {},
   "outputs": [
    {
     "name": "stdout",
     "output_type": "stream",
     "text": [
      "782/782 [==============================] - 51s 64ms/step\n",
      "Прогнозоване: 0, Фактичне: 0\n",
      "Прогнозоване: 1, Фактичне: 1\n",
      "Прогнозоване: 1, Фактичне: 1\n",
      "Прогнозоване: 1, Фактичне: 0\n",
      "Прогнозоване: 1, Фактичне: 1\n",
      "Прогнозоване: 1, Фактичне: 1\n",
      "Прогнозоване: 1, Фактичне: 1\n",
      "Прогнозоване: 0, Фактичне: 0\n",
      "Прогнозоване: 1, Фактичне: 0\n",
      "Прогнозоване: 1, Фактичне: 1\n",
      "782/782 [==============================] - 47s 60ms/step - loss: 0.3652 - acc: 0.8671\n",
      "Test Loss: 0.36519908905029297\n",
      "Test Accuracy: 0.8671200275421143\n"
     ]
    }
   ],
   "source": [
    "test_prediction(model)"
   ]
  },
  {
   "cell_type": "markdown",
   "id": "020400f4-3eb9-4d4e-9d79-cceab1c366b4",
   "metadata": {},
   "source": [
    "# Bidirectional(GRU(32))"
   ]
  },
  {
   "cell_type": "code",
   "execution_count": 29,
   "id": "a77a72cc-6399-4302-a412-b7dd306d53fc",
   "metadata": {},
   "outputs": [
    {
     "data": {
      "text/html": [
       "wandb version 0.15.9 is available!  To upgrade, please run:\n",
       " $ pip install wandb --upgrade"
      ],
      "text/plain": [
       "<IPython.core.display.HTML object>"
      ]
     },
     "metadata": {},
     "output_type": "display_data"
    },
    {
     "data": {
      "text/html": [
       "Tracking run with wandb version 0.15.8"
      ],
      "text/plain": [
       "<IPython.core.display.HTML object>"
      ]
     },
     "metadata": {},
     "output_type": "display_data"
    },
    {
     "data": {
      "text/html": [
       "Run data is saved locally in <code>/tf-knugs/Hw11/Hw_11/wandb/run-20230828_211558-j3svv170</code>"
      ],
      "text/plain": [
       "<IPython.core.display.HTML object>"
      ]
     },
     "metadata": {},
     "output_type": "display_data"
    },
    {
     "data": {
      "text/html": [
       "Syncing run <strong><a href='https://wandb.ai/vladyslav_tymoshchuk/Hw11_1/runs/j3svv170' target=\"_blank\">rich-dawn-4</a></strong> to <a href='https://wandb.ai/vladyslav_tymoshchuk/Hw11_1' target=\"_blank\">Weights & Biases</a> (<a href='https://wandb.me/run' target=\"_blank\">docs</a>)<br/>"
      ],
      "text/plain": [
       "<IPython.core.display.HTML object>"
      ]
     },
     "metadata": {},
     "output_type": "display_data"
    },
    {
     "data": {
      "text/html": [
       " View project at <a href='https://wandb.ai/vladyslav_tymoshchuk/Hw11_1' target=\"_blank\">https://wandb.ai/vladyslav_tymoshchuk/Hw11_1</a>"
      ],
      "text/plain": [
       "<IPython.core.display.HTML object>"
      ]
     },
     "metadata": {},
     "output_type": "display_data"
    },
    {
     "data": {
      "text/html": [
       " View run at <a href='https://wandb.ai/vladyslav_tymoshchuk/Hw11_1/runs/j3svv170' target=\"_blank\">https://wandb.ai/vladyslav_tymoshchuk/Hw11_1/runs/j3svv170</a>"
      ],
      "text/plain": [
       "<IPython.core.display.HTML object>"
      ]
     },
     "metadata": {},
     "output_type": "display_data"
    },
    {
     "data": {
      "text/html": [
       "<button onClick=\"this.nextSibling.style.display='block';this.style.display='none';\">Display W&B run</button><iframe src='https://wandb.ai/vladyslav_tymoshchuk/Hw11_1/runs/j3svv170?jupyter=true' style='border:none;width:100%;height:420px;display:none;'></iframe>"
      ],
      "text/plain": [
       "<wandb.sdk.wandb_run.Run at 0x7f77d5904c10>"
      ]
     },
     "execution_count": 29,
     "metadata": {},
     "output_type": "execute_result"
    }
   ],
   "source": [
    "wandb.init(project=project_name, config={\"epochs\": epochs, \"batch_size\": batch_size, \"validation_split\": validation_split})"
   ]
  },
  {
   "cell_type": "code",
   "execution_count": 30,
   "id": "9f5d645d-f3b7-43a5-8d90-0f43b5a3e537",
   "metadata": {},
   "outputs": [],
   "source": [
    "model = Model(input_train=data_train,\n",
    "                 y_train=y_train,\n",
    "                 var=Bidirectional(GRU(32)),\n",
    "                 epochs=epochs,\n",
    "                 batch_size=batch_size,\n",
    "                 validation_split=validation_split)"
   ]
  },
  {
   "cell_type": "code",
   "execution_count": 31,
   "id": "34d214f6-cc6c-400f-b036-188b6a2a5369",
   "metadata": {},
   "outputs": [
    {
     "name": "stdout",
     "output_type": "stream",
     "text": [
      "Model: \"sequential_3\"\n",
      "_________________________________________________________________\n",
      " Layer (type)                Output Shape              Param #   \n",
      "=================================================================\n",
      " embedding_3 (Embedding)     (None, None, 32)          640000    \n",
      "                                                                 \n",
      " bidirectional_1 (Bidirecti  (None, 64)                12672     \n",
      " onal)                                                           \n",
      "                                                                 \n",
      " dense_3 (Dense)             (None, 1)                 65        \n",
      "                                                                 \n",
      "=================================================================\n",
      "Total params: 652737 (2.49 MB)\n",
      "Trainable params: 652737 (2.49 MB)\n",
      "Non-trainable params: 0 (0.00 Byte)\n",
      "_________________________________________________________________\n"
     ]
    }
   ],
   "source": [
    "model_compile = model.compile()\n",
    "sum = model_compile.summary()"
   ]
  },
  {
   "cell_type": "code",
   "execution_count": 32,
   "id": "8c1ead68-c2b5-4e6b-8873-1e9018880796",
   "metadata": {},
   "outputs": [
    {
     "name": "stdout",
     "output_type": "stream",
     "text": [
      "Epoch 1/10\n",
      "69/69 [==============================] - 28s 343ms/step - loss: 0.6900 - acc: 0.5403 - val_loss: 0.6839 - val_acc: 0.5809\n",
      "Epoch 2/10\n"
     ]
    },
    {
     "name": "stderr",
     "output_type": "stream",
     "text": [
      "/usr/local/lib/python3.8/dist-packages/keras/src/engine/training.py:3000: UserWarning: You are saving your model as an HDF5 file via `model.save()`. This file format is considered legacy. We recommend using instead the native Keras format, e.g. `model.save('my_model.keras')`.\n",
      "  saving_api.save_model(\n"
     ]
    },
    {
     "name": "stdout",
     "output_type": "stream",
     "text": [
      "69/69 [==============================] - 20s 290ms/step - loss: 0.6251 - acc: 0.6651 - val_loss: 0.4789 - val_acc: 0.7735\n",
      "Epoch 3/10\n",
      "69/69 [==============================] - 20s 297ms/step - loss: 0.4189 - acc: 0.8128 - val_loss: 0.3793 - val_acc: 0.8312\n",
      "Epoch 4/10\n",
      "69/69 [==============================] - 19s 276ms/step - loss: 0.3224 - acc: 0.8650 - val_loss: 0.3747 - val_acc: 0.8353\n",
      "Epoch 5/10\n",
      "69/69 [==============================] - 19s 280ms/step - loss: 0.2679 - acc: 0.8927 - val_loss: 0.3696 - val_acc: 0.8485\n",
      "Epoch 6/10\n",
      "69/69 [==============================] - 18s 258ms/step - loss: 0.2176 - acc: 0.9166 - val_loss: 0.3200 - val_acc: 0.8677\n",
      "Epoch 7/10\n",
      "69/69 [==============================] - 18s 262ms/step - loss: 0.2025 - acc: 0.9265 - val_loss: 0.3280 - val_acc: 0.8737\n",
      "Epoch 8/10\n",
      "69/69 [==============================] - 18s 256ms/step - loss: 0.1740 - acc: 0.9375 - val_loss: 0.3444 - val_acc: 0.8621\n",
      "Epoch 9/10\n",
      "69/69 [==============================] - 17s 248ms/step - loss: 0.1560 - acc: 0.9429 - val_loss: 0.3574 - val_acc: 0.8551\n",
      "Epoch 9: early stopping\n"
     ]
    }
   ],
   "source": [
    "history = model.fit()"
   ]
  },
  {
   "cell_type": "code",
   "execution_count": 33,
   "id": "a86ab13c-a37e-412c-b2dd-faa1b6dd372a",
   "metadata": {},
   "outputs": [
    {
     "data": {
      "text/html": [
       "Waiting for W&B process to finish... <strong style=\"color:green\">(success).</strong>"
      ],
      "text/plain": [
       "<IPython.core.display.HTML object>"
      ]
     },
     "metadata": {},
     "output_type": "display_data"
    },
    {
     "data": {
      "text/html": [
       "<style>\n",
       "    table.wandb td:nth-child(1) { padding: 0 10px; text-align: left ; width: auto;} td:nth-child(2) {text-align: left ; width: 100%}\n",
       "    .wandb-row { display: flex; flex-direction: row; flex-wrap: wrap; justify-content: flex-start; width: 100% }\n",
       "    .wandb-col { display: flex; flex-direction: column; flex-basis: 100%; flex: 1; padding: 10px; }\n",
       "    </style>\n",
       "<div class=\"wandb-row\"><div class=\"wandb-col\"><h3>Run history:</h3><br/><table class=\"wandb\"><tr><td>epoch/acc</td><td>▁▃▆▇▇████</td></tr><tr><td>epoch/epoch</td><td>▁▂▃▄▅▅▆▇█</td></tr><tr><td>epoch/learning_rate</td><td>▁▁▁▁▁▁▁▁▁</td></tr><tr><td>epoch/loss</td><td>█▇▄▃▂▂▂▁▁</td></tr><tr><td>epoch/val_acc</td><td>▁▆▇▇▇████</td></tr><tr><td>epoch/val_loss</td><td>█▄▂▂▂▁▁▁▂</td></tr></table><br/></div><div class=\"wandb-col\"><h3>Run summary:</h3><br/><table class=\"wandb\"><tr><td>epoch/acc</td><td>0.94286</td></tr><tr><td>epoch/epoch</td><td>8</td></tr><tr><td>epoch/learning_rate</td><td>0.001</td></tr><tr><td>epoch/loss</td><td>0.15602</td></tr><tr><td>epoch/val_acc</td><td>0.85507</td></tr><tr><td>epoch/val_loss</td><td>0.35736</td></tr></table><br/></div></div>"
      ],
      "text/plain": [
       "<IPython.core.display.HTML object>"
      ]
     },
     "metadata": {},
     "output_type": "display_data"
    },
    {
     "data": {
      "text/html": [
       " View run <strong style=\"color:#cdcd00\">rich-dawn-4</strong> at: <a href='https://wandb.ai/vladyslav_tymoshchuk/Hw11_1/runs/j3svv170' target=\"_blank\">https://wandb.ai/vladyslav_tymoshchuk/Hw11_1/runs/j3svv170</a><br/>Synced 5 W&B file(s), 0 media file(s), 0 artifact file(s) and 0 other file(s)"
      ],
      "text/plain": [
       "<IPython.core.display.HTML object>"
      ]
     },
     "metadata": {},
     "output_type": "display_data"
    },
    {
     "data": {
      "text/html": [
       "Find logs at: <code>./wandb/run-20230828_211558-j3svv170/logs</code>"
      ],
      "text/plain": [
       "<IPython.core.display.HTML object>"
      ]
     },
     "metadata": {},
     "output_type": "display_data"
    }
   ],
   "source": [
    "wandb.finish()"
   ]
  },
  {
   "cell_type": "code",
   "execution_count": 34,
   "id": "9c3844e6-6914-4bc1-8284-3ba669cae0ab",
   "metadata": {},
   "outputs": [
    {
     "data": {
      "image/png": "[encoded data removed]",
      "text/plain": [
       "<Figure size 640x480 with 1 Axes>"
      ]
     },
     "metadata": {},
     "output_type": "display_data"
    },
    {
     "data": {
      "image/png": "[encoded data removed]",
      "text/plain": [
       "<Figure size 640x480 with 1 Axes>"
      ]
     },
     "metadata": {},
     "output_type": "display_data"
    }
   ],
   "source": [
    "line_plot(history)"
   ]
  },
  {
   "cell_type": "code",
   "execution_count": 35,
   "id": "da5c88d5-d89e-4145-af80-667457437537",
   "metadata": {},
   "outputs": [
    {
     "name": "stdout",
     "output_type": "stream",
     "text": [
      "782/782 [==============================] - 44s 55ms/step\n",
      "Прогнозоване: 1, Фактичне: 0\n",
      "Прогнозоване: 1, Фактичне: 1\n",
      "Прогнозоване: 1, Фактичне: 1\n",
      "Прогнозоване: 1, Фактичне: 0\n",
      "Прогнозоване: 1, Фактичне: 1\n",
      "Прогнозоване: 1, Фактичне: 1\n",
      "Прогнозоване: 1, Фактичне: 1\n",
      "Прогнозоване: 0, Фактичне: 0\n",
      "Прогнозоване: 1, Фактичне: 0\n",
      "Прогнозоване: 1, Фактичне: 1\n",
      "782/782 [==============================] - 50s 64ms/step - loss: 0.3652 - acc: 0.8496\n",
      "Test Loss: 0.36517518758773804\n",
      "Test Accuracy: 0.8496400117874146\n"
     ]
    }
   ],
   "source": [
    "test_prediction(model)"
   ]
  },
  {
   "cell_type": "markdown",
   "id": "a6b0ca66-3430-4ffc-a05d-a0061eacbfc1",
   "metadata": {},
   "source": [
    "# Глибока"
   ]
  },
  {
   "cell_type": "code",
   "execution_count": 44,
   "id": "04b2a287-ca81-4811-8298-c05847f3a23e",
   "metadata": {},
   "outputs": [],
   "source": [
    "class Model:\n",
    "    def __init__(self, input_train, y_train, epochs, batch_size, validation_split):\n",
    "        \n",
    "        self.input_train = input_train\n",
    "        self.y_train = y_train\n",
    "        self.epochs = epochs\n",
    "        self.batch_size = batch_size\n",
    "        self.validation_split = validation_split\n",
    "\n",
    "        self.callback_early_stopping = EarlyStopping(monitor=\"val_acc\", patience=2, verbose=1, mode=\"max\")\n",
    "        self.callback_save = ModelCheckpoint(\"best_Hw11.hdf5\", monitor=\"val_loss\", save_best_only=True)\n",
    "\n",
    "        self.model = Sequential()\n",
    "        self.model.add(Embedding(max_features, 32))\n",
    "        self.model.add(Bidirectional(LSTM(32, return_sequences=True)))\n",
    "        self.model.add(Dropout(0.2))\n",
    "        self.model.add(Bidirectional(LSTM(32, return_sequences=True)))\n",
    "        self.model.add(Dropout(0.2))\n",
    "        self.model.add(Bidirectional(LSTM(32, return_sequences=True)))\n",
    "        self.model.add(Dropout(0.2))\n",
    "        self.model.add(Bidirectional(LSTM(32)))\n",
    "        self.model.add(Dense(1, activation='sigmoid'))\n",
    "\n",
    "    Bidirectional(LSTM(32))\n",
    "\n",
    "    def compile(self):\n",
    "        self.model.compile(optimizer='rmsprop', loss='binary_crossentropy', metrics=['acc'])\n",
    "        return self.model\n",
    "\n",
    "    def summary(self):\n",
    "        self.model.summary()\n",
    "        return self.model\n",
    "\n",
    "    def fit(self):\n",
    "        fits = self.model.fit(self.input_train,\n",
    "                              self.y_train,\n",
    "                              epochs=self.epochs,\n",
    "                              batch_size=self.batch_size,\n",
    "                              validation_split=self.validation_split,\n",
    "                              callbacks=[self.callback_early_stopping, WandbMetricsLogger(), self.callback_save])\n",
    "        return fits\n",
    "\n",
    "    def predict(self):\n",
    "        return model.predict(data_test)"
   ]
  },
  {
   "cell_type": "code",
   "execution_count": 45,
   "id": "a298d27b-5591-4885-ade3-197a44f20024",
   "metadata": {},
   "outputs": [
    {
     "data": {
      "text/html": [
       "wandb version 0.15.9 is available!  To upgrade, please run:\n",
       " $ pip install wandb --upgrade"
      ],
      "text/plain": [
       "<IPython.core.display.HTML object>"
      ]
     },
     "metadata": {},
     "output_type": "display_data"
    },
    {
     "data": {
      "text/html": [
       "Tracking run with wandb version 0.15.8"
      ],
      "text/plain": [
       "<IPython.core.display.HTML object>"
      ]
     },
     "metadata": {},
     "output_type": "display_data"
    },
    {
     "data": {
      "text/html": [
       "Run data is saved locally in <code>/tf-knugs/Hw11/Hw_11/wandb/run-20230828_212830-nrak9nyv</code>"
      ],
      "text/plain": [
       "<IPython.core.display.HTML object>"
      ]
     },
     "metadata": {},
     "output_type": "display_data"
    },
    {
     "data": {
      "text/html": [
       "Syncing run <strong><a href='https://wandb.ai/vladyslav_tymoshchuk/Hw11_1/runs/nrak9nyv' target=\"_blank\">rose-pine-6</a></strong> to <a href='https://wandb.ai/vladyslav_tymoshchuk/Hw11_1' target=\"_blank\">Weights & Biases</a> (<a href='https://wandb.me/run' target=\"_blank\">docs</a>)<br/>"
      ],
      "text/plain": [
       "<IPython.core.display.HTML object>"
      ]
     },
     "metadata": {},
     "output_type": "display_data"
    },
    {
     "data": {
      "text/html": [
       " View project at <a href='https://wandb.ai/vladyslav_tymoshchuk/Hw11_1' target=\"_blank\">https://wandb.ai/vladyslav_tymoshchuk/Hw11_1</a>"
      ],
      "text/plain": [
       "<IPython.core.display.HTML object>"
      ]
     },
     "metadata": {},
     "output_type": "display_data"
    },
    {
     "data": {
      "text/html": [
       " View run at <a href='https://wandb.ai/vladyslav_tymoshchuk/Hw11_1/runs/nrak9nyv' target=\"_blank\">https://wandb.ai/vladyslav_tymoshchuk/Hw11_1/runs/nrak9nyv</a>"
      ],
      "text/plain": [
       "<IPython.core.display.HTML object>"
      ]
     },
     "metadata": {},
     "output_type": "display_data"
    },
    {
     "data": {
      "text/html": [
       "<button onClick=\"this.nextSibling.style.display='block';this.style.display='none';\">Display W&B run</button><iframe src='https://wandb.ai/vladyslav_tymoshchuk/Hw11_1/runs/nrak9nyv?jupyter=true' style='border:none;width:100%;height:420px;display:none;'></iframe>"
      ],
      "text/plain": [
       "<wandb.sdk.wandb_run.Run at 0x7f7869051100>"
      ]
     },
     "execution_count": 45,
     "metadata": {},
     "output_type": "execute_result"
    }
   ],
   "source": [
    "wandb.init(project=project_name, config={\"epochs\": epochs, \"batch_size\": batch_size, \"validation_split\": validation_split})"
   ]
  },
  {
   "cell_type": "code",
   "execution_count": 46,
   "id": "244c6f5b-db20-490b-9e83-f339abc594c8",
   "metadata": {},
   "outputs": [],
   "source": [
    "model = Model(input_train=data_train,\n",
    "                 y_train=y_train,\n",
    "                 epochs=epochs,\n",
    "                 batch_size=batch_size,\n",
    "                 validation_split=validation_split)"
   ]
  },
  {
   "cell_type": "code",
   "execution_count": 47,
   "id": "ef9697a2-0a0b-4360-a22e-68a4f11eb267",
   "metadata": {},
   "outputs": [
    {
     "name": "stdout",
     "output_type": "stream",
     "text": [
      "Model: \"sequential_5\"\n",
      "_________________________________________________________________\n",
      " Layer (type)                Output Shape              Param #   \n",
      "=================================================================\n",
      " embedding_5 (Embedding)     (None, None, 32)          640000    \n",
      "                                                                 \n",
      " bidirectional_3 (Bidirecti  (None, None, 64)          16640     \n",
      " onal)                                                           \n",
      "                                                                 \n",
      " dropout_3 (Dropout)         (None, None, 64)          0         \n",
      "                                                                 \n",
      " bidirectional_4 (Bidirecti  (None, None, 64)          24832     \n",
      " onal)                                                           \n",
      "                                                                 \n",
      " dropout_4 (Dropout)         (None, None, 64)          0         \n",
      "                                                                 \n",
      " bidirectional_5 (Bidirecti  (None, None, 64)          24832     \n",
      " onal)                                                           \n",
      "                                                                 \n",
      " dropout_5 (Dropout)         (None, None, 64)          0         \n",
      "                                                                 \n",
      " bidirectional_6 (Bidirecti  (None, 64)                24832     \n",
      " onal)                                                           \n",
      "                                                                 \n",
      " dense_5 (Dense)             (None, 1)                 65        \n",
      "                                                                 \n",
      "=================================================================\n",
      "Total params: 731201 (2.79 MB)\n",
      "Trainable params: 731201 (2.79 MB)\n",
      "Non-trainable params: 0 (0.00 Byte)\n",
      "_________________________________________________________________\n"
     ]
    }
   ],
   "source": [
    "model_compile = model.compile()\n",
    "sum = model_compile.summary()"
   ]
  },
  {
   "cell_type": "code",
   "execution_count": 48,
   "id": "216f4ed8-0a3f-49e5-a9c7-d9e9f1051290",
   "metadata": {},
   "outputs": [
    {
     "name": "stdout",
     "output_type": "stream",
     "text": [
      "Epoch 1/10\n",
      "69/69 [==============================] - 72s 830ms/step - loss: 0.6931 - acc: 0.5010 - val_loss: 0.6941 - val_acc: 0.4960\n",
      "Epoch 2/10\n"
     ]
    },
    {
     "name": "stderr",
     "output_type": "stream",
     "text": [
      "/usr/local/lib/python3.8/dist-packages/keras/src/engine/training.py:3000: UserWarning: You are saving your model as an HDF5 file via `model.save()`. This file format is considered legacy. We recommend using instead the native Keras format, e.g. `model.save('my_model.keras')`.\n",
      "  saving_api.save_model(\n"
     ]
    },
    {
     "name": "stdout",
     "output_type": "stream",
     "text": [
      "69/69 [==============================] - 50s 731ms/step - loss: 0.6932 - acc: 0.5001 - val_loss: 0.6933 - val_acc: 0.4885\n",
      "Epoch 3/10\n",
      "69/69 [==============================] - 51s 748ms/step - loss: 0.6759 - acc: 0.5662 - val_loss: 0.6154 - val_acc: 0.6856\n",
      "Epoch 4/10\n",
      "69/69 [==============================] - 51s 746ms/step - loss: 0.5917 - acc: 0.7113 - val_loss: 0.5976 - val_acc: 0.7213\n",
      "Epoch 5/10\n",
      "69/69 [==============================] - 50s 718ms/step - loss: 0.5489 - acc: 0.7526 - val_loss: 0.6486 - val_acc: 0.6613\n",
      "Epoch 6/10\n",
      "69/69 [==============================] - 50s 726ms/step - loss: 0.6101 - acc: 0.6585 - val_loss: 0.5954 - val_acc: 0.7179\n",
      "Epoch 6: early stopping\n"
     ]
    }
   ],
   "source": [
    "history = model.fit()"
   ]
  },
  {
   "cell_type": "code",
   "execution_count": 49,
   "id": "be692d36-853f-40ae-9c77-4024cb36a69a",
   "metadata": {},
   "outputs": [
    {
     "data": {
      "text/html": [
       "Waiting for W&B process to finish... <strong style=\"color:green\">(success).</strong>"
      ],
      "text/plain": [
       "<IPython.core.display.HTML object>"
      ]
     },
     "metadata": {},
     "output_type": "display_data"
    },
    {
     "data": {
      "text/html": [
       "<style>\n",
       "    table.wandb td:nth-child(1) { padding: 0 10px; text-align: left ; width: auto;} td:nth-child(2) {text-align: left ; width: 100%}\n",
       "    .wandb-row { display: flex; flex-direction: row; flex-wrap: wrap; justify-content: flex-start; width: 100% }\n",
       "    .wandb-col { display: flex; flex-direction: column; flex-basis: 100%; flex: 1; padding: 10px; }\n",
       "    </style>\n",
       "<div class=\"wandb-row\"><div class=\"wandb-col\"><h3>Run history:</h3><br/><table class=\"wandb\"><tr><td>epoch/acc</td><td>▁▁▃▇█▅</td></tr><tr><td>epoch/epoch</td><td>▁▂▄▅▇█</td></tr><tr><td>epoch/learning_rate</td><td>▁▁▁▁▁▁</td></tr><tr><td>epoch/loss</td><td>██▇▃▁▄</td></tr><tr><td>epoch/val_acc</td><td>▁▁▇█▆█</td></tr><tr><td>epoch/val_loss</td><td>██▂▁▅▁</td></tr></table><br/></div><div class=\"wandb-col\"><h3>Run summary:</h3><br/><table class=\"wandb\"><tr><td>epoch/acc</td><td>0.65851</td></tr><tr><td>epoch/epoch</td><td>5</td></tr><tr><td>epoch/learning_rate</td><td>0.001</td></tr><tr><td>epoch/loss</td><td>0.61011</td></tr><tr><td>epoch/val_acc</td><td>0.71787</td></tr><tr><td>epoch/val_loss</td><td>0.59539</td></tr></table><br/></div></div>"
      ],
      "text/plain": [
       "<IPython.core.display.HTML object>"
      ]
     },
     "metadata": {},
     "output_type": "display_data"
    },
    {
     "data": {
      "text/html": [
       " View run <strong style=\"color:#cdcd00\">rose-pine-6</strong> at: <a href='https://wandb.ai/vladyslav_tymoshchuk/Hw11_1/runs/nrak9nyv' target=\"_blank\">https://wandb.ai/vladyslav_tymoshchuk/Hw11_1/runs/nrak9nyv</a><br/>Synced 5 W&B file(s), 0 media file(s), 0 artifact file(s) and 0 other file(s)"
      ],
      "text/plain": [
       "<IPython.core.display.HTML object>"
      ]
     },
     "metadata": {},
     "output_type": "display_data"
    },
    {
     "data": {
      "text/html": [
       "Find logs at: <code>./wandb/run-20230828_212830-nrak9nyv/logs</code>"
      ],
      "text/plain": [
       "<IPython.core.display.HTML object>"
      ]
     },
     "metadata": {},
     "output_type": "display_data"
    }
   ],
   "source": [
    "wandb.finish()"
   ]
  },
  {
   "cell_type": "code",
   "execution_count": 50,
   "id": "55494b8f-3755-44d8-b60f-6c8782e626ae",
   "metadata": {},
   "outputs": [
    {
     "data": {
      "image/png": "[encoded data removed]",
      "text/plain": [
       "<Figure size 640x480 with 1 Axes>"
      ]
     },
     "metadata": {},
     "output_type": "display_data"
    },
    {
     "data": {
      "image/png": "[encoded data removed]",
      "text/plain": [
       "<Figure size 640x480 with 1 Axes>"
      ]
     },
     "metadata": {},
     "output_type": "display_data"
    }
   ],
   "source": [
    "line_plot(history)"
   ]
  },
  {
   "cell_type": "code",
   "execution_count": 51,
   "id": "ab0dbfc4-80aa-4330-91d8-5bd3b755d422",
   "metadata": {},
   "outputs": [
    {
     "name": "stdout",
     "output_type": "stream",
     "text": [
      "782/782 [==============================] - 163s 203ms/step\n",
      "Прогнозоване: 1, Фактичне: 0\n",
      "Прогнозоване: 1, Фактичне: 1\n",
      "Прогнозоване: 0, Фактичне: 1\n",
      "Прогнозоване: 0, Фактичне: 0\n",
      "Прогнозоване: 1, Фактичне: 1\n",
      "Прогнозоване: 0, Фактичне: 1\n",
      "Прогнозоване: 1, Фактичне: 1\n",
      "Прогнозоване: 0, Фактичне: 0\n",
      "Прогнозоване: 0, Фактичне: 0\n",
      "Прогнозоване: 1, Фактичне: 1\n",
      "782/782 [==============================] - 169s 217ms/step - loss: 0.5982 - acc: 0.7154\n",
      "Test Loss: 0.5982226133346558\n",
      "Test Accuracy: 0.715399980545044\n"
     ]
    }
   ],
   "source": [
    "test_prediction(model)"
   ]
  },
  {
   "cell_type": "markdown",
   "id": "7df6860d-3f39-4d11-9b3c-346bbac71216",
   "metadata": {},
   "source": [
    "# Висновок\n",
    "\n",
    "Найкраще себе показала модель LSTM(32) та Bidirectional(LSTM(32)). \n",
    "\n",
    "LSTM(32)\n",
    "Test Loss: 0.31548985838890076\r\n",
    "Test Accuracy: 0.876519978046417\n",
    "\n",
    "Bidirectional(LSTM(32))\n",
    "Test Loss: 0.36519908905029297\r\n",
    "Test Accuracy: 0.8671200275421143\n",
    "Провівши декілька тестів, в глибокій рекурентній нейроній мережі мені не вдалось досягти кращих показників\n",
    "Test Loss: 0.5982226133346558\r\n",
    "Test Accuracy: 0.715399980545044\n",
    "2"
   ]
  }
 ],
 "metadata": {
  "kernelspec": {
   "display_name": "Python 3 (ipykernel)",
   "language": "python",
   "name": "python3"
  },
  "language_info": {
   "codemirror_mode": {
    "name": "ipython",
    "version": 3
   },
   "file_extension": ".py",
   "mimetype": "text/x-python",
   "name": "python",
   "nbconvert_exporter": "python",
   "pygments_lexer": "ipython3",
   "version": "3.8.10"
  }
 },
 "nbformat": 4,
 "nbformat_minor": 5
}
