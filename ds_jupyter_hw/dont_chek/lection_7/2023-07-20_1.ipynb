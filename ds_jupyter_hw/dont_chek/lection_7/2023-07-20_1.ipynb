{
  "nbformat": 4,
  "nbformat_minor": 0,
  "metadata": {
    "colab": {
      "provenance": []
    },
    "kernelspec": {
      "name": "python3",
      "display_name": "Python 3"
    },
    "language_info": {
      "name": "python"
    }
  },
  "cells": [
    {
      "cell_type": "code",
      "execution_count": 1,
      "metadata": {
        "colab": {
          "base_uri": "https://localhost:8080/"
        },
        "id": "oz33UomgE4Pb",
        "outputId": "e0c48922-0a7d-4dd9-ce4c-357664f3d1e6"
      },
      "outputs": [
        {
          "output_type": "stream",
          "name": "stdout",
          "text": [
            "Collecting scikit-surprise\n",
            "  Downloading scikit-surprise-1.1.3.tar.gz (771 kB)\n",
            "\u001b[2K     \u001b[90m━━━━━━━━━━━━━━━━━━━━━━━━━━━━━━━━━━━━━━━\u001b[0m \u001b[32m772.0/772.0 kB\u001b[0m \u001b[31m8.0 MB/s\u001b[0m eta \u001b[36m0:00:00\u001b[0m\n",
            "\u001b[?25h  Preparing metadata (setup.py) ... \u001b[?25l\u001b[?25hdone\n",
            "Requirement already satisfied: joblib>=1.0.0 in /usr/local/lib/python3.10/dist-packages (from scikit-surprise) (1.3.1)\n",
            "Requirement already satisfied: numpy>=1.17.3 in /usr/local/lib/python3.10/dist-packages (from scikit-surprise) (1.22.4)\n",
            "Requirement already satisfied: scipy>=1.3.2 in /usr/local/lib/python3.10/dist-packages (from scikit-surprise) (1.10.1)\n",
            "Building wheels for collected packages: scikit-surprise\n",
            "  Building wheel for scikit-surprise (setup.py) ... \u001b[?25l\u001b[?25hdone\n",
            "  Created wheel for scikit-surprise: filename=scikit_surprise-1.1.3-cp310-cp310-linux_x86_64.whl size=2811636 sha256=64c9c637a2220a17a1f9dbd221b38de51b40006446ef4f646c654c0e1423ecb5\n",
            "  Stored in directory: /root/.cache/pip/wheels/a5/ca/a8/4e28def53797fdc4363ca4af740db15a9c2f1595ebc51fb445\n",
            "Successfully built scikit-surprise\n",
            "Installing collected packages: scikit-surprise\n",
            "Successfully installed scikit-surprise-1.1.3\n"
          ]
        }
      ],
      "source": [
        "!pip install scikit-surprise"
      ]
    },
    {
      "cell_type": "code",
      "source": [
        "import pandas as pd\n",
        "\n",
        "from surprise import Dataset, SVD\n",
        "from collections import defaultdict\n",
        "from surprise.model_selection import train_test_split"
      ],
      "metadata": {
        "id": "TOhVawiiLBhO"
      },
      "execution_count": 2,
      "outputs": []
    },
    {
      "cell_type": "code",
      "source": [
        "data = Dataset.load_builtin(\"ml-100k\")"
      ],
      "metadata": {
        "colab": {
          "base_uri": "https://localhost:8080/"
        },
        "id": "myjfIhv3L39O",
        "outputId": "e5be414c-7f09-4b1e-8534-9368b575dec5"
      },
      "execution_count": 3,
      "outputs": [
        {
          "output_type": "stream",
          "name": "stdout",
          "text": [
            "Dataset ml-100k could not be found. Do you want to download it? [Y/n] Y\n",
            "Trying to download dataset from https://files.grouplens.org/datasets/movielens/ml-100k.zip...\n",
            "Done! Dataset ml-100k has been saved to /root/.surprise_data/ml-100k\n"
          ]
        }
      ]
    },
    {
      "cell_type": "code",
      "source": [
        "with open(\"/root/.surprise_data/ml-100k/ml-100k/u.info\", \"r\") as f:\n",
        "    print(f.read())"
      ],
      "metadata": {
        "colab": {
          "base_uri": "https://localhost:8080/"
        },
        "id": "nMBHlCBcNVJa",
        "outputId": "e8cd04fc-442e-4b69-9da8-9e7d349d0f33"
      },
      "execution_count": 12,
      "outputs": [
        {
          "output_type": "stream",
          "name": "stdout",
          "text": [
            "943 users\n",
            "1682 items\n",
            "100000 ratings\n",
            "\n"
          ]
        }
      ]
    },
    {
      "cell_type": "code",
      "source": [
        "trainset, testset = train_test_split(data, test_size=0.2)"
      ],
      "metadata": {
        "id": "PpqzrokGMLCf"
      },
      "execution_count": 13,
      "outputs": []
    },
    {
      "cell_type": "code",
      "source": [
        "for x in trainset.all_ratings():\n",
        "    print(x)\n",
        "    break"
      ],
      "metadata": {
        "colab": {
          "base_uri": "https://localhost:8080/"
        },
        "id": "Vz708raqO26X",
        "outputId": "ec1c1d6f-cc67-45dc-81e3-3b5a14663d03"
      },
      "execution_count": 18,
      "outputs": [
        {
          "output_type": "stream",
          "name": "stdout",
          "text": [
            "(0, 0, 4.0)\n"
          ]
        }
      ]
    },
    {
      "cell_type": "code",
      "source": [
        "testset[:5]"
      ],
      "metadata": {
        "colab": {
          "base_uri": "https://localhost:8080/"
        },
        "id": "jMZSQOB-Ms_1",
        "outputId": "b53d8b51-5d4e-4811-ed42-8ac2a6bee9fa"
      },
      "execution_count": 19,
      "outputs": [
        {
          "output_type": "execute_result",
          "data": {
            "text/plain": [
              "[('311', '1116', 3.0),\n",
              " ('877', '306', 3.0),\n",
              " ('43', '64', 5.0),\n",
              " ('916', '246', 5.0),\n",
              " ('290', '144', 3.0)]"
            ]
          },
          "metadata": {},
          "execution_count": 19
        }
      ]
    },
    {
      "cell_type": "code",
      "source": [
        "algo = SVD()"
      ],
      "metadata": {
        "id": "uIcRUDbnOtg_"
      },
      "execution_count": 21,
      "outputs": []
    },
    {
      "cell_type": "code",
      "source": [
        "algo.fit(trainset)"
      ],
      "metadata": {
        "colab": {
          "base_uri": "https://localhost:8080/"
        },
        "id": "jGF6iaq6Ppbe",
        "outputId": "f7aefa90-5f2a-451d-854a-5735615a51c2"
      },
      "execution_count": 22,
      "outputs": [
        {
          "output_type": "execute_result",
          "data": {
            "text/plain": [
              "<surprise.prediction_algorithms.matrix_factorization.SVD at 0x7e585fdac8b0>"
            ]
          },
          "metadata": {},
          "execution_count": 22
        }
      ]
    },
    {
      "cell_type": "code",
      "source": [
        "preds = algo.test(testset)"
      ],
      "metadata": {
        "id": "hmGXZf5oRJFI"
      },
      "execution_count": 42,
      "outputs": []
    },
    {
      "cell_type": "code",
      "source": [
        "testset[:5]"
      ],
      "metadata": {
        "colab": {
          "base_uri": "https://localhost:8080/"
        },
        "id": "h8OvvENJRcTW",
        "outputId": "e3c6b43a-6716-4be4-b4cf-99fbd2159509"
      },
      "execution_count": 43,
      "outputs": [
        {
          "output_type": "execute_result",
          "data": {
            "text/plain": [
              "[('311', '1116', 3.0),\n",
              " ('877', '306', 3.0),\n",
              " ('43', '64', 5.0),\n",
              " ('916', '246', 5.0),\n",
              " ('290', '144', 3.0)]"
            ]
          },
          "metadata": {},
          "execution_count": 43
        }
      ]
    },
    {
      "cell_type": "code",
      "source": [
        "preds[:5]"
      ],
      "metadata": {
        "colab": {
          "base_uri": "https://localhost:8080/"
        },
        "id": "btGxeV7HRSZX",
        "outputId": "3426c443-ee95-4686-f59e-730124b55139"
      },
      "execution_count": 44,
      "outputs": [
        {
          "output_type": "execute_result",
          "data": {
            "text/plain": [
              "[Prediction(uid='311', iid='1116', r_ui=3.0, est=3.3669287362039766, details={'was_impossible': False}),\n",
              " Prediction(uid='877', iid='306', r_ui=3.0, est=3.8716415415383416, details={'was_impossible': False}),\n",
              " Prediction(uid='43', iid='64', r_ui=5.0, est=4.563515382937223, details={'was_impossible': False}),\n",
              " Prediction(uid='916', iid='246', r_ui=5.0, est=3.996719183413975, details={'was_impossible': False}),\n",
              " Prediction(uid='290', iid='144', r_ui=3.0, est=3.659036784612865, details={'was_impossible': False})]"
            ]
          },
          "metadata": {},
          "execution_count": 44
        }
      ]
    },
    {
      "cell_type": "code",
      "source": [
        "from surprise import accuracy"
      ],
      "metadata": {
        "id": "iXlL-8TgSgPX"
      },
      "execution_count": 45,
      "outputs": []
    },
    {
      "cell_type": "code",
      "source": [
        "accuracy.mae(preds)"
      ],
      "metadata": {
        "colab": {
          "base_uri": "https://localhost:8080/"
        },
        "id": "Ta5JP9bHTKX8",
        "outputId": "4440aed6-768a-42a1-e68e-653ab04a1240"
      },
      "execution_count": 49,
      "outputs": [
        {
          "output_type": "stream",
          "name": "stdout",
          "text": [
            "MAE:  0.7384\n"
          ]
        },
        {
          "output_type": "execute_result",
          "data": {
            "text/plain": [
              "0.7384403354336518"
            ]
          },
          "metadata": {},
          "execution_count": 49
        }
      ]
    },
    {
      "cell_type": "code",
      "source": [
        "accuracy.mae(preds[:1])"
      ],
      "metadata": {
        "colab": {
          "base_uri": "https://localhost:8080/"
        },
        "id": "jeulzcX1TO9W",
        "outputId": "97fc5453-df01-420c-b7a4-7ff7303a3b2b"
      },
      "execution_count": 50,
      "outputs": [
        {
          "output_type": "stream",
          "name": "stdout",
          "text": [
            "MAE:  0.3669\n"
          ]
        },
        {
          "output_type": "execute_result",
          "data": {
            "text/plain": [
              "0.3669287362039766"
            ]
          },
          "metadata": {},
          "execution_count": 50
        }
      ]
    },
    {
      "cell_type": "code",
      "source": [
        "abs(3.0 - 3.3669287362039766)"
      ],
      "metadata": {
        "colab": {
          "base_uri": "https://localhost:8080/"
        },
        "id": "tFUI2lBOTUXU",
        "outputId": "ace9f22c-1024-4845-af64-45e7f8abe5d1"
      },
      "execution_count": 51,
      "outputs": [
        {
          "output_type": "execute_result",
          "data": {
            "text/plain": [
              "0.3669287362039766"
            ]
          },
          "metadata": {},
          "execution_count": 51
        }
      ]
    },
    {
      "cell_type": "code",
      "source": [
        "# припущення що trainset це всі дані що в нас є\n",
        "predictions = algo.test(trainset.build_anti_testset())"
      ],
      "metadata": {
        "id": "xEz-Q_FLTZUN"
      },
      "execution_count": 53,
      "outputs": []
    },
    {
      "cell_type": "code",
      "source": [
        "1000 * 1600 - 100000"
      ],
      "metadata": {
        "colab": {
          "base_uri": "https://localhost:8080/"
        },
        "id": "_jE-9BiIU0PT",
        "outputId": "abec6b10-b776-45aa-eba2-6e6b56a2cb20"
      },
      "execution_count": 54,
      "outputs": [
        {
          "output_type": "execute_result",
          "data": {
            "text/plain": [
              "1500000"
            ]
          },
          "metadata": {},
          "execution_count": 54
        }
      ]
    },
    {
      "cell_type": "code",
      "source": [
        "len(predictions)"
      ],
      "metadata": {
        "colab": {
          "base_uri": "https://localhost:8080/"
        },
        "id": "NGXfUAIpVWuq",
        "outputId": "2e45fb72-56be-49db-a0d3-f319ec5edbf3"
      },
      "execution_count": 55,
      "outputs": [
        {
          "output_type": "execute_result",
          "data": {
            "text/plain": [
              "1487266"
            ]
          },
          "metadata": {},
          "execution_count": 55
        }
      ]
    },
    {
      "cell_type": "code",
      "source": [
        "predictions[:5]"
      ],
      "metadata": {
        "colab": {
          "base_uri": "https://localhost:8080/"
        },
        "id": "jnX2gUy1Vcbm",
        "outputId": "6871aa13-8502-49ea-ba3f-b682a3fdb73c"
      },
      "execution_count": 56,
      "outputs": [
        {
          "output_type": "execute_result",
          "data": {
            "text/plain": [
              "[Prediction(uid='69', iid='191', r_ui=3.5309875, est=4.581758489715941, details={'was_impossible': False}),\n",
              " Prediction(uid='69', iid='544', r_ui=3.5309875, est=3.488702138966563, details={'was_impossible': False}),\n",
              " Prediction(uid='69', iid='852', r_ui=3.5309875, est=3.4313448829236233, details={'was_impossible': False}),\n",
              " Prediction(uid='69', iid='483', r_ui=3.5309875, est=4.503280507037653, details={'was_impossible': False}),\n",
              " Prediction(uid='69', iid='185', r_ui=3.5309875, est=4.289521640459391, details={'was_impossible': False})]"
            ]
          },
          "metadata": {},
          "execution_count": 56
        }
      ]
    },
    {
      "cell_type": "code",
      "source": [
        "# d = {\"69\": [(\"191\", 4.5), (\"544\", 3.48), ...], ...}\n",
        "\n",
        "top_n = defaultdict(list)\n",
        "for uid, iid, r_ui, est, details in predictions:\n",
        "    top_n[uid].append((iid, est))"
      ],
      "metadata": {
        "id": "ugtTK5k9Vk3V"
      },
      "execution_count": 58,
      "outputs": []
    },
    {
      "cell_type": "code",
      "source": [
        "for uid, user_ratings in top_n.items():\n",
        "    top_n[uid] = sorted(user_ratings, key=lambda x: -x[1])"
      ],
      "metadata": {
        "id": "Kb1jE9wpW6MZ"
      },
      "execution_count": 65,
      "outputs": []
    },
    {
      "cell_type": "code",
      "source": [
        "for uid, user_ratings in list(top_n.items())[:10]:\n",
        "    print(f\"{uid=}\", [x[0] for x in user_ratings[:5]])"
      ],
      "metadata": {
        "colab": {
          "base_uri": "https://localhost:8080/"
        },
        "id": "U4651GTKXwCw",
        "outputId": "9e9637cf-61a5-47ca-9ead-d515f693ae8f"
      },
      "execution_count": 70,
      "outputs": [
        {
          "output_type": "stream",
          "name": "stdout",
          "text": [
            "uid='69' ['127', '318', '480', '187', '511']\n",
            "uid='721' ['174', '96', '316', '483', '168']\n",
            "uid='666' ['285', '493', '474', '9', '408']\n",
            "uid='13' ['169', '519', '50', '963', '408']\n",
            "uid='272' ['64', '408', '169', '114', '615']\n",
            "uid='248' ['483', '408', '269', '169', '318']\n",
            "uid='889' ['496', '169', '30', '176', '313']\n",
            "uid='399' ['185', '657', '483', '515', '513']\n",
            "uid='198' ['50', '408', '187', '483', '12']\n",
            "uid='497' ['174', '199', '483', '134', '170']\n"
          ]
        }
      ]
    },
    {
      "cell_type": "code",
      "source": [
        "top_100 = defaultdict(list)\n",
        "\n",
        "for uid, user_ratings in top_n.items():\n",
        "    top_100[uid] = user_ratings[:100]"
      ],
      "metadata": {
        "id": "5KDWJpk6YNUN"
      },
      "execution_count": 73,
      "outputs": []
    },
    {
      "cell_type": "code",
      "source": [
        "with open(\"rec_data.txt\", \"w\") as file:\n",
        "    file.write(str(top_100))"
      ],
      "metadata": {
        "id": "blSVUmbbhNpG"
      },
      "execution_count": 75,
      "outputs": []
    },
    {
      "cell_type": "code",
      "source": [
        "import json\n",
        "\n",
        "\n",
        "with open(\"rec_data.json\", \"w\") as file:\n",
        "    json.dump(top_100, file)"
      ],
      "metadata": {
        "id": "z8fJh4d0h0kJ"
      },
      "execution_count": 81,
      "outputs": []
    },
    {
      "cell_type": "code",
      "source": [],
      "metadata": {
        "id": "EAkDJtBoh8uC"
      },
      "execution_count": null,
      "outputs": []
    }
  ]
}