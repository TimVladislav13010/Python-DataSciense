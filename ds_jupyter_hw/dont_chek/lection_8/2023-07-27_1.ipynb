{
 "cells": [
  {
   "cell_type": "code",
   "execution_count": 169,
   "metadata": {
    "_cell_guid": "b1076dfc-b9ad-4769-8c92-a6c4dae69d19",
    "_uuid": "8f2839f25d086af736a60e9eeb907d3b93b6e0e5",
    "execution": {
     "iopub.execute_input": "2023-07-27T18:40:37.381474Z",
     "iopub.status.busy": "2023-07-27T18:40:37.380947Z",
     "iopub.status.idle": "2023-07-27T18:40:37.752083Z",
     "shell.execute_reply": "2023-07-27T18:40:37.750922Z",
     "shell.execute_reply.started": "2023-07-27T18:40:37.381430Z"
    }
   },
   "outputs": [],
   "source": [
    "import random\n",
    "\n",
    "import numpy as np\n",
    "import pandas as pd\n",
    "import matplotlib.pyplot as plt\n",
    "import seaborn as sn\n",
    "import tensorflow as tf\n",
    "from sklearn.model_selection import train_test_split\n",
    "from sklearn.metrics import confusion_matrix"
   ]
  },
  {
   "cell_type": "code",
   "execution_count": 2,
   "metadata": {
    "execution": {
     "iopub.execute_input": "2023-07-27T16:42:03.810052Z",
     "iopub.status.busy": "2023-07-27T16:42:03.808513Z",
     "iopub.status.idle": "2023-07-27T16:42:03.815645Z",
     "shell.execute_reply": "2023-07-27T16:42:03.814371Z",
     "shell.execute_reply.started": "2023-07-27T16:42:03.810009Z"
    }
   },
   "outputs": [],
   "source": [
    "num_classes = 10\n",
    "num_features = 784\n",
    "\n",
    "lr = 0.001\n",
    "n_epochs = 10\n",
    "batch_size = 256"
   ]
  },
  {
   "cell_type": "code",
   "execution_count": 3,
   "metadata": {
    "execution": {
     "iopub.execute_input": "2023-07-27T16:43:42.980768Z",
     "iopub.status.busy": "2023-07-27T16:43:42.980302Z",
     "iopub.status.idle": "2023-07-27T16:43:42.985315Z",
     "shell.execute_reply": "2023-07-27T16:43:42.984437Z",
     "shell.execute_reply.started": "2023-07-27T16:43:42.980734Z"
    }
   },
   "outputs": [],
   "source": [
    "# Dataset\n",
    "# Model\n",
    "# Training\n",
    "# Error Analysis"
   ]
  },
  {
   "cell_type": "code",
   "execution_count": 32,
   "metadata": {
    "execution": {
     "iopub.execute_input": "2023-07-27T17:01:21.875478Z",
     "iopub.status.busy": "2023-07-27T17:01:21.875052Z",
     "iopub.status.idle": "2023-07-27T17:01:27.070769Z",
     "shell.execute_reply": "2023-07-27T17:01:27.069589Z",
     "shell.execute_reply.started": "2023-07-27T17:01:21.875443Z"
    }
   },
   "outputs": [],
   "source": [
    "df = pd.read_csv(\"/kaggle/input/fashionmnist/fashion-mnist_train.csv\")"
   ]
  },
  {
   "cell_type": "code",
   "execution_count": 41,
   "metadata": {
    "execution": {
     "iopub.execute_input": "2023-07-27T17:02:15.531839Z",
     "iopub.status.busy": "2023-07-27T17:02:15.531418Z",
     "iopub.status.idle": "2023-07-27T17:02:15.707898Z",
     "shell.execute_reply": "2023-07-27T17:02:15.706876Z",
     "shell.execute_reply.started": "2023-07-27T17:02:15.531805Z"
    }
   },
   "outputs": [],
   "source": [
    "X = df[df.columns[1:]].values\n",
    "y = df[\"label\"].values"
   ]
  },
  {
   "cell_type": "code",
   "execution_count": 42,
   "metadata": {
    "execution": {
     "iopub.execute_input": "2023-07-27T17:02:15.792109Z",
     "iopub.status.busy": "2023-07-27T17:02:15.791275Z",
     "iopub.status.idle": "2023-07-27T17:02:15.798840Z",
     "shell.execute_reply": "2023-07-27T17:02:15.797662Z",
     "shell.execute_reply.started": "2023-07-27T17:02:15.792068Z"
    }
   },
   "outputs": [
    {
     "data": {
      "text/plain": [
       "(60000, 784)"
      ]
     },
     "execution_count": 42,
     "metadata": {},
     "output_type": "execute_result"
    }
   ],
   "source": [
    "X.shape"
   ]
  },
  {
   "cell_type": "code",
   "execution_count": 43,
   "metadata": {
    "execution": {
     "iopub.execute_input": "2023-07-27T17:02:16.403057Z",
     "iopub.status.busy": "2023-07-27T17:02:16.402316Z",
     "iopub.status.idle": "2023-07-27T17:02:16.626854Z",
     "shell.execute_reply": "2023-07-27T17:02:16.625624Z",
     "shell.execute_reply.started": "2023-07-27T17:02:16.403015Z"
    }
   },
   "outputs": [
    {
     "data": {
      "text/plain": [
       "<matplotlib.image.AxesImage at 0x7dbf7d2d1fc0>"
      ]
     },
     "execution_count": 43,
     "metadata": {},
     "output_type": "execute_result"
    },
    {
     "data": {
      "image/png": "[encoded data removed]",
      "text/plain": [
       "<Figure size 640x480 with 1 Axes>"
      ]
     },
     "metadata": {},
     "output_type": "display_data"
    }
   ],
   "source": [
    "plt.imshow(X[0].reshape(28, 28), cmap=\"gray\")"
   ]
  },
  {
   "cell_type": "code",
   "execution_count": 121,
   "metadata": {
    "execution": {
     "iopub.execute_input": "2023-07-27T18:19:49.147150Z",
     "iopub.status.busy": "2023-07-27T18:19:49.146702Z",
     "iopub.status.idle": "2023-07-27T18:19:49.904971Z",
     "shell.execute_reply": "2023-07-27T18:19:49.903463Z",
     "shell.execute_reply.started": "2023-07-27T18:19:49.147112Z"
    }
   },
   "outputs": [],
   "source": [
    "X_train, X_valid, y_train, y_valid = train_test_split(X, y, test_size=0.2, shuffle=True)"
   ]
  },
  {
   "cell_type": "code",
   "execution_count": 87,
   "metadata": {
    "execution": {
     "iopub.execute_input": "2023-07-27T17:11:11.035228Z",
     "iopub.status.busy": "2023-07-27T17:11:11.034790Z",
     "iopub.status.idle": "2023-07-27T17:11:11.045222Z",
     "shell.execute_reply": "2023-07-27T17:11:11.043970Z",
     "shell.execute_reply.started": "2023-07-27T17:11:11.035187Z"
    }
   },
   "outputs": [],
   "source": [
    "class Dataset:\n",
    "    def __init__(self, X, y):\n",
    "        self.X = X.astype(np.float32)\n",
    "        self.X /= 255.\n",
    "        self.y = y\n",
    "        self.shuffle()\n",
    "    \n",
    "#     def __init__(self, image_ids: list):\n",
    "#         self.image_ids = image_ids\n",
    "    \n",
    "    def __len__(self):\n",
    "        return self.X.shape[0]\n",
    "    \n",
    "    def __getitem__(self, idx):\n",
    "        return self.X[idx], self.y[idx]\n",
    "    \n",
    "#     def __getitem__(self, idx):\n",
    "#         image_path = self.image_ids[idx]\n",
    "#         image = cv2.imread(image_path)\n",
    "#         image = transform(image)\n",
    "#         return image, self.y[idx]\n",
    "    \n",
    "    def __call__(self):\n",
    "        for i in range(self.__len__()):\n",
    "            yield self.__getitem__(i)\n",
    "        \n",
    "        self.shuffle()\n",
    "            \n",
    "    def shuffle(self):\n",
    "        reidx = random.sample(\n",
    "            population=list(range(self.__len__())),\n",
    "            k=self.__len__()\n",
    "        )\n",
    "        self.X = self.X[reidx]\n",
    "        self.y = self.y[reidx]"
   ]
  },
  {
   "cell_type": "code",
   "execution_count": 92,
   "metadata": {
    "execution": {
     "iopub.execute_input": "2023-07-27T17:18:23.059577Z",
     "iopub.status.busy": "2023-07-27T17:18:23.059175Z",
     "iopub.status.idle": "2023-07-27T17:18:31.902233Z",
     "shell.execute_reply": "2023-07-27T17:18:31.901004Z",
     "shell.execute_reply.started": "2023-07-27T17:18:23.059547Z"
    }
   },
   "outputs": [],
   "source": [
    "# c = 0\n",
    "# for i, (_x, _y) in enumerate(train_data):\n",
    "#     c += _y.shape[0]\n",
    "    "
   ]
  },
  {
   "cell_type": "code",
   "execution_count": 99,
   "metadata": {
    "execution": {
     "iopub.execute_input": "2023-07-27T17:59:47.372474Z",
     "iopub.status.busy": "2023-07-27T17:59:47.372069Z",
     "iopub.status.idle": "2023-07-27T17:59:47.384043Z",
     "shell.execute_reply": "2023-07-27T17:59:47.382952Z",
     "shell.execute_reply.started": "2023-07-27T17:59:47.372444Z"
    }
   },
   "outputs": [],
   "source": [
    "class DenseLayer(tf.Module):\n",
    "    def __init__(self, _in, _out, name=None, activation=\"relu\"):\n",
    "        super().__init__(name=name)\n",
    "        self.w = tf.Variable(tf.random.normal([_in, _out], stddev=0.05), name=\"w\")\n",
    "        self.b = tf.Variable(tf.zeros([_out]), name=\"b\")\n",
    "        self.activation = activation\n",
    "    \n",
    "    def __call__(self, x):\n",
    "        y_in = tf.matmul(x, self.w) + self.b\n",
    "        if self.activation == \"relu\":\n",
    "            y = tf.nn.relu(y_in)\n",
    "        if self.activation == \"softmax\":\n",
    "            y = tf.nn.softmax(y_in)\n",
    "        \n",
    "        return y\n",
    "\n",
    "    \n",
    "class NN(tf.Module):\n",
    "    def __init__(self, name=None):\n",
    "        super().__init__(name)\n",
    "        self.layer_1 = DenseLayer(_in=28*28, _out=128)\n",
    "        self.layer_2 = DenseLayer(_in=128, _out=128)\n",
    "        self.layer_3 = DenseLayer(_in=128, _out=10, activation=\"softmax\")\n",
    "    \n",
    "    def __call__(self, x):\n",
    "        x = self.layer_1(x)\n",
    "        x = self.layer_2(x)\n",
    "        x = self.layer_3(x)\n",
    "        return x"
   ]
  },
  {
   "cell_type": "code",
   "execution_count": 100,
   "metadata": {
    "execution": {
     "iopub.execute_input": "2023-07-27T17:59:47.585936Z",
     "iopub.status.busy": "2023-07-27T17:59:47.585516Z",
     "iopub.status.idle": "2023-07-27T17:59:47.593998Z",
     "shell.execute_reply": "2023-07-27T17:59:47.592771Z",
     "shell.execute_reply.started": "2023-07-27T17:59:47.585902Z"
    }
   },
   "outputs": [],
   "source": [
    "def cross_entropy(y_pred, y_true):\n",
    "    y_true = tf.one_hot(y_true, depth=num_classes)\n",
    "    y_pred = tf.clip_by_value(y_pred, 1e-9, 1.)\n",
    "    return tf.reduce_mean(-tf.reduce_sum(y_true * tf.math.log(y_pred)))\n",
    "\n",
    "def accuracy(y_pred, y_true):\n",
    "    correct_prediction = tf.equal(\n",
    "        tf.argmax(y_pred, 1), \n",
    "        tf.cast(y_true, tf.int64)\n",
    "    )\n",
    "    return tf.reduce_mean(tf.cast(correct_prediction, tf.float32), axis=-1)"
   ]
  },
  {
   "cell_type": "code",
   "execution_count": 101,
   "metadata": {
    "execution": {
     "iopub.execute_input": "2023-07-27T17:59:48.089698Z",
     "iopub.status.busy": "2023-07-27T17:59:48.089281Z",
     "iopub.status.idle": "2023-07-27T17:59:48.095013Z",
     "shell.execute_reply": "2023-07-27T17:59:48.093683Z",
     "shell.execute_reply.started": "2023-07-27T17:59:48.089664Z"
    }
   },
   "outputs": [],
   "source": [
    "# 256 * 10 -> 256 * 1\n",
    "# [3, 6, 1, 3, 7]\n",
    "# [False, True, False, False]\n",
    "# [0., 1., 0., 0.]"
   ]
  },
  {
   "cell_type": "code",
   "execution_count": 116,
   "metadata": {
    "execution": {
     "iopub.execute_input": "2023-07-27T18:10:40.032362Z",
     "iopub.status.busy": "2023-07-27T18:10:40.031919Z",
     "iopub.status.idle": "2023-07-27T18:10:40.040001Z",
     "shell.execute_reply": "2023-07-27T18:10:40.038715Z",
     "shell.execute_reply.started": "2023-07-27T18:10:40.032325Z"
    }
   },
   "outputs": [],
   "source": [
    "def train(nn, optimizer, input_x, output_y):\n",
    "    with tf.GradientTape() as g:\n",
    "        pred = nn(input_x)\n",
    "        loss = cross_entropy(pred, output_y)\n",
    "\n",
    "        gradients = g.gradient(loss, nn.variables)\n",
    "        optimizer.apply_gradients(zip(gradients, nn.variables))\n",
    "        \n",
    "    return pred"
   ]
  },
  {
   "cell_type": "code",
   "execution_count": 124,
   "metadata": {
    "execution": {
     "iopub.execute_input": "2023-07-27T18:21:35.513392Z",
     "iopub.status.busy": "2023-07-27T18:21:35.512983Z",
     "iopub.status.idle": "2023-07-27T18:21:35.527912Z",
     "shell.execute_reply": "2023-07-27T18:21:35.526427Z",
     "shell.execute_reply.started": "2023-07-27T18:21:35.513363Z"
    }
   },
   "outputs": [],
   "source": [
    "class Trainer:\n",
    "    def __init__(self, model, optimizer, n_epochs):\n",
    "        self.model = model\n",
    "        self.optimizer = optimizer\n",
    "        self.n_epochs = n_epochs\n",
    "        \n",
    "    def fit(self, train_dataset, valid_dataset):\n",
    "        e_train_loss = []\n",
    "        e_train_score = []\n",
    "        e_valid_loss = []\n",
    "        e_valid_score = []\n",
    "        \n",
    "        for epoch in range(self.n_epochs):\n",
    "            print(f\"{epoch=}\")\n",
    "            \n",
    "            b_train_loss = []\n",
    "            b_train_score = []\n",
    "            for batch_x, batch_y in train_dataset:\n",
    "                pred = train(self.model, self.optimizer, batch_x, batch_y)\n",
    "                b_train_loss.append(cross_entropy(pred, batch_y))\n",
    "                b_train_score.append(accuracy(pred, batch_y))\n",
    "            \n",
    "            e_train_loss.append(np.mean(b_train_loss))\n",
    "            e_train_score.append(np.mean(b_train_score))\n",
    "            \n",
    "            b_valid_loss = []\n",
    "            b_valid_score = []\n",
    "            for batch_x, batch_y in valid_dataset:\n",
    "                pred = self.model(batch_x)\n",
    "                b_valid_loss.append(cross_entropy(pred, batch_y))\n",
    "                b_valid_score.append(accuracy(pred, batch_y))\n",
    "            \n",
    "            e_valid_loss.append(np.mean(b_valid_loss))\n",
    "            e_valid_score.append(np.mean(b_valid_score))\n",
    "            \n",
    "            print(f\"{e_train_loss[-1]:.2f}, {e_train_score[-1]:.2f}, {e_valid_loss[-1]:.2f}, {e_valid_score[-1]:.2f}\")\n",
    "        \n",
    "        return e_train_loss, e_train_score, e_valid_loss, e_valid_score"
   ]
  },
  {
   "cell_type": "code",
   "execution_count": 126,
   "metadata": {
    "execution": {
     "iopub.execute_input": "2023-07-27T18:22:26.757988Z",
     "iopub.status.busy": "2023-07-27T18:22:26.756970Z",
     "iopub.status.idle": "2023-07-27T18:25:01.655111Z",
     "shell.execute_reply": "2023-07-27T18:25:01.653149Z",
     "shell.execute_reply.started": "2023-07-27T18:22:26.757945Z"
    }
   },
   "outputs": [
    {
     "name": "stdout",
     "output_type": "stream",
     "text": [
      "epoch=0\n",
      "222.27, 0.69, 138.33, 0.81\n",
      "epoch=1\n",
      "134.97, 0.81, 114.05, 0.84\n",
      "epoch=2\n",
      "119.85, 0.83, 105.61, 0.85\n",
      "epoch=3\n",
      "106.71, 0.85, 103.01, 0.85\n",
      "epoch=4\n",
      "99.55, 0.86, 99.05, 0.86\n",
      "epoch=5\n",
      "95.24, 0.86, 94.99, 0.86\n",
      "epoch=6\n",
      "92.81, 0.87, 92.31, 0.87\n",
      "epoch=7\n",
      "88.10, 0.87, 90.57, 0.87\n"
     ]
    }
   ],
   "source": [
    "model = NN()\n",
    "optimizer = tf.optimizers.SGD(lr)\n",
    "train_dataset = Dataset(X_train, y_train)\n",
    "train_data = tf.data.Dataset.from_generator(train_dataset, output_types=(tf.float32, tf.uint8))\n",
    "train_data = train_data.batch(batch_size).prefetch(2)\n",
    "valid_dataset = Dataset(X_valid, y_valid)\n",
    "valid_data = tf.data.Dataset.from_generator(valid_dataset, output_types=(tf.float32, tf.uint8))\n",
    "valid_data = valid_data.batch(batch_size).prefetch(2)\n",
    "\n",
    "trainer = Trainer(model, optimizer, 8)\n",
    "e_train_loss, e_train_score, e_valid_loss, e_valid_score = trainer.fit(train_data, valid_data)"
   ]
  },
  {
   "cell_type": "code",
   "execution_count": 127,
   "metadata": {
    "execution": {
     "iopub.execute_input": "2023-07-27T18:25:01.963800Z",
     "iopub.status.busy": "2023-07-27T18:25:01.963235Z",
     "iopub.status.idle": "2023-07-27T18:25:02.270474Z",
     "shell.execute_reply": "2023-07-27T18:25:02.269136Z",
     "shell.execute_reply.started": "2023-07-27T18:25:01.963769Z"
    }
   },
   "outputs": [
    {
     "data": {
      "image/png": "[encoded data removed]",
      "text/plain": [
       "<Figure size 800x400 with 1 Axes>"
      ]
     },
     "metadata": {},
     "output_type": "display_data"
    }
   ],
   "source": [
    "plt.figure(figsize=(8, 4))\n",
    "plt.plot(e_train_loss)\n",
    "plt.plot(e_valid_loss)\n",
    "plt.grid()"
   ]
  },
  {
   "cell_type": "code",
   "execution_count": 128,
   "metadata": {
    "execution": {
     "iopub.execute_input": "2023-07-27T18:25:02.272123Z",
     "iopub.status.busy": "2023-07-27T18:25:02.271792Z",
     "iopub.status.idle": "2023-07-27T18:25:02.592293Z",
     "shell.execute_reply": "2023-07-27T18:25:02.591055Z",
     "shell.execute_reply.started": "2023-07-27T18:25:02.272096Z"
    }
   },
   "outputs": [
    {
     "data": {
      "image/png": "[encoded data removed]",
      "text/plain": [
       "<Figure size 800x400 with 1 Axes>"
      ]
     },
     "metadata": {},
     "output_type": "display_data"
    }
   ],
   "source": [
    "plt.figure(figsize=(8, 4))\n",
    "plt.plot(e_train_score)\n",
    "plt.plot(e_valid_score)\n",
    "plt.grid()"
   ]
  },
  {
   "cell_type": "code",
   "execution_count": 129,
   "metadata": {
    "execution": {
     "iopub.execute_input": "2023-07-27T18:28:18.270657Z",
     "iopub.status.busy": "2023-07-27T18:28:18.270003Z",
     "iopub.status.idle": "2023-07-27T18:28:19.613581Z",
     "shell.execute_reply": "2023-07-27T18:28:19.612699Z",
     "shell.execute_reply.started": "2023-07-27T18:28:18.270587Z"
    }
   },
   "outputs": [],
   "source": [
    "df = pd.read_csv(\"/kaggle/input/fashionmnist/fashion-mnist_test.csv\")"
   ]
  },
  {
   "cell_type": "code",
   "execution_count": 130,
   "metadata": {
    "execution": {
     "iopub.execute_input": "2023-07-27T18:28:27.762037Z",
     "iopub.status.busy": "2023-07-27T18:28:27.761531Z",
     "iopub.status.idle": "2023-07-27T18:28:27.788503Z",
     "shell.execute_reply": "2023-07-27T18:28:27.787190Z",
     "shell.execute_reply.started": "2023-07-27T18:28:27.762002Z"
    }
   },
   "outputs": [
    {
     "data": {
      "text/html": [
       "<div>\n",
       "<style scoped>\n",
       "    .dataframe tbody tr th:only-of-type {\n",
       "        vertical-align: middle;\n",
       "    }\n",
       "\n",
       "    .dataframe tbody tr th {\n",
       "        vertical-align: top;\n",
       "    }\n",
       "\n",
       "    .dataframe thead th {\n",
       "        text-align: right;\n",
       "    }\n",
       "</style>\n",
       "<table border=\"1\" class=\"dataframe\">\n",
       "  <thead>\n",
       "    <tr style=\"text-align: right;\">\n",
       "      <th></th>\n",
       "      <th>label</th>\n",
       "      <th>pixel1</th>\n",
       "      <th>pixel2</th>\n",
       "      <th>pixel3</th>\n",
       "      <th>pixel4</th>\n",
       "      <th>pixel5</th>\n",
       "      <th>pixel6</th>\n",
       "      <th>pixel7</th>\n",
       "      <th>pixel8</th>\n",
       "      <th>pixel9</th>\n",
       "      <th>...</th>\n",
       "      <th>pixel775</th>\n",
       "      <th>pixel776</th>\n",
       "      <th>pixel777</th>\n",
       "      <th>pixel778</th>\n",
       "      <th>pixel779</th>\n",
       "      <th>pixel780</th>\n",
       "      <th>pixel781</th>\n",
       "      <th>pixel782</th>\n",
       "      <th>pixel783</th>\n",
       "      <th>pixel784</th>\n",
       "    </tr>\n",
       "  </thead>\n",
       "  <tbody>\n",
       "    <tr>\n",
       "      <th>0</th>\n",
       "      <td>0</td>\n",
       "      <td>0</td>\n",
       "      <td>0</td>\n",
       "      <td>0</td>\n",
       "      <td>0</td>\n",
       "      <td>0</td>\n",
       "      <td>0</td>\n",
       "      <td>0</td>\n",
       "      <td>9</td>\n",
       "      <td>8</td>\n",
       "      <td>...</td>\n",
       "      <td>103</td>\n",
       "      <td>87</td>\n",
       "      <td>56</td>\n",
       "      <td>0</td>\n",
       "      <td>0</td>\n",
       "      <td>0</td>\n",
       "      <td>0</td>\n",
       "      <td>0</td>\n",
       "      <td>0</td>\n",
       "      <td>0</td>\n",
       "    </tr>\n",
       "    <tr>\n",
       "      <th>1</th>\n",
       "      <td>1</td>\n",
       "      <td>0</td>\n",
       "      <td>0</td>\n",
       "      <td>0</td>\n",
       "      <td>0</td>\n",
       "      <td>0</td>\n",
       "      <td>0</td>\n",
       "      <td>0</td>\n",
       "      <td>0</td>\n",
       "      <td>0</td>\n",
       "      <td>...</td>\n",
       "      <td>34</td>\n",
       "      <td>0</td>\n",
       "      <td>0</td>\n",
       "      <td>0</td>\n",
       "      <td>0</td>\n",
       "      <td>0</td>\n",
       "      <td>0</td>\n",
       "      <td>0</td>\n",
       "      <td>0</td>\n",
       "      <td>0</td>\n",
       "    </tr>\n",
       "    <tr>\n",
       "      <th>2</th>\n",
       "      <td>2</td>\n",
       "      <td>0</td>\n",
       "      <td>0</td>\n",
       "      <td>0</td>\n",
       "      <td>0</td>\n",
       "      <td>0</td>\n",
       "      <td>0</td>\n",
       "      <td>14</td>\n",
       "      <td>53</td>\n",
       "      <td>99</td>\n",
       "      <td>...</td>\n",
       "      <td>0</td>\n",
       "      <td>0</td>\n",
       "      <td>0</td>\n",
       "      <td>0</td>\n",
       "      <td>63</td>\n",
       "      <td>53</td>\n",
       "      <td>31</td>\n",
       "      <td>0</td>\n",
       "      <td>0</td>\n",
       "      <td>0</td>\n",
       "    </tr>\n",
       "    <tr>\n",
       "      <th>3</th>\n",
       "      <td>2</td>\n",
       "      <td>0</td>\n",
       "      <td>0</td>\n",
       "      <td>0</td>\n",
       "      <td>0</td>\n",
       "      <td>0</td>\n",
       "      <td>0</td>\n",
       "      <td>0</td>\n",
       "      <td>0</td>\n",
       "      <td>0</td>\n",
       "      <td>...</td>\n",
       "      <td>137</td>\n",
       "      <td>126</td>\n",
       "      <td>140</td>\n",
       "      <td>0</td>\n",
       "      <td>133</td>\n",
       "      <td>224</td>\n",
       "      <td>222</td>\n",
       "      <td>56</td>\n",
       "      <td>0</td>\n",
       "      <td>0</td>\n",
       "    </tr>\n",
       "    <tr>\n",
       "      <th>4</th>\n",
       "      <td>3</td>\n",
       "      <td>0</td>\n",
       "      <td>0</td>\n",
       "      <td>0</td>\n",
       "      <td>0</td>\n",
       "      <td>0</td>\n",
       "      <td>0</td>\n",
       "      <td>0</td>\n",
       "      <td>0</td>\n",
       "      <td>0</td>\n",
       "      <td>...</td>\n",
       "      <td>0</td>\n",
       "      <td>0</td>\n",
       "      <td>0</td>\n",
       "      <td>0</td>\n",
       "      <td>0</td>\n",
       "      <td>0</td>\n",
       "      <td>0</td>\n",
       "      <td>0</td>\n",
       "      <td>0</td>\n",
       "      <td>0</td>\n",
       "    </tr>\n",
       "    <tr>\n",
       "      <th>...</th>\n",
       "      <td>...</td>\n",
       "      <td>...</td>\n",
       "      <td>...</td>\n",
       "      <td>...</td>\n",
       "      <td>...</td>\n",
       "      <td>...</td>\n",
       "      <td>...</td>\n",
       "      <td>...</td>\n",
       "      <td>...</td>\n",
       "      <td>...</td>\n",
       "      <td>...</td>\n",
       "      <td>...</td>\n",
       "      <td>...</td>\n",
       "      <td>...</td>\n",
       "      <td>...</td>\n",
       "      <td>...</td>\n",
       "      <td>...</td>\n",
       "      <td>...</td>\n",
       "      <td>...</td>\n",
       "      <td>...</td>\n",
       "      <td>...</td>\n",
       "    </tr>\n",
       "    <tr>\n",
       "      <th>9995</th>\n",
       "      <td>0</td>\n",
       "      <td>0</td>\n",
       "      <td>0</td>\n",
       "      <td>0</td>\n",
       "      <td>0</td>\n",
       "      <td>0</td>\n",
       "      <td>0</td>\n",
       "      <td>0</td>\n",
       "      <td>0</td>\n",
       "      <td>0</td>\n",
       "      <td>...</td>\n",
       "      <td>32</td>\n",
       "      <td>23</td>\n",
       "      <td>14</td>\n",
       "      <td>20</td>\n",
       "      <td>0</td>\n",
       "      <td>0</td>\n",
       "      <td>1</td>\n",
       "      <td>0</td>\n",
       "      <td>0</td>\n",
       "      <td>0</td>\n",
       "    </tr>\n",
       "    <tr>\n",
       "      <th>9996</th>\n",
       "      <td>6</td>\n",
       "      <td>0</td>\n",
       "      <td>0</td>\n",
       "      <td>0</td>\n",
       "      <td>0</td>\n",
       "      <td>0</td>\n",
       "      <td>0</td>\n",
       "      <td>0</td>\n",
       "      <td>0</td>\n",
       "      <td>0</td>\n",
       "      <td>...</td>\n",
       "      <td>0</td>\n",
       "      <td>0</td>\n",
       "      <td>0</td>\n",
       "      <td>2</td>\n",
       "      <td>52</td>\n",
       "      <td>23</td>\n",
       "      <td>28</td>\n",
       "      <td>0</td>\n",
       "      <td>0</td>\n",
       "      <td>0</td>\n",
       "    </tr>\n",
       "    <tr>\n",
       "      <th>9997</th>\n",
       "      <td>8</td>\n",
       "      <td>0</td>\n",
       "      <td>0</td>\n",
       "      <td>0</td>\n",
       "      <td>0</td>\n",
       "      <td>0</td>\n",
       "      <td>0</td>\n",
       "      <td>0</td>\n",
       "      <td>0</td>\n",
       "      <td>0</td>\n",
       "      <td>...</td>\n",
       "      <td>175</td>\n",
       "      <td>172</td>\n",
       "      <td>172</td>\n",
       "      <td>182</td>\n",
       "      <td>199</td>\n",
       "      <td>222</td>\n",
       "      <td>42</td>\n",
       "      <td>0</td>\n",
       "      <td>1</td>\n",
       "      <td>0</td>\n",
       "    </tr>\n",
       "    <tr>\n",
       "      <th>9998</th>\n",
       "      <td>8</td>\n",
       "      <td>0</td>\n",
       "      <td>1</td>\n",
       "      <td>3</td>\n",
       "      <td>0</td>\n",
       "      <td>0</td>\n",
       "      <td>0</td>\n",
       "      <td>0</td>\n",
       "      <td>0</td>\n",
       "      <td>0</td>\n",
       "      <td>...</td>\n",
       "      <td>0</td>\n",
       "      <td>0</td>\n",
       "      <td>0</td>\n",
       "      <td>0</td>\n",
       "      <td>0</td>\n",
       "      <td>1</td>\n",
       "      <td>0</td>\n",
       "      <td>0</td>\n",
       "      <td>0</td>\n",
       "      <td>0</td>\n",
       "    </tr>\n",
       "    <tr>\n",
       "      <th>9999</th>\n",
       "      <td>1</td>\n",
       "      <td>0</td>\n",
       "      <td>0</td>\n",
       "      <td>0</td>\n",
       "      <td>0</td>\n",
       "      <td>0</td>\n",
       "      <td>0</td>\n",
       "      <td>0</td>\n",
       "      <td>140</td>\n",
       "      <td>119</td>\n",
       "      <td>...</td>\n",
       "      <td>111</td>\n",
       "      <td>95</td>\n",
       "      <td>75</td>\n",
       "      <td>44</td>\n",
       "      <td>1</td>\n",
       "      <td>0</td>\n",
       "      <td>0</td>\n",
       "      <td>0</td>\n",
       "      <td>0</td>\n",
       "      <td>0</td>\n",
       "    </tr>\n",
       "  </tbody>\n",
       "</table>\n",
       "<p>10000 rows × 785 columns</p>\n",
       "</div>"
      ],
      "text/plain": [
       "      label  pixel1  pixel2  pixel3  pixel4  pixel5  pixel6  pixel7  pixel8  \\\n",
       "0         0       0       0       0       0       0       0       0       9   \n",
       "1         1       0       0       0       0       0       0       0       0   \n",
       "2         2       0       0       0       0       0       0      14      53   \n",
       "3         2       0       0       0       0       0       0       0       0   \n",
       "4         3       0       0       0       0       0       0       0       0   \n",
       "...     ...     ...     ...     ...     ...     ...     ...     ...     ...   \n",
       "9995      0       0       0       0       0       0       0       0       0   \n",
       "9996      6       0       0       0       0       0       0       0       0   \n",
       "9997      8       0       0       0       0       0       0       0       0   \n",
       "9998      8       0       1       3       0       0       0       0       0   \n",
       "9999      1       0       0       0       0       0       0       0     140   \n",
       "\n",
       "      pixel9  ...  pixel775  pixel776  pixel777  pixel778  pixel779  pixel780  \\\n",
       "0          8  ...       103        87        56         0         0         0   \n",
       "1          0  ...        34         0         0         0         0         0   \n",
       "2         99  ...         0         0         0         0        63        53   \n",
       "3          0  ...       137       126       140         0       133       224   \n",
       "4          0  ...         0         0         0         0         0         0   \n",
       "...      ...  ...       ...       ...       ...       ...       ...       ...   \n",
       "9995       0  ...        32        23        14        20         0         0   \n",
       "9996       0  ...         0         0         0         2        52        23   \n",
       "9997       0  ...       175       172       172       182       199       222   \n",
       "9998       0  ...         0         0         0         0         0         1   \n",
       "9999     119  ...       111        95        75        44         1         0   \n",
       "\n",
       "      pixel781  pixel782  pixel783  pixel784  \n",
       "0            0         0         0         0  \n",
       "1            0         0         0         0  \n",
       "2           31         0         0         0  \n",
       "3          222        56         0         0  \n",
       "4            0         0         0         0  \n",
       "...        ...       ...       ...       ...  \n",
       "9995         1         0         0         0  \n",
       "9996        28         0         0         0  \n",
       "9997        42         0         1         0  \n",
       "9998         0         0         0         0  \n",
       "9999         0         0         0         0  \n",
       "\n",
       "[10000 rows x 785 columns]"
      ]
     },
     "execution_count": 130,
     "metadata": {},
     "output_type": "execute_result"
    }
   ],
   "source": [
    "df"
   ]
  },
  {
   "cell_type": "code",
   "execution_count": 144,
   "metadata": {
    "execution": {
     "iopub.execute_input": "2023-07-27T18:32:17.523555Z",
     "iopub.status.busy": "2023-07-27T18:32:17.523138Z",
     "iopub.status.idle": "2023-07-27T18:32:17.529007Z",
     "shell.execute_reply": "2023-07-27T18:32:17.527757Z",
     "shell.execute_reply.started": "2023-07-27T18:32:17.523524Z"
    }
   },
   "outputs": [],
   "source": [
    "x_test_sample = df.iloc[:4, 1:].values"
   ]
  },
  {
   "cell_type": "code",
   "execution_count": 145,
   "metadata": {
    "execution": {
     "iopub.execute_input": "2023-07-27T18:32:18.423548Z",
     "iopub.status.busy": "2023-07-27T18:32:18.422789Z",
     "iopub.status.idle": "2023-07-27T18:32:18.429582Z",
     "shell.execute_reply": "2023-07-27T18:32:18.428302Z",
     "shell.execute_reply.started": "2023-07-27T18:32:18.423507Z"
    }
   },
   "outputs": [],
   "source": [
    "x_test_sample = x_test_sample.astype(np.float32)\n",
    "x_test_sample /= 255."
   ]
  },
  {
   "cell_type": "code",
   "execution_count": 147,
   "metadata": {
    "execution": {
     "iopub.execute_input": "2023-07-27T18:32:23.210619Z",
     "iopub.status.busy": "2023-07-27T18:32:23.210174Z",
     "iopub.status.idle": "2023-07-27T18:32:23.218916Z",
     "shell.execute_reply": "2023-07-27T18:32:23.217687Z",
     "shell.execute_reply.started": "2023-07-27T18:32:23.210571Z"
    }
   },
   "outputs": [],
   "source": [
    "test_out = model(x_test_sample)"
   ]
  },
  {
   "cell_type": "code",
   "execution_count": 148,
   "metadata": {
    "execution": {
     "iopub.execute_input": "2023-07-27T18:32:30.970154Z",
     "iopub.status.busy": "2023-07-27T18:32:30.969759Z",
     "iopub.status.idle": "2023-07-27T18:32:30.977981Z",
     "shell.execute_reply": "2023-07-27T18:32:30.976904Z",
     "shell.execute_reply.started": "2023-07-27T18:32:30.970125Z"
    }
   },
   "outputs": [
    {
     "data": {
      "text/plain": [
       "array([0, 1, 2, 2])"
      ]
     },
     "execution_count": 148,
     "metadata": {},
     "output_type": "execute_result"
    }
   ],
   "source": [
    "test_out.numpy().argmax(axis=1)"
   ]
  },
  {
   "cell_type": "code",
   "execution_count": 152,
   "metadata": {
    "execution": {
     "iopub.execute_input": "2023-07-27T18:34:55.021078Z",
     "iopub.status.busy": "2023-07-27T18:34:55.020675Z",
     "iopub.status.idle": "2023-07-27T18:34:56.093330Z",
     "shell.execute_reply": "2023-07-27T18:34:56.092143Z",
     "shell.execute_reply.started": "2023-07-27T18:34:55.021047Z"
    }
   },
   "outputs": [
    {
     "data": {
      "image/png": "[encoded data removed]",
      "text/plain": [
       "<Figure size 800x800 with 4 Axes>"
      ]
     },
     "metadata": {},
     "output_type": "display_data"
    }
   ],
   "source": [
    "plt.figure(figsize=(8, 8))\n",
    "for i, _x in enumerate(x_test_sample, 1):\n",
    "    plt.subplot(2, 2, i)\n",
    "    plt.imshow(_x.reshape(28, 28), cmap=\"gray\")\n",
    "    plt.title(f\"Predict: {test_out.numpy().argmax(axis=1)[i - 1]} Real: {df.iloc[i-1, 0]}\")"
   ]
  },
  {
   "cell_type": "code",
   "execution_count": 159,
   "metadata": {
    "execution": {
     "iopub.execute_input": "2023-07-27T18:37:19.192447Z",
     "iopub.status.busy": "2023-07-27T18:37:19.192040Z",
     "iopub.status.idle": "2023-07-27T18:37:19.236514Z",
     "shell.execute_reply": "2023-07-27T18:37:19.235008Z",
     "shell.execute_reply.started": "2023-07-27T18:37:19.192407Z"
    }
   },
   "outputs": [],
   "source": [
    "x_test = df.iloc[:, 1:].values\n",
    "x_test = x_test.astype(np.float32)\n",
    "x_test /= 255."
   ]
  },
  {
   "cell_type": "code",
   "execution_count": 160,
   "metadata": {
    "execution": {
     "iopub.execute_input": "2023-07-27T18:37:20.101365Z",
     "iopub.status.busy": "2023-07-27T18:37:20.100937Z",
     "iopub.status.idle": "2023-07-27T18:37:20.184726Z",
     "shell.execute_reply": "2023-07-27T18:37:20.183103Z",
     "shell.execute_reply.started": "2023-07-27T18:37:20.101329Z"
    }
   },
   "outputs": [],
   "source": [
    "test_out = model(x_test).numpy()"
   ]
  },
  {
   "cell_type": "code",
   "execution_count": 164,
   "metadata": {
    "execution": {
     "iopub.execute_input": "2023-07-27T18:38:04.094951Z",
     "iopub.status.busy": "2023-07-27T18:38:04.093790Z",
     "iopub.status.idle": "2023-07-27T18:38:04.100652Z",
     "shell.execute_reply": "2023-07-27T18:38:04.099432Z",
     "shell.execute_reply.started": "2023-07-27T18:38:04.094909Z"
    }
   },
   "outputs": [],
   "source": [
    "y_pred_test = test_out.argmax(axis=1)\n",
    "y_test = df.iloc[:, 0].values"
   ]
  },
  {
   "cell_type": "code",
   "execution_count": 166,
   "metadata": {
    "execution": {
     "iopub.execute_input": "2023-07-27T18:38:32.238845Z",
     "iopub.status.busy": "2023-07-27T18:38:32.238311Z",
     "iopub.status.idle": "2023-07-27T18:38:32.248072Z",
     "shell.execute_reply": "2023-07-27T18:38:32.246759Z",
     "shell.execute_reply.started": "2023-07-27T18:38:32.238800Z"
    }
   },
   "outputs": [
    {
     "data": {
      "text/plain": [
       "0.8738"
      ]
     },
     "execution_count": 166,
     "metadata": {},
     "output_type": "execute_result"
    }
   ],
   "source": [
    "np.mean(y_pred_test == y_test)"
   ]
  },
  {
   "cell_type": "code",
   "execution_count": 173,
   "metadata": {
    "execution": {
     "iopub.execute_input": "2023-07-27T18:41:51.467646Z",
     "iopub.status.busy": "2023-07-27T18:41:51.466558Z",
     "iopub.status.idle": "2023-07-27T18:41:51.473079Z",
     "shell.execute_reply": "2023-07-27T18:41:51.472082Z",
     "shell.execute_reply.started": "2023-07-27T18:41:51.467605Z"
    }
   },
   "outputs": [],
   "source": [
    "arr = \\\n",
    "[\n",
    "    \"T-shirt/top\",\n",
    "    \"Trouser\",\n",
    "    \"Pullover\",\n",
    "    \"Dress\",\n",
    "    \"Coat\",\n",
    "    \"Sandal\",\n",
    "    \"Shirt\",\n",
    "    \"Sneaker\",\n",
    "    \"Bag\",\n",
    "    \"Ankle boot\",\n",
    "]"
   ]
  },
  {
   "cell_type": "code",
   "execution_count": 181,
   "metadata": {
    "execution": {
     "iopub.execute_input": "2023-07-27T18:43:07.715295Z",
     "iopub.status.busy": "2023-07-27T18:43:07.714876Z",
     "iopub.status.idle": "2023-07-27T18:43:08.336269Z",
     "shell.execute_reply": "2023-07-27T18:43:08.334874Z",
     "shell.execute_reply.started": "2023-07-27T18:43:07.715256Z"
    }
   },
   "outputs": [
    {
     "data": {
      "image/png": "[encoded data removed]",
      "text/plain": [
       "<Figure size 800x800 with 1 Axes>"
      ]
     },
     "metadata": {},
     "output_type": "display_data"
    }
   ],
   "source": [
    "cm = confusion_matrix(y_test, y_pred_test)\n",
    "df_confusion_matrix = pd.DataFrame(cm, index=arr, columns=arr)\n",
    "\n",
    "plt.figure(figsize=(8, 8))\n",
    "sn.heatmap(df_confusion_matrix, fmt=\"d\", annot=True, cbar=False, cmap=\"Oranges\", linewidths=1, linecolor=\"black\")\n",
    "plt.xlabel(\"Predicted labels\", fontsize=15)\n",
    "plt.xticks(fontsize=10)\n",
    "plt.ylabel(\"True labels\", fontsize=15)\n",
    "plt.yticks(fontsize=10, rotation=0);"
   ]
  },
  {
   "cell_type": "code",
   "execution_count": 183,
   "metadata": {
    "execution": {
     "iopub.execute_input": "2023-07-27T18:46:47.578674Z",
     "iopub.status.busy": "2023-07-27T18:46:47.578243Z",
     "iopub.status.idle": "2023-07-27T18:46:47.584209Z",
     "shell.execute_reply": "2023-07-27T18:46:47.583339Z",
     "shell.execute_reply.started": "2023-07-27T18:46:47.578640Z"
    }
   },
   "outputs": [],
   "source": [
    "ea = pd.DataFrame({\"pred\": y_pred_test, \"y\": y_test})"
   ]
  },
  {
   "cell_type": "code",
   "execution_count": 185,
   "metadata": {
    "execution": {
     "iopub.execute_input": "2023-07-27T18:47:05.018874Z",
     "iopub.status.busy": "2023-07-27T18:47:05.017431Z",
     "iopub.status.idle": "2023-07-27T18:47:05.026182Z",
     "shell.execute_reply": "2023-07-27T18:47:05.024767Z",
     "shell.execute_reply.started": "2023-07-27T18:47:05.018820Z"
    }
   },
   "outputs": [],
   "source": [
    "ea[\"equal\"] = ea[\"pred\"] == ea[\"y\"]"
   ]
  },
  {
   "cell_type": "code",
   "execution_count": 187,
   "metadata": {
    "execution": {
     "iopub.execute_input": "2023-07-27T18:47:42.137195Z",
     "iopub.status.busy": "2023-07-27T18:47:42.136781Z",
     "iopub.status.idle": "2023-07-27T18:47:42.153977Z",
     "shell.execute_reply": "2023-07-27T18:47:42.152819Z",
     "shell.execute_reply.started": "2023-07-27T18:47:42.137162Z"
    }
   },
   "outputs": [
    {
     "data": {
      "text/html": [
       "<div>\n",
       "<style scoped>\n",
       "    .dataframe tbody tr th:only-of-type {\n",
       "        vertical-align: middle;\n",
       "    }\n",
       "\n",
       "    .dataframe tbody tr th {\n",
       "        vertical-align: top;\n",
       "    }\n",
       "\n",
       "    .dataframe thead th {\n",
       "        text-align: right;\n",
       "    }\n",
       "</style>\n",
       "<table border=\"1\" class=\"dataframe\">\n",
       "  <thead>\n",
       "    <tr style=\"text-align: right;\">\n",
       "      <th></th>\n",
       "      <th>pred</th>\n",
       "      <th>y</th>\n",
       "      <th>equal</th>\n",
       "    </tr>\n",
       "  </thead>\n",
       "  <tbody>\n",
       "    <tr>\n",
       "      <th>7</th>\n",
       "      <td>4</td>\n",
       "      <td>6</td>\n",
       "      <td>False</td>\n",
       "    </tr>\n",
       "    <tr>\n",
       "      <th>16</th>\n",
       "      <td>4</td>\n",
       "      <td>6</td>\n",
       "      <td>False</td>\n",
       "    </tr>\n",
       "    <tr>\n",
       "      <th>43</th>\n",
       "      <td>2</td>\n",
       "      <td>6</td>\n",
       "      <td>False</td>\n",
       "    </tr>\n",
       "    <tr>\n",
       "      <th>58</th>\n",
       "      <td>0</td>\n",
       "      <td>6</td>\n",
       "      <td>False</td>\n",
       "    </tr>\n",
       "    <tr>\n",
       "      <th>73</th>\n",
       "      <td>0</td>\n",
       "      <td>6</td>\n",
       "      <td>False</td>\n",
       "    </tr>\n",
       "    <tr>\n",
       "      <th>...</th>\n",
       "      <td>...</td>\n",
       "      <td>...</td>\n",
       "      <td>...</td>\n",
       "    </tr>\n",
       "    <tr>\n",
       "      <th>9867</th>\n",
       "      <td>2</td>\n",
       "      <td>6</td>\n",
       "      <td>False</td>\n",
       "    </tr>\n",
       "    <tr>\n",
       "      <th>9869</th>\n",
       "      <td>0</td>\n",
       "      <td>6</td>\n",
       "      <td>False</td>\n",
       "    </tr>\n",
       "    <tr>\n",
       "      <th>9913</th>\n",
       "      <td>2</td>\n",
       "      <td>6</td>\n",
       "      <td>False</td>\n",
       "    </tr>\n",
       "    <tr>\n",
       "      <th>9961</th>\n",
       "      <td>4</td>\n",
       "      <td>6</td>\n",
       "      <td>False</td>\n",
       "    </tr>\n",
       "    <tr>\n",
       "      <th>9972</th>\n",
       "      <td>2</td>\n",
       "      <td>6</td>\n",
       "      <td>False</td>\n",
       "    </tr>\n",
       "  </tbody>\n",
       "</table>\n",
       "<p>413 rows × 3 columns</p>\n",
       "</div>"
      ],
      "text/plain": [
       "      pred  y  equal\n",
       "7        4  6  False\n",
       "16       4  6  False\n",
       "43       2  6  False\n",
       "58       0  6  False\n",
       "73       0  6  False\n",
       "...    ... ..    ...\n",
       "9867     2  6  False\n",
       "9869     0  6  False\n",
       "9913     2  6  False\n",
       "9961     4  6  False\n",
       "9972     2  6  False\n",
       "\n",
       "[413 rows x 3 columns]"
      ]
     },
     "execution_count": 187,
     "metadata": {},
     "output_type": "execute_result"
    }
   ],
   "source": [
    "ea[(ea[\"y\"] == 6) & (ea[\"equal\"] == False)]"
   ]
  },
  {
   "cell_type": "code",
   "execution_count": 192,
   "metadata": {
    "execution": {
     "iopub.execute_input": "2023-07-27T18:50:49.059414Z",
     "iopub.status.busy": "2023-07-27T18:50:49.058931Z",
     "iopub.status.idle": "2023-07-27T18:50:50.060005Z",
     "shell.execute_reply": "2023-07-27T18:50:50.058684Z",
     "shell.execute_reply.started": "2023-07-27T18:50:49.059372Z"
    }
   },
   "outputs": [
    {
     "data": {
      "image/png": "[encoded data removed]",
      "text/plain": [
       "<Figure size 800x800 with 4 Axes>"
      ]
     },
     "metadata": {},
     "output_type": "display_data"
    }
   ],
   "source": [
    "plt.figure(figsize=(8, 8))\n",
    "index = [7, 16, 43, 58]\n",
    "for i, _x in enumerate(x_test[index], 1):\n",
    "    plt.subplot(2, 2, i)\n",
    "    plt.imshow(_x.reshape(28, 28), cmap=\"gray\")\n",
    "    plt.title(f\"Predict: {arr[y_pred_test[index[i - 1]]]} Real: {arr[y_test[index[i - 1]]]}\")"
   ]
  },
  {
   "cell_type": "code",
   "execution_count": null,
   "metadata": {},
   "outputs": [],
   "source": [
    ", 1"
   ]
  }
 ],
 "metadata": {
  "kernelspec": {
   "display_name": "Python 3 (ipykernel)",
   "language": "python",
   "name": "python3"
  },
  "language_info": {
   "codemirror_mode": {
    "name": "ipython",
    "version": 3
   },
   "file_extension": ".py",
   "mimetype": "text/x-python",
   "name": "python",
   "nbconvert_exporter": "python",
   "pygments_lexer": "ipython3",
   "version": "3.9.16"
  }
 },
 "nbformat": 4,
 "nbformat_minor": 4
}
