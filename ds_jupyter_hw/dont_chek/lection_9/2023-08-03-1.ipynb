{
 "cells": [
  {
   "cell_type": "code",
   "execution_count": 2,
   "metadata": {
    "execution": {
     "iopub.execute_input": "2023-08-03T18:17:08.082342Z",
     "iopub.status.busy": "2023-08-03T18:17:08.081904Z",
     "iopub.status.idle": "2023-08-03T18:17:20.206285Z",
     "shell.execute_reply": "2023-08-03T18:17:20.204888Z",
     "shell.execute_reply.started": "2023-08-03T18:17:08.082299Z"
    }
   },
   "outputs": [
    {
     "name": "stdout",
     "output_type": "stream",
     "text": [
      "Requirement already satisfied: wandb in /opt/conda/lib/python3.10/site-packages (0.15.5)\n",
      "Requirement already satisfied: Click!=8.0.0,>=7.1 in /opt/conda/lib/python3.10/site-packages (from wandb) (8.1.3)\n",
      "Requirement already satisfied: GitPython!=3.1.29,>=1.0.0 in /opt/conda/lib/python3.10/site-packages (from wandb) (3.1.31)\n",
      "Requirement already satisfied: requests<3,>=2.0.0 in /opt/conda/lib/python3.10/site-packages (from wandb) (2.31.0)\n",
      "Requirement already satisfied: psutil>=5.0.0 in /opt/conda/lib/python3.10/site-packages (from wandb) (5.9.3)\n",
      "Requirement already satisfied: sentry-sdk>=1.0.0 in /opt/conda/lib/python3.10/site-packages (from wandb) (1.27.1)\n",
      "Requirement already satisfied: docker-pycreds>=0.4.0 in /opt/conda/lib/python3.10/site-packages (from wandb) (0.4.0)\n",
      "Requirement already satisfied: PyYAML in /opt/conda/lib/python3.10/site-packages (from wandb) (6.0)\n",
      "Requirement already satisfied: pathtools in /opt/conda/lib/python3.10/site-packages (from wandb) (0.1.2)\n",
      "Requirement already satisfied: setproctitle in /opt/conda/lib/python3.10/site-packages (from wandb) (1.3.2)\n",
      "Requirement already satisfied: setuptools in /opt/conda/lib/python3.10/site-packages (from wandb) (59.8.0)\n",
      "Requirement already satisfied: appdirs>=1.4.3 in /opt/conda/lib/python3.10/site-packages (from wandb) (1.4.4)\n",
      "Requirement already satisfied: protobuf!=4.21.0,<5,>=3.19.0 in /opt/conda/lib/python3.10/site-packages (from wandb) (3.20.3)\n",
      "Requirement already satisfied: six>=1.4.0 in /opt/conda/lib/python3.10/site-packages (from docker-pycreds>=0.4.0->wandb) (1.16.0)\n",
      "Requirement already satisfied: gitdb<5,>=4.0.1 in /opt/conda/lib/python3.10/site-packages (from GitPython!=3.1.29,>=1.0.0->wandb) (4.0.10)\n",
      "Requirement already satisfied: charset-normalizer<4,>=2 in /opt/conda/lib/python3.10/site-packages (from requests<3,>=2.0.0->wandb) (3.1.0)\n",
      "Requirement already satisfied: idna<4,>=2.5 in /opt/conda/lib/python3.10/site-packages (from requests<3,>=2.0.0->wandb) (3.4)\n",
      "Requirement already satisfied: urllib3<3,>=1.21.1 in /opt/conda/lib/python3.10/site-packages (from requests<3,>=2.0.0->wandb) (1.26.15)\n",
      "Requirement already satisfied: certifi>=2017.4.17 in /opt/conda/lib/python3.10/site-packages (from requests<3,>=2.0.0->wandb) (2023.5.7)\n",
      "Requirement already satisfied: smmap<6,>=3.0.1 in /opt/conda/lib/python3.10/site-packages (from gitdb<5,>=4.0.1->GitPython!=3.1.29,>=1.0.0->wandb) (5.0.0)\n"
     ]
    }
   ],
   "source": [
    "!pip install wandb"
   ]
  },
  {
   "cell_type": "code",
   "execution_count": 3,
   "metadata": {
    "execution": {
     "iopub.execute_input": "2023-08-03T18:17:22.383157Z",
     "iopub.status.busy": "2023-08-03T18:17:22.382769Z",
     "iopub.status.idle": "2023-08-03T18:17:33.534542Z",
     "shell.execute_reply": "2023-08-03T18:17:33.533522Z",
     "shell.execute_reply.started": "2023-08-03T18:17:22.383122Z"
    }
   },
   "outputs": [
    {
     "name": "stderr",
     "output_type": "stream",
     "text": [
      "/opt/conda/lib/python3.10/site-packages/scipy/__init__.py:146: UserWarning: A NumPy version >=1.16.5 and <1.23.0 is required for this version of SciPy (detected version 1.23.5\n",
      "  warnings.warn(f\"A NumPy version >={np_minversion} and <{np_maxversion}\"\n",
      "/opt/conda/lib/python3.10/site-packages/tensorflow_io/python/ops/__init__.py:98: UserWarning: unable to load libtensorflow_io_plugins.so: unable to open file: libtensorflow_io_plugins.so, from paths: ['/opt/conda/lib/python3.10/site-packages/tensorflow_io/python/ops/libtensorflow_io_plugins.so']\n",
      "caused by: ['/opt/conda/lib/python3.10/site-packages/tensorflow_io/python/ops/libtensorflow_io_plugins.so: undefined symbol: _ZN3tsl6StatusC1EN10tensorflow5error4CodeESt17basic_string_viewIcSt11char_traitsIcEENS_14SourceLocationE']\n",
      "  warnings.warn(f\"unable to load libtensorflow_io_plugins.so: {e}\")\n",
      "/opt/conda/lib/python3.10/site-packages/tensorflow_io/python/ops/__init__.py:104: UserWarning: file system plugins are not loaded: unable to open file: libtensorflow_io.so, from paths: ['/opt/conda/lib/python3.10/site-packages/tensorflow_io/python/ops/libtensorflow_io.so']\n",
      "caused by: ['/opt/conda/lib/python3.10/site-packages/tensorflow_io/python/ops/libtensorflow_io.so: undefined symbol: _ZTVN10tensorflow13GcsFileSystemE']\n",
      "  warnings.warn(f\"file system plugins are not loaded: {e}\")\n"
     ]
    }
   ],
   "source": [
    "import os\n",
    "import math\n",
    "import random\n",
    "\n",
    "import numpy as np\n",
    "import pandas as pd\n",
    "import cv2\n",
    "import matplotlib.pyplot as plt\n",
    "import seaborn as sn\n",
    "import tensorflow as tf\n",
    "from sklearn.model_selection import train_test_split\n",
    "# from sklearn.metrics import confusion_matrix\n",
    "\n",
    "from tensorflow.keras.models import Sequential, Model\n",
    "from tensorflow.keras.layers import Dense, Dropout\n",
    "from tensorflow.keras.datasets import imdb\n",
    "\n",
    "import wandb\n",
    "from wandb.keras import WandbMetricsLogger"
   ]
  },
  {
   "cell_type": "code",
   "execution_count": 4,
   "metadata": {
    "execution": {
     "iopub.execute_input": "2023-08-03T18:17:33.536875Z",
     "iopub.status.busy": "2023-08-03T18:17:33.536501Z",
     "iopub.status.idle": "2023-08-03T18:17:33.544147Z",
     "shell.execute_reply": "2023-08-03T18:17:33.541523Z",
     "shell.execute_reply.started": "2023-08-03T18:17:33.536840Z"
    }
   },
   "outputs": [],
   "source": [
    "# num_classes = 10\n",
    "# num_features = 32 * 32\n",
    "\n",
    "lr = 0.1\n",
    "n_epochs = 20\n",
    "batch_size = 256"
   ]
  },
  {
   "cell_type": "code",
   "execution_count": 5,
   "metadata": {
    "execution": {
     "iopub.execute_input": "2023-08-03T18:17:33.546873Z",
     "iopub.status.busy": "2023-08-03T18:17:33.545727Z",
     "iopub.status.idle": "2023-08-03T18:18:18.028267Z",
     "shell.execute_reply": "2023-08-03T18:18:18.027351Z",
     "shell.execute_reply.started": "2023-08-03T18:17:33.546837Z"
    }
   },
   "outputs": [
    {
     "name": "stderr",
     "output_type": "stream",
     "text": [
      "\u001b[34m\u001b[1mwandb\u001b[0m: Logging into wandb.ai. (Learn how to deploy a W&B server locally: https://wandb.me/wandb-server)\n",
      "\u001b[34m\u001b[1mwandb\u001b[0m: You can find your API key in your browser here: https://wandb.ai/authorize\n",
      "\u001b[34m\u001b[1mwandb\u001b[0m: Paste an API key from your profile and hit enter, or press ctrl+c to quit:"
     ]
    },
    {
     "name": "stdin",
     "output_type": "stream",
     "text": [
      "  ········································\n"
     ]
    },
    {
     "name": "stderr",
     "output_type": "stream",
     "text": [
      "\u001b[34m\u001b[1mwandb\u001b[0m: Appending key for api.wandb.ai to your netrc file: /root/.netrc\n"
     ]
    },
    {
     "data": {
      "text/html": [
       "wandb version 0.15.8 is available!  To upgrade, please run:\n",
       " $ pip install wandb --upgrade"
      ],
      "text/plain": [
       "<IPython.core.display.HTML object>"
      ]
     },
     "metadata": {},
     "output_type": "display_data"
    },
    {
     "data": {
      "text/html": [
       "Tracking run with wandb version 0.15.5"
      ],
      "text/plain": [
       "<IPython.core.display.HTML object>"
      ]
     },
     "metadata": {},
     "output_type": "display_data"
    },
    {
     "data": {
      "text/html": [
       "Run data is saved locally in <code>/kaggle/working/wandb/run-20230803_181747-xuzns1w8</code>"
      ],
      "text/plain": [
       "<IPython.core.display.HTML object>"
      ]
     },
     "metadata": {},
     "output_type": "display_data"
    },
    {
     "data": {
      "text/html": [
       "Syncing run <strong><a href='https://wandb.ai/yisaienkov/2023-08-03_test_2/runs/xuzns1w8' target=\"_blank\">earthy-butterfly-2</a></strong> to <a href='https://wandb.ai/yisaienkov/2023-08-03_test_2' target=\"_blank\">Weights & Biases</a> (<a href='https://wandb.me/run' target=\"_blank\">docs</a>)<br/>"
      ],
      "text/plain": [
       "<IPython.core.display.HTML object>"
      ]
     },
     "metadata": {},
     "output_type": "display_data"
    },
    {
     "data": {
      "text/html": [
       " View project at <a href='https://wandb.ai/yisaienkov/2023-08-03_test_2' target=\"_blank\">https://wandb.ai/yisaienkov/2023-08-03_test_2</a>"
      ],
      "text/plain": [
       "<IPython.core.display.HTML object>"
      ]
     },
     "metadata": {},
     "output_type": "display_data"
    },
    {
     "data": {
      "text/html": [
       " View run at <a href='https://wandb.ai/yisaienkov/2023-08-03_test_2/runs/xuzns1w8' target=\"_blank\">https://wandb.ai/yisaienkov/2023-08-03_test_2/runs/xuzns1w8</a>"
      ],
      "text/plain": [
       "<IPython.core.display.HTML object>"
      ]
     },
     "metadata": {},
     "output_type": "display_data"
    },
    {
     "data": {
      "text/html": [
       "<button onClick=\"this.nextSibling.style.display='block';this.style.display='none';\">Display W&B run</button><iframe src='https://wandb.ai/yisaienkov/2023-08-03_test_2/runs/xuzns1w8?jupyter=true' style='border:none;width:100%;height:420px;display:none;'></iframe>"
      ],
      "text/plain": [
       "<wandb.sdk.wandb_run.Run at 0x7d2dfb5dd630>"
      ]
     },
     "execution_count": 5,
     "metadata": {},
     "output_type": "execute_result"
    }
   ],
   "source": [
    "wandb.init(project=\"2023-08-03_test_2\", config={\"lr\": lr, \"n_epochs\": n_epochs, \"batch_size\": batch_size})"
   ]
  },
  {
   "cell_type": "code",
   "execution_count": 6,
   "metadata": {
    "execution": {
     "iopub.execute_input": "2023-08-03T18:18:18.036363Z",
     "iopub.status.busy": "2023-08-03T18:18:18.033388Z",
     "iopub.status.idle": "2023-08-03T18:18:18.045144Z",
     "shell.execute_reply": "2023-08-03T18:18:18.044240Z",
     "shell.execute_reply.started": "2023-08-03T18:18:18.036325Z"
    }
   },
   "outputs": [],
   "source": [
    "def set_seed(seed_value):\n",
    "    random.seed(seed_value)\n",
    "    np.random.seed(seed_value)\n",
    "    tf.random.set_seed(seed_value)\n",
    "    os.environ[\"PYTHONHASHSEED\"] = str(seed_value)\n",
    "    os.environ[\"TF_DETERMINISTIC_OPS\"] = \"true\"\n",
    "    \n",
    "\n",
    "set_seed(42)"
   ]
  },
  {
   "cell_type": "code",
   "execution_count": 7,
   "metadata": {
    "execution": {
     "iopub.execute_input": "2023-08-03T18:18:28.793625Z",
     "iopub.status.busy": "2023-08-03T18:18:28.793139Z",
     "iopub.status.idle": "2023-08-03T18:18:36.867110Z",
     "shell.execute_reply": "2023-08-03T18:18:36.866110Z",
     "shell.execute_reply.started": "2023-08-03T18:18:28.793582Z"
    }
   },
   "outputs": [
    {
     "name": "stdout",
     "output_type": "stream",
     "text": [
      "Downloading data from https://storage.googleapis.com/tensorflow/tf-keras-datasets/imdb.npz\n",
      "17464789/17464789 [==============================] - 0s 0us/step\n"
     ]
    }
   ],
   "source": [
    "(train_data, train_labels), (test_data, test_labels) = imdb.load_data(num_words=10000)"
   ]
  },
  {
   "cell_type": "code",
   "execution_count": 8,
   "metadata": {
    "execution": {
     "iopub.execute_input": "2023-08-03T18:18:36.875116Z",
     "iopub.status.busy": "2023-08-03T18:18:36.872634Z",
     "iopub.status.idle": "2023-08-03T18:18:37.088550Z",
     "shell.execute_reply": "2023-08-03T18:18:37.087520Z",
     "shell.execute_reply.started": "2023-08-03T18:18:36.875075Z"
    }
   },
   "outputs": [
    {
     "name": "stdout",
     "output_type": "stream",
     "text": [
      "Downloading data from https://storage.googleapis.com/tensorflow/tf-keras-datasets/imdb_word_index.json\n",
      "1641221/1641221 [==============================] - 0s 0us/step\n"
     ]
    }
   ],
   "source": [
    "word_index = imdb.get_word_index()"
   ]
  },
  {
   "cell_type": "code",
   "execution_count": 9,
   "metadata": {
    "execution": {
     "iopub.execute_input": "2023-08-03T18:18:37.097154Z",
     "iopub.status.busy": "2023-08-03T18:18:37.094093Z",
     "iopub.status.idle": "2023-08-03T18:18:37.128224Z",
     "shell.execute_reply": "2023-08-03T18:18:37.127251Z",
     "shell.execute_reply.started": "2023-08-03T18:18:37.097116Z"
    }
   },
   "outputs": [],
   "source": [
    "word_index = imdb.get_word_index()\n",
    "reverse_word_index = {value: key for key, value in word_index.items()}\n",
    "decoded_review = ' '.join([reverse_word_index.get(i - 3, '?') for i in train_data[0]])"
   ]
  },
  {
   "cell_type": "code",
   "execution_count": 10,
   "metadata": {
    "execution": {
     "iopub.execute_input": "2023-08-03T18:18:37.136396Z",
     "iopub.status.busy": "2023-08-03T18:18:37.133974Z",
     "iopub.status.idle": "2023-08-03T18:18:37.148388Z",
     "shell.execute_reply": "2023-08-03T18:18:37.147471Z",
     "shell.execute_reply.started": "2023-08-03T18:18:37.136361Z"
    }
   },
   "outputs": [
    {
     "data": {
      "text/plain": [
       "\"? this film was just brilliant casting location scenery story direction everyone's really suited the part they played and you could just imagine being there robert ? is an amazing actor and now the same being director ? father came from the same scottish island as myself so i loved the fact there was a real connection with this film the witty remarks throughout the film were great it was just brilliant so much that i bought the film as soon as it was released for ? and would recommend it to everyone to watch and the fly fishing was amazing really cried at the end it was so sad and you know what they say if you cry at a film it must have been good and this definitely was also ? to the two little boy's that played the ? of norman and paul they were just brilliant children are often left out of the ? list i think because the stars that play them all grown up are such a big profile for the whole film but these children are amazing and should be praised for what they have done don't you think the whole story was so lovely because it was true and was someone's life after all that was shared with us all\""
      ]
     },
     "execution_count": 10,
     "metadata": {},
     "output_type": "execute_result"
    }
   ],
   "source": [
    "decoded_review = ' '.join([reverse_word_index.get(i - 3, '?') for i in train_data[0]])\n",
    "decoded_review"
   ]
  },
  {
   "cell_type": "code",
   "execution_count": 11,
   "metadata": {
    "execution": {
     "iopub.execute_input": "2023-08-03T18:18:37.156390Z",
     "iopub.status.busy": "2023-08-03T18:18:37.153291Z",
     "iopub.status.idle": "2023-08-03T18:18:37.167632Z",
     "shell.execute_reply": "2023-08-03T18:18:37.166538Z",
     "shell.execute_reply.started": "2023-08-03T18:18:37.156351Z"
    }
   },
   "outputs": [
    {
     "name": "stdout",
     "output_type": "stream",
     "text": [
      "[1, 14, 22, 16, 43, 530, 973, 1622, 1385, 65, 458, 4468, 66, 3941, 4, 173, 36, 256, 5, 25, 100, 43, 838, 112, 50, 670, 2, 9, 35, 480, 284, 5, 150, 4, 172, 112, 167, 2, 336, 385, 39, 4, 172, 4536, 1111, 17, 546, 38, 13, 447, 4, 192, 50, 16, 6, 147, 2025, 19, 14, 22, 4, 1920, 4613, 469, 4, 22, 71, 87, 12, 16, 43, 530, 38, 76, 15, 13, 1247, 4, 22, 17, 515, 17, 12, 16, 626, 18, 2, 5, 62, 386, 12, 8, 316, 8, 106, 5, 4, 2223, 5244, 16, 480, 66, 3785, 33, 4, 130, 12, 16, 38, 619, 5, 25, 124, 51, 36, 135, 48, 25, 1415, 33, 6, 22, 12, 215, 28, 77, 52, 5, 14, 407, 16, 82, 2, 8, 4, 107, 117, 5952, 15, 256, 4, 2, 7, 3766, 5, 723, 36, 71, 43, 530, 476, 26, 400, 317, 46, 7, 4, 2, 1029, 13, 104, 88, 4, 381, 15, 297, 98, 32, 2071, 56, 26, 141, 6, 194, 7486, 18, 4, 226, 22, 21, 134, 476, 26, 480, 5, 144, 30, 5535, 18, 51, 36, 28, 224, 92, 25, 104, 4, 226, 65, 16, 38, 1334, 88, 12, 16, 283, 5, 16, 4472, 113, 103, 32, 15, 16, 5345, 19, 178, 32]\n"
     ]
    }
   ],
   "source": [
    "print(train_data[0])"
   ]
  },
  {
   "cell_type": "code",
   "execution_count": 12,
   "metadata": {
    "execution": {
     "iopub.execute_input": "2023-08-03T18:18:37.174936Z",
     "iopub.status.busy": "2023-08-03T18:18:37.172605Z",
     "iopub.status.idle": "2023-08-03T18:18:37.181962Z",
     "shell.execute_reply": "2023-08-03T18:18:37.180925Z",
     "shell.execute_reply.started": "2023-08-03T18:18:37.174897Z"
    }
   },
   "outputs": [],
   "source": [
    "# [5, 9, 3, 1, 9]\n",
    "# [0, 1, 0, 1, 0, 1, 0, 0, 0, 1, 0]"
   ]
  },
  {
   "cell_type": "code",
   "execution_count": 13,
   "metadata": {
    "execution": {
     "iopub.execute_input": "2023-08-03T18:18:37.186312Z",
     "iopub.status.busy": "2023-08-03T18:18:37.183742Z",
     "iopub.status.idle": "2023-08-03T18:18:37.207663Z",
     "shell.execute_reply": "2023-08-03T18:18:37.206623Z",
     "shell.execute_reply.started": "2023-08-03T18:18:37.186261Z"
    }
   },
   "outputs": [],
   "source": [
    "class Dataset(tf.keras.utils.Sequence):\n",
    "    def __init__(self, X, y, shuffle=True, batch_size=256):\n",
    "        self.X = X\n",
    "        self.y = y\n",
    "        self.shuffle = shuffle\n",
    "        self.indexes = np.arange(len(self.X))\n",
    "        self.batch_size = batch_size\n",
    "        \n",
    "        if shuffle:\n",
    "            self.on_epoch_end()\n",
    "    \n",
    "    def __len__(self):\n",
    "        return math.ceil(len(self.X) / self.batch_size)\n",
    "    \n",
    "    def __getitem__(self, idx):\n",
    "        indexes = self.indexes[idx * self.batch_size : (idx + 1) * self.batch_size]\n",
    "        batch_X_row = [self.X[i] for i in indexes]\n",
    "        batch_y = [self.y[i] for i in indexes]\n",
    "        \n",
    "        batch_X = []\n",
    "        for i in range(min(self.batch_size, len(indexes))):\n",
    "            new_vector = [0] * 10000\n",
    "            for elem in batch_X_row[i]:\n",
    "                new_vector[elem] = 1\n",
    "            batch_X.append(new_vector)\n",
    "        \n",
    "        return np.array(batch_X), np.array(batch_y)\n",
    "        \n",
    "    def on_epoch_end(self):\n",
    "        if self.shuffle:\n",
    "            np.random.shuffle(self.indexes)"
   ]
  },
  {
   "cell_type": "code",
   "execution_count": 14,
   "metadata": {
    "execution": {
     "iopub.execute_input": "2023-08-03T18:18:37.216152Z",
     "iopub.status.busy": "2023-08-03T18:18:37.212960Z",
     "iopub.status.idle": "2023-08-03T18:18:37.225447Z",
     "shell.execute_reply": "2023-08-03T18:18:37.224391Z",
     "shell.execute_reply.started": "2023-08-03T18:18:37.216112Z"
    }
   },
   "outputs": [],
   "source": [
    "train_dataset = Dataset(train_data, train_labels, shuffle=True, batch_size=2)"
   ]
  },
  {
   "cell_type": "code",
   "execution_count": 15,
   "metadata": {
    "execution": {
     "iopub.execute_input": "2023-08-03T18:18:37.232836Z",
     "iopub.status.busy": "2023-08-03T18:18:37.230283Z",
     "iopub.status.idle": "2023-08-03T18:18:37.249397Z",
     "shell.execute_reply": "2023-08-03T18:18:37.248400Z",
     "shell.execute_reply.started": "2023-08-03T18:18:37.232800Z"
    }
   },
   "outputs": [
    {
     "data": {
      "text/plain": [
       "((2, 10000), (2,))"
      ]
     },
     "execution_count": 15,
     "metadata": {},
     "output_type": "execute_result"
    }
   ],
   "source": [
    "X, y = train_dataset[0]\n",
    "X.shape, y.shape"
   ]
  },
  {
   "cell_type": "code",
   "execution_count": 16,
   "metadata": {
    "execution": {
     "iopub.execute_input": "2023-08-03T18:18:37.258993Z",
     "iopub.status.busy": "2023-08-03T18:18:37.256610Z",
     "iopub.status.idle": "2023-08-03T18:18:37.266275Z",
     "shell.execute_reply": "2023-08-03T18:18:37.265331Z",
     "shell.execute_reply.started": "2023-08-03T18:18:37.258957Z"
    }
   },
   "outputs": [],
   "source": [
    "# ids = [...]\n",
    "# y = [0, 0, 0, 0, 1, 1, 1, 0, 1]\n",
    "# i = [1, 4, 2, 7, 9, 0, 8, 5, 6]\n",
    "\n",
    "# ids[i[0:2]] - ids[[1, 4]]\n",
    "# y[i[0:2]] - y[[2, 7]]\n",
    "\n",
    "# batch_size = 2\n",
    "# i[0:2] - [1, 4] - [0, 1]\n",
    "# i[2:4] - [2, 7] - [0, 0]\n",
    "# i[4:6] - [9, 0] - [1, 0]"
   ]
  },
  {
   "cell_type": "code",
   "execution_count": 17,
   "metadata": {
    "execution": {
     "iopub.execute_input": "2023-08-03T18:18:37.273641Z",
     "iopub.status.busy": "2023-08-03T18:18:37.270987Z",
     "iopub.status.idle": "2023-08-03T18:18:37.287886Z",
     "shell.execute_reply": "2023-08-03T18:18:37.286929Z",
     "shell.execute_reply.started": "2023-08-03T18:18:37.273605Z"
    }
   },
   "outputs": [
    {
     "data": {
      "text/plain": [
       "98"
      ]
     },
     "execution_count": 17,
     "metadata": {},
     "output_type": "execute_result"
    }
   ],
   "source": [
    "train_dataset = Dataset(train_data, train_labels, shuffle=True, batch_size=batch_size)\n",
    "valid_dataset = Dataset(test_data, test_labels, shuffle=False, batch_size=batch_size)\n",
    "\n",
    "len(train_dataset)"
   ]
  },
  {
   "cell_type": "code",
   "execution_count": 18,
   "metadata": {
    "execution": {
     "iopub.execute_input": "2023-08-03T18:18:37.295057Z",
     "iopub.status.busy": "2023-08-03T18:18:37.292586Z",
     "iopub.status.idle": "2023-08-03T18:18:41.761214Z",
     "shell.execute_reply": "2023-08-03T18:18:41.760141Z",
     "shell.execute_reply.started": "2023-08-03T18:18:37.295002Z"
    }
   },
   "outputs": [],
   "source": [
    "model = Sequential(\n",
    "    [\n",
    "        Dense(1024, activation=\"relu\", input_shape=(10000,)),\n",
    "        Dense(1024, activation=\"relu\"),\n",
    "        Dense(1024, activation=\"relu\"),\n",
    "        Dense(1, activation=\"sigmoid\"),\n",
    "    ]\n",
    ")"
   ]
  },
  {
   "cell_type": "code",
   "execution_count": 19,
   "metadata": {
    "execution": {
     "iopub.execute_input": "2023-08-03T18:18:41.768935Z",
     "iopub.status.busy": "2023-08-03T18:18:41.766136Z",
     "iopub.status.idle": "2023-08-03T18:18:41.796758Z",
     "shell.execute_reply": "2023-08-03T18:18:41.795805Z",
     "shell.execute_reply.started": "2023-08-03T18:18:41.768891Z"
    }
   },
   "outputs": [],
   "source": [
    "from tensorflow.keras.optimizers import Adam, SGD\n",
    "from tensorflow.keras.metrics import Accuracy\n",
    "\n",
    "model.compile(\n",
    "    optimizer=Adam(lr=lr),\n",
    "    loss=\"binary_crossentropy\",\n",
    "    metrics=[\"accuracy\"],\n",
    ")"
   ]
  },
  {
   "cell_type": "code",
   "execution_count": 20,
   "metadata": {
    "execution": {
     "iopub.execute_input": "2023-08-03T18:18:41.804043Z",
     "iopub.status.busy": "2023-08-03T18:18:41.801449Z",
     "iopub.status.idle": "2023-08-03T18:18:41.812649Z",
     "shell.execute_reply": "2023-08-03T18:18:41.811741Z",
     "shell.execute_reply.started": "2023-08-03T18:18:41.804005Z"
    }
   },
   "outputs": [],
   "source": [
    "from tensorflow.keras.callbacks import EarlyStopping, ModelCheckpoint\n",
    "\n",
    "callback_early_stopping = EarlyStopping(\n",
    "    monitor=\"val_accuracy\",\n",
    "    patience=2,\n",
    "    verbose=1,\n",
    "    mode=\"max\",\n",
    ")\n",
    "\n",
    "callback_save = ModelCheckpoint(\n",
    "    \"best.hdf5\",\n",
    "    monitor=\"val_loss\",\n",
    "    save_best_only=True,\n",
    ")"
   ]
  },
  {
   "cell_type": "code",
   "execution_count": 21,
   "metadata": {
    "execution": {
     "iopub.execute_input": "2023-08-03T18:18:41.820524Z",
     "iopub.status.busy": "2023-08-03T18:18:41.817884Z",
     "iopub.status.idle": "2023-08-03T18:22:54.173308Z",
     "shell.execute_reply": "2023-08-03T18:22:54.172032Z",
     "shell.execute_reply.started": "2023-08-03T18:18:41.820490Z"
    }
   },
   "outputs": [
    {
     "name": "stdout",
     "output_type": "stream",
     "text": [
      "Epoch 1/20\n",
      "98/98 [==============================] - 90s 851ms/step - loss: 0.3400 - accuracy: 0.8435 - val_loss: 0.2798 - val_accuracy: 0.8838\n",
      "Epoch 2/20\n",
      "98/98 [==============================] - 78s 795ms/step - loss: 0.0979 - accuracy: 0.9652 - val_loss: 0.3669 - val_accuracy: 0.8601\n",
      "Epoch 3/20\n",
      "98/98 [==============================] - 80s 817ms/step - loss: 0.0182 - accuracy: 0.9942 - val_loss: 0.6632 - val_accuracy: 0.8671\n",
      "Epoch 3: early stopping\n"
     ]
    }
   ],
   "source": [
    "history = model.fit(\n",
    "    train_dataset,\n",
    "    validation_data=valid_dataset,\n",
    "    epochs=n_epochs,\n",
    "    verbose=1,\n",
    "    callbacks=[callback_early_stopping, WandbMetricsLogger()]\n",
    ")"
   ]
  },
  {
   "cell_type": "code",
   "execution_count": 23,
   "metadata": {
    "execution": {
     "iopub.execute_input": "2023-08-03T18:30:36.181273Z",
     "iopub.status.busy": "2023-08-03T18:30:36.180849Z",
     "iopub.status.idle": "2023-08-03T18:30:36.309040Z",
     "shell.execute_reply": "2023-08-03T18:30:36.307692Z",
     "shell.execute_reply.started": "2023-08-03T18:30:36.181237Z"
    }
   },
   "outputs": [],
   "source": [
    "model.save_weights(\"my_model.hdf5\")"
   ]
  },
  {
   "cell_type": "code",
   "execution_count": 74,
   "metadata": {
    "execution": {
     "iopub.execute_input": "2023-08-03T17:42:37.223643Z",
     "iopub.status.busy": "2023-08-03T17:42:37.223220Z",
     "iopub.status.idle": "2023-08-03T17:42:37.447025Z",
     "shell.execute_reply": "2023-08-03T17:42:37.445919Z",
     "shell.execute_reply.started": "2023-08-03T17:42:37.223594Z"
    }
   },
   "outputs": [
    {
     "data": {
      "image/png": "[encoded data removed]",
      "text/plain": [
       "<Figure size 640x480 with 1 Axes>"
      ]
     },
     "metadata": {},
     "output_type": "display_data"
    }
   ],
   "source": [
    "plt.plot(history.history[\"loss\"], label=\"train loss\")\n",
    "plt.plot(history.history[\"val_loss\"], label=\"valid loss\")\n",
    "plt.grid()"
   ]
  },
  {
   "cell_type": "code",
   "execution_count": 75,
   "metadata": {
    "execution": {
     "iopub.execute_input": "2023-08-03T17:42:37.625528Z",
     "iopub.status.busy": "2023-08-03T17:42:37.625142Z",
     "iopub.status.idle": "2023-08-03T17:42:37.832882Z",
     "shell.execute_reply": "2023-08-03T17:42:37.831220Z",
     "shell.execute_reply.started": "2023-08-03T17:42:37.625498Z"
    }
   },
   "outputs": [
    {
     "data": {
      "image/png": "[encoded data removed]",
      "text/plain": [
       "<Figure size 640x480 with 1 Axes>"
      ]
     },
     "metadata": {},
     "output_type": "display_data"
    }
   ],
   "source": [
    "plt.plot(history.history[\"accuracy\"], label=\"train loss\")\n",
    "plt.plot(history.history[\"val_accuracy\"], label=\"valid loss\")\n",
    "plt.grid()"
   ]
  },
  {
   "cell_type": "code",
   "execution_count": null,
   "metadata": {},
   "outputs": [],
   "source": []
  },
  {
   "cell_type": "markdown",
   "metadata": {},
   "source": []
  },
  {
   "cell_type": "code",
   "execution_count": null,
   "metadata": {},
   "outputs": [],
   "source": [
    "word_index = imdb.get_word_index()\n",
    "reverse_word_index = {value: key for key, value in word_index.items()}"
   ]
  },
  {
   "cell_type": "code",
   "execution_count": 27,
   "metadata": {
    "execution": {
     "iopub.execute_input": "2023-08-03T18:45:29.039333Z",
     "iopub.status.busy": "2023-08-03T18:45:29.038577Z",
     "iopub.status.idle": "2023-08-03T18:45:29.048225Z",
     "shell.execute_reply": "2023-08-03T18:45:29.047173Z",
     "shell.execute_reply.started": "2023-08-03T18:45:29.039294Z"
    }
   },
   "outputs": [
    {
     "name": "stdout",
     "output_type": "stream",
     "text": [
      "[1, 591, 202, 14, 31, 6, 717, 10, 10, 2, 2, 5, 4, 360, 7, 4, 177, 5760, 394, 354, 4, 123, 9, 1035, 1035, 1035, 10, 10, 13, 92, 124, 89, 488, 7944, 100, 28, 1668, 14, 31, 23, 27, 7479, 29, 220, 468, 8, 124, 14, 286, 170, 8, 157, 46, 5, 27, 239, 16, 179, 2, 38, 32, 25, 7944, 451, 202, 14, 6, 717]\n"
     ]
    }
   ],
   "source": [
    "print(test_data[0])"
   ]
  },
  {
   "cell_type": "code",
   "execution_count": 31,
   "metadata": {
    "execution": {
     "iopub.execute_input": "2023-08-03T18:47:44.577433Z",
     "iopub.status.busy": "2023-08-03T18:47:44.577034Z",
     "iopub.status.idle": "2023-08-03T18:47:44.589280Z",
     "shell.execute_reply": "2023-08-03T18:47:44.586785Z",
     "shell.execute_reply.started": "2023-08-03T18:47:44.577399Z"
    }
   },
   "outputs": [
    {
     "data": {
      "text/plain": [
       "\"? please give this one a miss br br ? ? and the rest of the cast rendered terrible performances the show is flat flat flat br br i don't know how michael madison could have allowed this one on his plate he almost seemed to know this wasn't going to work out and his performance was quite ? so all you madison fans give this a miss\""
      ]
     },
     "execution_count": 31,
     "metadata": {},
     "output_type": "execute_result"
    }
   ],
   "source": [
    "decoded_review = ' '.join([reverse_word_index.get(i - 3, '?') for i in test_data[0]])\n",
    "decoded_review"
   ]
  },
  {
   "cell_type": "code",
   "execution_count": 36,
   "metadata": {
    "execution": {
     "iopub.execute_input": "2023-08-03T18:53:35.618320Z",
     "iopub.status.busy": "2023-08-03T18:53:35.617254Z",
     "iopub.status.idle": "2023-08-03T18:53:35.628304Z",
     "shell.execute_reply": "2023-08-03T18:53:35.627066Z",
     "shell.execute_reply.started": "2023-08-03T18:53:35.618271Z"
    }
   },
   "outputs": [
    {
     "name": "stdout",
     "output_type": "stream",
     "text": [
      "[1, 591, 202, 14, 31, 6, 717, 10, 10, 1, 1, 5, 4, 360, 7, 4, 177, 5760, 394, 354, 4, 123, 9, 1035, 1035, 1035, 10, 10, 13, 92, 124, 89, 488, 7944, 100, 28, 1668, 14, 31, 23, 27, 7479, 29, 220, 468, 8, 124, 14, 286, 170, 8, 157, 46, 5, 27, 239, 16, 179, 1, 38, 32, 25, 7944, 451, 202, 14, 6, 717]\n"
     ]
    }
   ],
   "source": [
    "tmp = [word_index.get(word, -2) + 3 for word in decoded_review.split(\" \")]\n",
    "print(tmp)"
   ]
  },
  {
   "cell_type": "code",
   "execution_count": 37,
   "metadata": {
    "execution": {
     "iopub.execute_input": "2023-08-03T18:53:47.905424Z",
     "iopub.status.busy": "2023-08-03T18:53:47.905044Z",
     "iopub.status.idle": "2023-08-03T18:53:48.012181Z",
     "shell.execute_reply": "2023-08-03T18:53:48.010446Z",
     "shell.execute_reply.started": "2023-08-03T18:53:47.905393Z"
    }
   },
   "outputs": [
    {
     "name": "stdout",
     "output_type": "stream",
     "text": [
      "1/1 [==============================] - 0s 34ms/step\n"
     ]
    },
    {
     "data": {
      "text/plain": [
       "array([[0.00849102]], dtype=float32)"
      ]
     },
     "execution_count": 37,
     "metadata": {},
     "output_type": "execute_result"
    }
   ],
   "source": [
    "new_vector = [0] * 10000\n",
    "for elem in tmp:\n",
    "    new_vector[elem] = 1\n",
    "\n",
    "new_vector = np.array(new_vector).reshape(1, 10000)\n",
    "model.predict(new_vector)"
   ]
  },
  {
   "cell_type": "code",
   "execution_count": 76,
   "metadata": {
    "execution": {
     "iopub.execute_input": "2023-08-03T17:42:38.473104Z",
     "iopub.status.busy": "2023-08-03T17:42:38.472432Z",
     "iopub.status.idle": "2023-08-03T17:42:42.468707Z",
     "shell.execute_reply": "2023-08-03T17:42:42.467579Z",
     "shell.execute_reply.started": "2023-08-03T17:42:38.473058Z"
    }
   },
   "outputs": [
    {
     "data": {
      "text/html": [
       "Waiting for W&B process to finish... <strong style=\"color:green\">(success).</strong>"
      ],
      "text/plain": [
       "<IPython.core.display.HTML object>"
      ]
     },
     "metadata": {},
     "output_type": "display_data"
    },
    {
     "data": {
      "application/vnd.jupyter.widget-view+json": {
       "model_id": "330cf3431ed14db19e2c44c5f6c638c6",
       "version_major": 2,
       "version_minor": 0
      },
      "text/plain": [
       "VBox(children=(Label(value='0.001 MB of 0.001 MB uploaded (0.000 MB deduped)\\r'), FloatProgress(value=1.0, max…"
      ]
     },
     "metadata": {},
     "output_type": "display_data"
    },
    {
     "data": {
      "text/html": [
       "<style>\n",
       "    table.wandb td:nth-child(1) { padding: 0 10px; text-align: left ; width: auto;} td:nth-child(2) {text-align: left ; width: 100%}\n",
       "    .wandb-row { display: flex; flex-direction: row; flex-wrap: wrap; justify-content: flex-start; width: 100% }\n",
       "    .wandb-col { display: flex; flex-direction: column; flex-basis: 100%; flex: 1; padding: 10px; }\n",
       "    </style>\n",
       "<div class=\"wandb-row\"><div class=\"wandb-col\"><h3>Run history:</h3><br/><table class=\"wandb\"><tr><td>epoch/categorical_accuracy</td><td>▁▃▄▅▅▆▆▇██</td></tr><tr><td>epoch/epoch</td><td>▁▂▃▃▄▅▆▆▇█</td></tr><tr><td>epoch/learning_rate</td><td>▁▁▁▁▁▁▁▁▁▁</td></tr><tr><td>epoch/loss</td><td>█▅▅▄▄▃▃▂▁▁</td></tr><tr><td>epoch/val_categorical_accuracy</td><td>▁▃▄▅▄▇▇█▆▇</td></tr><tr><td>epoch/val_loss</td><td>█▇▅▄▄▂▁▁▄▁</td></tr></table><br/></div><div class=\"wandb-col\"><h3>Run summary:</h3><br/><table class=\"wandb\"><tr><td>epoch/categorical_accuracy</td><td>0.3525</td></tr><tr><td>epoch/epoch</td><td>9</td></tr><tr><td>epoch/learning_rate</td><td>0.001</td></tr><tr><td>epoch/loss</td><td>1.8058</td></tr><tr><td>epoch/val_categorical_accuracy</td><td>0.29</td></tr><tr><td>epoch/val_loss</td><td>1.94087</td></tr></table><br/></div></div>"
      ],
      "text/plain": [
       "<IPython.core.display.HTML object>"
      ]
     },
     "metadata": {},
     "output_type": "display_data"
    },
    {
     "data": {
      "text/html": [
       " View run <strong style=\"color:#cdcd00\">curious-smoke-2</strong> at: <a href='https://wandb.ai/yisaienkov/2023-08-03_test/runs/cdsrb2qg' target=\"_blank\">https://wandb.ai/yisaienkov/2023-08-03_test/runs/cdsrb2qg</a><br/>Synced 6 W&B file(s), 0 media file(s), 0 artifact file(s) and 0 other file(s)"
      ],
      "text/plain": [
       "<IPython.core.display.HTML object>"
      ]
     },
     "metadata": {},
     "output_type": "display_data"
    },
    {
     "data": {
      "text/html": [
       "Find logs at: <code>./wandb/run-20230803_173422-cdsrb2qg/logs</code>"
      ],
      "text/plain": [
       "<IPython.core.display.HTML object>"
      ]
     },
     "metadata": {},
     "output_type": "display_data"
    }
   ],
   "source": [
    "wandb.finish()"
   ]
  },
  {
   "cell_type": "code",
   "execution_count": null,
   "metadata": {},
   "outputs": [],
   "source": [
    "# model = NN()\n",
    "# optimizer = tf.optimizers.SGD(lr)\n",
    "# train_dataset = Dataset(X_train, y_train)\n",
    "# train_data = tf.data.Dataset.from_generator(train_dataset, output_types=(tf.float32, tf.uint8))\n",
    "# train_data = train_data.batch(batch_size).prefetch(2)\n",
    "# valid_dataset = Dataset(X_valid, y_valid)\n",
    "# valid_data = tf.data.Dataset.from_generator(valid_dataset, output_types=(tf.float32, tf.uint8))\n",
    "# valid_data = valid_data.batch(batch_size).prefetch(2)\n",
    "\n",
    "# trainer = Trainer(model, optimizer, 8)\n",
    "# e_train_loss, e_train_score, e_valid_loss, e_valid_score = trainer.fit(train_data, valid_data)"
   ]
  },
  {
   "cell_type": "code",
   "execution_count": null,
   "metadata": {},
   "outputs": [],
   "source": [
    "plt.figure(figsize=(8, 4))\n",
    "plt.plot(e_train_loss)\n",
    "plt.plot(e_valid_loss)\n",
    "plt.grid()"
   ]
  },
  {
   "cell_type": "code",
   "execution_count": null,
   "metadata": {},
   "outputs": [],
   "source": [
    "plt.figure(figsize=(8, 4))\n",
    "plt.plot(e_train_score)\n",
    "plt.plot(e_valid_score)\n",
    "plt.grid()"
   ]
  },
  {
   "cell_type": "code",
   "execution_count": null,
   "metadata": {},
   "outputs": [],
   "source": [
    "df = pd.read_csv(\"/kaggle/input/fashionmnist/fashion-mnist_test.csv\")"
   ]
  },
  {
   "cell_type": "code",
   "execution_count": null,
   "metadata": {},
   "outputs": [],
   "source": [
    "df"
   ]
  },
  {
   "cell_type": "code",
   "execution_count": null,
   "metadata": {},
   "outputs": [],
   "source": [
    "x_test_sample = df.iloc[:4, 1:].values"
   ]
  },
  {
   "cell_type": "code",
   "execution_count": null,
   "metadata": {},
   "outputs": [],
   "source": [
    "x_test_sample = x_test_sample.astype(np.float32)\n",
    "x_test_sample /= 255."
   ]
  },
  {
   "cell_type": "code",
   "execution_count": null,
   "metadata": {},
   "outputs": [],
   "source": [
    "test_out = model(x_test_sample)"
   ]
  },
  {
   "cell_type": "code",
   "execution_count": null,
   "metadata": {},
   "outputs": [],
   "source": [
    "test_out.numpy().argmax(axis=1)"
   ]
  },
  {
   "cell_type": "code",
   "execution_count": null,
   "metadata": {},
   "outputs": [],
   "source": [
    "plt.figure(figsize=(8, 8))\n",
    "for i, _x in enumerate(x_test_sample, 1):\n",
    "    plt.subplot(2, 2, i)\n",
    "    plt.imshow(_x.reshape(28, 28), cmap=\"gray\")\n",
    "    plt.title(f\"Predict: {test_out.numpy().argmax(axis=1)[i - 1]} Real: {df.iloc[i-1, 0]}\")"
   ]
  },
  {
   "cell_type": "code",
   "execution_count": null,
   "metadata": {},
   "outputs": [],
   "source": [
    "x_test = df.iloc[:, 1:].values\n",
    "x_test = x_test.astype(np.float32)\n",
    "x_test /= 255."
   ]
  },
  {
   "cell_type": "code",
   "execution_count": null,
   "metadata": {},
   "outputs": [],
   "source": []
  },
  {
   "cell_type": "code",
   "execution_count": null,
   "metadata": {},
   "outputs": [],
   "source": [
    "test_out = model(x_test).numpy()"
   ]
  },
  {
   "cell_type": "code",
   "execution_count": null,
   "metadata": {},
   "outputs": [],
   "source": [
    "y_pred_test = test_out.argmax(axis=1)\n",
    "y_test = df.iloc[:, 0].values"
   ]
  },
  {
   "cell_type": "code",
   "execution_count": null,
   "metadata": {},
   "outputs": [],
   "source": [
    "np.mean(y_pred_test == y_test)"
   ]
  },
  {
   "cell_type": "code",
   "execution_count": null,
   "metadata": {},
   "outputs": [],
   "source": [
    "arr = \\\n",
    "[\n",
    "    \"T-shirt/top\",\n",
    "    \"Trouser\",\n",
    "    \"Pullover\",\n",
    "    \"Dress\",\n",
    "    \"Coat\",\n",
    "    \"Sandal\",\n",
    "    \"Shirt\",\n",
    "    \"Sneaker\",\n",
    "    \"Bag\",\n",
    "    \"Ankle boot\",\n",
    "]"
   ]
  },
  {
   "cell_type": "code",
   "execution_count": null,
   "metadata": {},
   "outputs": [],
   "source": [
    "cm = confusion_matrix(y_test, y_pred_test)\n",
    "df_confusion_matrix = pd.DataFrame(cm, index=arr, columns=arr)\n",
    "\n",
    "plt.figure(figsize=(8, 8))\n",
    "sn.heatmap(df_confusion_matrix, fmt=\"d\", annot=True, cbar=False, cmap=\"Oranges\", linewidths=1, linecolor=\"black\")\n",
    "plt.xlabel(\"Predicted labels\", fontsize=15)\n",
    "plt.xticks(fontsize=10)\n",
    "plt.ylabel(\"True labels\", fontsize=15)\n",
    "plt.yticks(fontsize=10, rotation=0);"
   ]
  },
  {
   "cell_type": "code",
   "execution_count": null,
   "metadata": {},
   "outputs": [],
   "source": [
    "ea = pd.DataFrame({\"pred\": y_pred_test, \"y\": y_test})"
   ]
  },
  {
   "cell_type": "code",
   "execution_count": null,
   "metadata": {},
   "outputs": [],
   "source": [
    "ea[\"equal\"] = ea[\"pred\"] == ea[\"y\"]"
   ]
  },
  {
   "cell_type": "code",
   "execution_count": null,
   "metadata": {},
   "outputs": [],
   "source": [
    "ea[(ea[\"y\"] == 6) & (ea[\"equal\"] == False)]"
   ]
  },
  {
   "cell_type": "code",
   "execution_count": null,
   "metadata": {},
   "outputs": [],
   "source": [
    "plt.figure(figsize=(8, 8))\n",
    "index = [7, 16, 43, 58]\n",
    "for i, _x in enumerate(x_test[index], 1):\n",
    "    plt.subplot(2, 2, i)\n",
    "    plt.imshow(_x.reshape(28, 28), cmap=\"gray\")\n",
    "    plt.title(f\"Predict: {arr[y_pred_test[index[i - 1]]]} Real: {arr[y_test[index[i - 1]]]}\")"
   ]
  },
  {
   "cell_type": "code",
   "execution_count": null,
   "metadata": {},
   "outputs": [],
   "source": [
    ", 1"
   ]
  }
 ],
 "metadata": {
  "kernelspec": {
   "display_name": "Python 3 (ipykernel)",
   "language": "python",
   "name": "python3"
  },
  "language_info": {
   "codemirror_mode": {
    "name": "ipython",
    "version": 3
   },
   "file_extension": ".py",
   "mimetype": "text/x-python",
   "name": "python",
   "nbconvert_exporter": "python",
   "pygments_lexer": "ipython3",
   "version": "3.9.16"
  }
 },
 "nbformat": 4,
 "nbformat_minor": 4
}
