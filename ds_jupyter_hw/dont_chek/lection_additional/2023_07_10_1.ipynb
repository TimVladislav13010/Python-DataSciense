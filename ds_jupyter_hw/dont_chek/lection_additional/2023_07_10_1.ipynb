{
  "nbformat": 4,
  "nbformat_minor": 0,
  "metadata": {
    "colab": {
      "provenance": []
    },
    "kernelspec": {
      "name": "python3",
      "display_name": "Python 3"
    },
    "language_info": {
      "name": "python"
    }
  },
  "cells": [
    {
      "cell_type": "code",
      "execution_count": 87,
      "metadata": {
        "id": "1M4G4XDFmEt0"
      },
      "outputs": [],
      "source": [
        "import numpy as np\n",
        "import pandas as pd\n",
        "import os\n",
        "import glob\n",
        "import matplotlib.pyplot as plt\n",
        "from sklearn import datasets\n",
        "from sklearn.ensemble import RandomForestClassifier\n",
        "from sklearn.model_selection import train_test_split\n",
        "from sklearn.svm import SVC\n",
        "from sklearn.metrics import accuracy_score, f1_score, roc_auc_score\n",
        "from sklearn.model_selection import GridSearchCV\n",
        "from sklearn.metrics import confusion_matrix\n",
        "import seaborn as sn"
      ]
    },
    {
      "cell_type": "code",
      "source": [
        "kadfs = []\n",
        "targets = []\n",
        "for path in glob.glob(\"data/*/*\"):\n",
        "    targets.extend([os.path.split(path)[0]] * 30)\n",
        "    dfs.append(pd.read_csv(path))"
      ],
      "metadata": {
        "id": "Nv425IXOvqNj"
      },
      "execution_count": 81,
      "outputs": []
    },
    {
      "cell_type": "code",
      "source": [
        "tmp_df = pd.concat(dfs)\n",
        "tmp_df[\"target\"] = targets\n",
        "tmp_df"
      ],
      "metadata": {
        "colab": {
          "base_uri": "https://localhost:8080/",
          "height": 424
        },
        "id": "fcvQ1HmixGTl",
        "outputId": "bcdcc413-7005-4478-8732-85ed73d1da15"
      },
      "execution_count": 82,
      "outputs": [
        {
          "output_type": "execute_result",
          "data": {
            "text/plain": [
              "    accelerometer_X  accelerometer_Y  accelerometer_Z        target\n",
              "0          0.062249         3.682282         9.097966     data/idle\n",
              "1         -0.770933         3.337517         9.045294     data/idle\n",
              "2         -0.071826         4.630386         9.083601     data/idle\n",
              "3          0.033519         5.018247         8.140286     data/idle\n",
              "4         -0.105345         5.295975         7.996634     data/idle\n",
              "..              ...              ...              ...           ...\n",
              "25        -2.331952        16.510414        -0.009577  data/running\n",
              "26        -4.505887        23.410503         7.891289  data/running\n",
              "27         1.005565        -5.420472         4.683059  data/running\n",
              "28        -6.804321        22.687456        -0.114922  data/running\n",
              "29         0.675165         9.983821         2.686294  data/running\n",
              "\n",
              "[193860 rows x 4 columns]"
            ],
            "text/html": [
              "\n",
              "  <div id=\"df-e106944e-dba7-407c-b4a7-9beee1af66ed\">\n",
              "    <div class=\"colab-df-container\">\n",
              "      <div>\n",
              "<style scoped>\n",
              "    .dataframe tbody tr th:only-of-type {\n",
              "        vertical-align: middle;\n",
              "    }\n",
              "\n",
              "    .dataframe tbody tr th {\n",
              "        vertical-align: top;\n",
              "    }\n",
              "\n",
              "    .dataframe thead th {\n",
              "        text-align: right;\n",
              "    }\n",
              "</style>\n",
              "<table border=\"1\" class=\"dataframe\">\n",
              "  <thead>\n",
              "    <tr style=\"text-align: right;\">\n",
              "      <th></th>\n",
              "      <th>accelerometer_X</th>\n",
              "      <th>accelerometer_Y</th>\n",
              "      <th>accelerometer_Z</th>\n",
              "      <th>target</th>\n",
              "    </tr>\n",
              "  </thead>\n",
              "  <tbody>\n",
              "    <tr>\n",
              "      <th>0</th>\n",
              "      <td>0.062249</td>\n",
              "      <td>3.682282</td>\n",
              "      <td>9.097966</td>\n",
              "      <td>data/idle</td>\n",
              "    </tr>\n",
              "    <tr>\n",
              "      <th>1</th>\n",
              "      <td>-0.770933</td>\n",
              "      <td>3.337517</td>\n",
              "      <td>9.045294</td>\n",
              "      <td>data/idle</td>\n",
              "    </tr>\n",
              "    <tr>\n",
              "      <th>2</th>\n",
              "      <td>-0.071826</td>\n",
              "      <td>4.630386</td>\n",
              "      <td>9.083601</td>\n",
              "      <td>data/idle</td>\n",
              "    </tr>\n",
              "    <tr>\n",
              "      <th>3</th>\n",
              "      <td>0.033519</td>\n",
              "      <td>5.018247</td>\n",
              "      <td>8.140286</td>\n",
              "      <td>data/idle</td>\n",
              "    </tr>\n",
              "    <tr>\n",
              "      <th>4</th>\n",
              "      <td>-0.105345</td>\n",
              "      <td>5.295975</td>\n",
              "      <td>7.996634</td>\n",
              "      <td>data/idle</td>\n",
              "    </tr>\n",
              "    <tr>\n",
              "      <th>...</th>\n",
              "      <td>...</td>\n",
              "      <td>...</td>\n",
              "      <td>...</td>\n",
              "      <td>...</td>\n",
              "    </tr>\n",
              "    <tr>\n",
              "      <th>25</th>\n",
              "      <td>-2.331952</td>\n",
              "      <td>16.510414</td>\n",
              "      <td>-0.009577</td>\n",
              "      <td>data/running</td>\n",
              "    </tr>\n",
              "    <tr>\n",
              "      <th>26</th>\n",
              "      <td>-4.505887</td>\n",
              "      <td>23.410503</td>\n",
              "      <td>7.891289</td>\n",
              "      <td>data/running</td>\n",
              "    </tr>\n",
              "    <tr>\n",
              "      <th>27</th>\n",
              "      <td>1.005565</td>\n",
              "      <td>-5.420472</td>\n",
              "      <td>4.683059</td>\n",
              "      <td>data/running</td>\n",
              "    </tr>\n",
              "    <tr>\n",
              "      <th>28</th>\n",
              "      <td>-6.804321</td>\n",
              "      <td>22.687456</td>\n",
              "      <td>-0.114922</td>\n",
              "      <td>data/running</td>\n",
              "    </tr>\n",
              "    <tr>\n",
              "      <th>29</th>\n",
              "      <td>0.675165</td>\n",
              "      <td>9.983821</td>\n",
              "      <td>2.686294</td>\n",
              "      <td>data/running</td>\n",
              "    </tr>\n",
              "  </tbody>\n",
              "</table>\n",
              "<p>193860 rows × 4 columns</p>\n",
              "</div>\n",
              "      <button class=\"colab-df-convert\" onclick=\"convertToInteractive('df-e106944e-dba7-407c-b4a7-9beee1af66ed')\"\n",
              "              title=\"Convert this dataframe to an interactive table.\"\n",
              "              style=\"display:none;\">\n",
              "        \n",
              "  <svg xmlns=\"http://www.w3.org/2000/svg\" height=\"24px\"viewBox=\"0 0 24 24\"\n",
              "       width=\"24px\">\n",
              "    <path d=\"M0 0h24v24H0V0z\" fill=\"none\"/>\n",
              "    <path d=\"M18.56 5.44l.94 2.06.94-2.06 2.06-.94-2.06-.94-.94-2.06-.94 2.06-2.06.94zm-11 1L8.5 8.5l.94-2.06 2.06-.94-2.06-.94L8.5 2.5l-.94 2.06-2.06.94zm10 10l.94 2.06.94-2.06 2.06-.94-2.06-.94-.94-2.06-.94 2.06-2.06.94z\"/><path d=\"M17.41 7.96l-1.37-1.37c-.4-.4-.92-.59-1.43-.59-.52 0-1.04.2-1.43.59L10.3 9.45l-7.72 7.72c-.78.78-.78 2.05 0 2.83L4 21.41c.39.39.9.59 1.41.59.51 0 1.02-.2 1.41-.59l7.78-7.78 2.81-2.81c.8-.78.8-2.07 0-2.86zM5.41 20L4 18.59l7.72-7.72 1.47 1.35L5.41 20z\"/>\n",
              "  </svg>\n",
              "      </button>\n",
              "      \n",
              "  <style>\n",
              "    .colab-df-container {\n",
              "      display:flex;\n",
              "      flex-wrap:wrap;\n",
              "      gap: 12px;\n",
              "    }\n",
              "\n",
              "    .colab-df-convert {\n",
              "      background-color: #E8F0FE;\n",
              "      border: none;\n",
              "      border-radius: 50%;\n",
              "      cursor: pointer;\n",
              "      display: none;\n",
              "      fill: #1967D2;\n",
              "      height: 32px;\n",
              "      padding: 0 0 0 0;\n",
              "      width: 32px;\n",
              "    }\n",
              "\n",
              "    .colab-df-convert:hover {\n",
              "      background-color: #E2EBFA;\n",
              "      box-shadow: 0px 1px 2px rgba(60, 64, 67, 0.3), 0px 1px 3px 1px rgba(60, 64, 67, 0.15);\n",
              "      fill: #174EA6;\n",
              "    }\n",
              "\n",
              "    [theme=dark] .colab-df-convert {\n",
              "      background-color: #3B4455;\n",
              "      fill: #D2E3FC;\n",
              "    }\n",
              "\n",
              "    [theme=dark] .colab-df-convert:hover {\n",
              "      background-color: #434B5C;\n",
              "      box-shadow: 0px 1px 3px 1px rgba(0, 0, 0, 0.15);\n",
              "      filter: drop-shadow(0px 1px 2px rgba(0, 0, 0, 0.3));\n",
              "      fill: #FFFFFF;\n",
              "    }\n",
              "  </style>\n",
              "\n",
              "      <script>\n",
              "        const buttonEl =\n",
              "          document.querySelector('#df-e106944e-dba7-407c-b4a7-9beee1af66ed button.colab-df-convert');\n",
              "        buttonEl.style.display =\n",
              "          google.colab.kernel.accessAllowed ? 'block' : 'none';\n",
              "\n",
              "        async function convertToInteractive(key) {\n",
              "          const element = document.querySelector('#df-e106944e-dba7-407c-b4a7-9beee1af66ed');\n",
              "          const dataTable =\n",
              "            await google.colab.kernel.invokeFunction('convertToInteractive',\n",
              "                                                     [key], {});\n",
              "          if (!dataTable) return;\n",
              "\n",
              "          const docLinkHtml = 'Like what you see? Visit the ' +\n",
              "            '<a target=\"_blank\" href=https://colab.research.google.com/notebooks/data_table.ipynb>data table notebook</a>'\n",
              "            + ' to learn more about interactive tables.';\n",
              "          element.innerHTML = '';\n",
              "          dataTable['output_type'] = 'display_data';\n",
              "          await google.colab.output.renderOutput(dataTable, element);\n",
              "          const docLink = document.createElement('div');\n",
              "          docLink.innerHTML = docLinkHtml;\n",
              "          element.appendChild(docLink);\n",
              "        }\n",
              "      </script>\n",
              "    </div>\n",
              "  </div>\n",
              "  "
            ]
          },
          "metadata": {},
          "execution_count": 82
        }
      ]
    },
    {
      "cell_type": "code",
      "source": [
        "df = pd.read_csv(\"df_accelerometer.csv\", delimiter=\",\", index_col=0)"
      ],
      "metadata": {
        "id": "7OAzePMPmQcW"
      },
      "execution_count": 37,
      "outputs": []
    },
    {
      "cell_type": "code",
      "source": [
        "df"
      ],
      "metadata": {
        "colab": {
          "base_uri": "https://localhost:8080/",
          "height": 488
        },
        "id": "WC3yGjDupTGh",
        "outputId": "827d554c-6945-4658-b062-b579a5bce30f"
      },
      "execution_count": 43,
      "outputs": [
        {
          "output_type": "execute_result",
          "data": {
            "text/plain": [
              "      accelerometer_X__median  accelerometer_X__mean  \\\n",
              "0                    0.253785               0.258733   \n",
              "1                    0.198719               0.387701   \n",
              "2                    0.153229               0.103908   \n",
              "3                   -0.567426              -0.516828   \n",
              "4                    0.220266               0.519861   \n",
              "...                       ...                    ...   \n",
              "6457                 0.033518               1.023282   \n",
              "6458                -2.346318              -3.019727   \n",
              "6459                -2.798821              -3.416047   \n",
              "6460                 0.555454               0.591049   \n",
              "6461                 0.541090               0.973961   \n",
              "\n",
              "      accelerometer_X__maximum  accelerometer_X__minimum  \\\n",
              "0                     0.287304                  0.239420   \n",
              "1                     2.456451                 -1.570596   \n",
              "2                     1.096544                 -0.933739   \n",
              "3                     1.853112                 -1.857900   \n",
              "4                     4.118027                 -1.570596   \n",
              "...                        ...                       ...   \n",
              "6457                 19.206285                 -5.248090   \n",
              "6458                  1.240197                -13.962984   \n",
              "6459                  1.982399                -10.376471   \n",
              "6460                 16.132132                -11.755530   \n",
              "6461                 15.169662                 -7.005434   \n",
              "\n",
              "      accelerometer_X__standard_deviation  accelerometer_X__variance  \\\n",
              "0                                0.012081                   0.000146   \n",
              "1                                0.831872                   0.692011   \n",
              "2                                0.513017                   0.263186   \n",
              "3                                0.619738                   0.384076   \n",
              "4                                1.138041                   1.295138   \n",
              "...                                   ...                        ...   \n",
              "6457                             4.707761                  22.163016   \n",
              "6458                             3.592400                  12.905335   \n",
              "6459                             2.689183                   7.231707   \n",
              "6460                             5.147531                  26.497074   \n",
              "6461                             4.982409                  24.824396   \n",
              "\n",
              "      accelerometer_X__skewness  accelerometer_X__kurtosis  \\\n",
              "0                      0.800004                   0.181308   \n",
              "1                      1.102881                   2.440002   \n",
              "2                     -0.061341                  -0.576334   \n",
              "3                      1.557623                   6.822284   \n",
              "4                      1.289600                   2.382449   \n",
              "...                         ...                        ...   \n",
              "6457                   2.088032                   6.289998   \n",
              "6458                  -1.131449                   1.360892   \n",
              "6459                  -0.522200                   0.315340   \n",
              "6460                   0.080877                   2.675938   \n",
              "6461                   0.871469                   0.857181   \n",
              "\n",
              "      accelerometer_X__root_mean_square  accelerometer_X__abs_energy  ...  \\\n",
              "0                              0.259015                     2.012667  ...   \n",
              "1                              0.917781                    25.269682  ...   \n",
              "2                              0.523434                     8.219494  ...   \n",
              "3                              0.806962                    19.535612  ...   \n",
              "4                              1.251157                    46.961802  ...   \n",
              "...                                 ...                          ...  ...   \n",
              "6457                           4.817688                   696.303641  ...   \n",
              "6458                           4.692983                   660.722542  ...   \n",
              "6459                           4.347538                   567.032497  ...   \n",
              "6460                           5.181352                   805.392368  ...   \n",
              "6461                           5.076711                   773.189892  ...   \n",
              "\n",
              "      accelerometer_Z__variance  accelerometer_Z__skewness  \\\n",
              "0                      0.000192                  -0.309203   \n",
              "1                      0.722229                  -0.138352   \n",
              "2                      0.302016                  -0.436379   \n",
              "3                      0.389624                  -1.228011   \n",
              "4                      2.879332                   0.433412   \n",
              "...                         ...                        ...   \n",
              "6457                  71.466316                  -1.347021   \n",
              "6458                  36.295119                   3.204572   \n",
              "6459                  14.407766                  -0.573574   \n",
              "6460                  79.411681                   1.296524   \n",
              "6461                  98.119664                   1.260159   \n",
              "\n",
              "      accelerometer_Z__kurtosis  accelerometer_Z__root_mean_square  \\\n",
              "0                     -0.633001                           9.770268   \n",
              "1                      1.275052                           7.382994   \n",
              "2                     -0.779876                           8.600470   \n",
              "3                      0.808916                           7.789128   \n",
              "4                     -0.662294                           8.382933   \n",
              "...                         ...                                ...   \n",
              "6457                   3.939187                           8.583027   \n",
              "6458                  12.140388                           6.095523   \n",
              "6459                   0.120608                           4.249764   \n",
              "6460                   3.732367                           8.930660   \n",
              "6461                   7.387765                           9.905579   \n",
              "\n",
              "      accelerometer_Z__abs_energy  accelerometer_Z__last_location_of_maximum  \\\n",
              "0                     2863.744197                                   0.700000   \n",
              "1                     1635.257866                                   0.966667   \n",
              "2                     2219.042517                                   0.100000   \n",
              "3                     1820.115474                                   0.033333   \n",
              "4                     2108.206728                                   0.766667   \n",
              "...                           ...                                        ...   \n",
              "6457                  2210.050579                                   0.733333   \n",
              "6458                  1114.662040                                   0.966667   \n",
              "6459                   541.814840                                   0.133333   \n",
              "6460                  2392.700797                                   0.433333   \n",
              "6461                  2943.614966                                   0.200000   \n",
              "\n",
              "      accelerometer_Z__first_location_of_maximum  \\\n",
              "0                                       0.666667   \n",
              "1                                       0.933333   \n",
              "2                                       0.066667   \n",
              "3                                       0.000000   \n",
              "4                                       0.733333   \n",
              "...                                          ...   \n",
              "6457                                    0.700000   \n",
              "6458                                    0.933333   \n",
              "6459                                    0.100000   \n",
              "6460                                    0.400000   \n",
              "6461                                    0.166667   \n",
              "\n",
              "      accelerometer_Z__last_location_of_minimum  \\\n",
              "0                                      0.500000   \n",
              "1                                      0.666667   \n",
              "2                                      0.933333   \n",
              "3                                      0.800000   \n",
              "4                                      0.333333   \n",
              "...                                         ...   \n",
              "6457                                   0.800000   \n",
              "6458                                   0.666667   \n",
              "6459                                   0.833333   \n",
              "6460                                   0.266667   \n",
              "6461                                   0.866667   \n",
              "\n",
              "      accelerometer_Z__first_location_of_minimum  kinds  \n",
              "0                                       0.466667      1  \n",
              "1                                       0.633333      1  \n",
              "2                                       0.900000      1  \n",
              "3                                       0.766667      1  \n",
              "4                                       0.300000      1  \n",
              "...                                          ...    ...  \n",
              "6457                                    0.766667      4  \n",
              "6458                                    0.633333      4  \n",
              "6459                                    0.800000      4  \n",
              "6460                                    0.233333      4  \n",
              "6461                                    0.833333      4  \n",
              "\n",
              "[6462 rows x 43 columns]"
            ],
            "text/html": [
              "\n",
              "  <div id=\"df-5140d537-708a-4f3a-bb68-167089e8970d\">\n",
              "    <div class=\"colab-df-container\">\n",
              "      <div>\n",
              "<style scoped>\n",
              "    .dataframe tbody tr th:only-of-type {\n",
              "        vertical-align: middle;\n",
              "    }\n",
              "\n",
              "    .dataframe tbody tr th {\n",
              "        vertical-align: top;\n",
              "    }\n",
              "\n",
              "    .dataframe thead th {\n",
              "        text-align: right;\n",
              "    }\n",
              "</style>\n",
              "<table border=\"1\" class=\"dataframe\">\n",
              "  <thead>\n",
              "    <tr style=\"text-align: right;\">\n",
              "      <th></th>\n",
              "      <th>accelerometer_X__median</th>\n",
              "      <th>accelerometer_X__mean</th>\n",
              "      <th>accelerometer_X__maximum</th>\n",
              "      <th>accelerometer_X__minimum</th>\n",
              "      <th>accelerometer_X__standard_deviation</th>\n",
              "      <th>accelerometer_X__variance</th>\n",
              "      <th>accelerometer_X__skewness</th>\n",
              "      <th>accelerometer_X__kurtosis</th>\n",
              "      <th>accelerometer_X__root_mean_square</th>\n",
              "      <th>accelerometer_X__abs_energy</th>\n",
              "      <th>...</th>\n",
              "      <th>accelerometer_Z__variance</th>\n",
              "      <th>accelerometer_Z__skewness</th>\n",
              "      <th>accelerometer_Z__kurtosis</th>\n",
              "      <th>accelerometer_Z__root_mean_square</th>\n",
              "      <th>accelerometer_Z__abs_energy</th>\n",
              "      <th>accelerometer_Z__last_location_of_maximum</th>\n",
              "      <th>accelerometer_Z__first_location_of_maximum</th>\n",
              "      <th>accelerometer_Z__last_location_of_minimum</th>\n",
              "      <th>accelerometer_Z__first_location_of_minimum</th>\n",
              "      <th>kinds</th>\n",
              "    </tr>\n",
              "  </thead>\n",
              "  <tbody>\n",
              "    <tr>\n",
              "      <th>0</th>\n",
              "      <td>0.253785</td>\n",
              "      <td>0.258733</td>\n",
              "      <td>0.287304</td>\n",
              "      <td>0.239420</td>\n",
              "      <td>0.012081</td>\n",
              "      <td>0.000146</td>\n",
              "      <td>0.800004</td>\n",
              "      <td>0.181308</td>\n",
              "      <td>0.259015</td>\n",
              "      <td>2.012667</td>\n",
              "      <td>...</td>\n",
              "      <td>0.000192</td>\n",
              "      <td>-0.309203</td>\n",
              "      <td>-0.633001</td>\n",
              "      <td>9.770268</td>\n",
              "      <td>2863.744197</td>\n",
              "      <td>0.700000</td>\n",
              "      <td>0.666667</td>\n",
              "      <td>0.500000</td>\n",
              "      <td>0.466667</td>\n",
              "      <td>1</td>\n",
              "    </tr>\n",
              "    <tr>\n",
              "      <th>1</th>\n",
              "      <td>0.198719</td>\n",
              "      <td>0.387701</td>\n",
              "      <td>2.456451</td>\n",
              "      <td>-1.570596</td>\n",
              "      <td>0.831872</td>\n",
              "      <td>0.692011</td>\n",
              "      <td>1.102881</td>\n",
              "      <td>2.440002</td>\n",
              "      <td>0.917781</td>\n",
              "      <td>25.269682</td>\n",
              "      <td>...</td>\n",
              "      <td>0.722229</td>\n",
              "      <td>-0.138352</td>\n",
              "      <td>1.275052</td>\n",
              "      <td>7.382994</td>\n",
              "      <td>1635.257866</td>\n",
              "      <td>0.966667</td>\n",
              "      <td>0.933333</td>\n",
              "      <td>0.666667</td>\n",
              "      <td>0.633333</td>\n",
              "      <td>1</td>\n",
              "    </tr>\n",
              "    <tr>\n",
              "      <th>2</th>\n",
              "      <td>0.153229</td>\n",
              "      <td>0.103908</td>\n",
              "      <td>1.096544</td>\n",
              "      <td>-0.933739</td>\n",
              "      <td>0.513017</td>\n",
              "      <td>0.263186</td>\n",
              "      <td>-0.061341</td>\n",
              "      <td>-0.576334</td>\n",
              "      <td>0.523434</td>\n",
              "      <td>8.219494</td>\n",
              "      <td>...</td>\n",
              "      <td>0.302016</td>\n",
              "      <td>-0.436379</td>\n",
              "      <td>-0.779876</td>\n",
              "      <td>8.600470</td>\n",
              "      <td>2219.042517</td>\n",
              "      <td>0.100000</td>\n",
              "      <td>0.066667</td>\n",
              "      <td>0.933333</td>\n",
              "      <td>0.900000</td>\n",
              "      <td>1</td>\n",
              "    </tr>\n",
              "    <tr>\n",
              "      <th>3</th>\n",
              "      <td>-0.567426</td>\n",
              "      <td>-0.516828</td>\n",
              "      <td>1.853112</td>\n",
              "      <td>-1.857900</td>\n",
              "      <td>0.619738</td>\n",
              "      <td>0.384076</td>\n",
              "      <td>1.557623</td>\n",
              "      <td>6.822284</td>\n",
              "      <td>0.806962</td>\n",
              "      <td>19.535612</td>\n",
              "      <td>...</td>\n",
              "      <td>0.389624</td>\n",
              "      <td>-1.228011</td>\n",
              "      <td>0.808916</td>\n",
              "      <td>7.789128</td>\n",
              "      <td>1820.115474</td>\n",
              "      <td>0.033333</td>\n",
              "      <td>0.000000</td>\n",
              "      <td>0.800000</td>\n",
              "      <td>0.766667</td>\n",
              "      <td>1</td>\n",
              "    </tr>\n",
              "    <tr>\n",
              "      <th>4</th>\n",
              "      <td>0.220266</td>\n",
              "      <td>0.519861</td>\n",
              "      <td>4.118027</td>\n",
              "      <td>-1.570596</td>\n",
              "      <td>1.138041</td>\n",
              "      <td>1.295138</td>\n",
              "      <td>1.289600</td>\n",
              "      <td>2.382449</td>\n",
              "      <td>1.251157</td>\n",
              "      <td>46.961802</td>\n",
              "      <td>...</td>\n",
              "      <td>2.879332</td>\n",
              "      <td>0.433412</td>\n",
              "      <td>-0.662294</td>\n",
              "      <td>8.382933</td>\n",
              "      <td>2108.206728</td>\n",
              "      <td>0.766667</td>\n",
              "      <td>0.733333</td>\n",
              "      <td>0.333333</td>\n",
              "      <td>0.300000</td>\n",
              "      <td>1</td>\n",
              "    </tr>\n",
              "    <tr>\n",
              "      <th>...</th>\n",
              "      <td>...</td>\n",
              "      <td>...</td>\n",
              "      <td>...</td>\n",
              "      <td>...</td>\n",
              "      <td>...</td>\n",
              "      <td>...</td>\n",
              "      <td>...</td>\n",
              "      <td>...</td>\n",
              "      <td>...</td>\n",
              "      <td>...</td>\n",
              "      <td>...</td>\n",
              "      <td>...</td>\n",
              "      <td>...</td>\n",
              "      <td>...</td>\n",
              "      <td>...</td>\n",
              "      <td>...</td>\n",
              "      <td>...</td>\n",
              "      <td>...</td>\n",
              "      <td>...</td>\n",
              "      <td>...</td>\n",
              "      <td>...</td>\n",
              "    </tr>\n",
              "    <tr>\n",
              "      <th>6457</th>\n",
              "      <td>0.033518</td>\n",
              "      <td>1.023282</td>\n",
              "      <td>19.206285</td>\n",
              "      <td>-5.248090</td>\n",
              "      <td>4.707761</td>\n",
              "      <td>22.163016</td>\n",
              "      <td>2.088032</td>\n",
              "      <td>6.289998</td>\n",
              "      <td>4.817688</td>\n",
              "      <td>696.303641</td>\n",
              "      <td>...</td>\n",
              "      <td>71.466316</td>\n",
              "      <td>-1.347021</td>\n",
              "      <td>3.939187</td>\n",
              "      <td>8.583027</td>\n",
              "      <td>2210.050579</td>\n",
              "      <td>0.733333</td>\n",
              "      <td>0.700000</td>\n",
              "      <td>0.800000</td>\n",
              "      <td>0.766667</td>\n",
              "      <td>4</td>\n",
              "    </tr>\n",
              "    <tr>\n",
              "      <th>6458</th>\n",
              "      <td>-2.346318</td>\n",
              "      <td>-3.019727</td>\n",
              "      <td>1.240197</td>\n",
              "      <td>-13.962984</td>\n",
              "      <td>3.592400</td>\n",
              "      <td>12.905335</td>\n",
              "      <td>-1.131449</td>\n",
              "      <td>1.360892</td>\n",
              "      <td>4.692983</td>\n",
              "      <td>660.722542</td>\n",
              "      <td>...</td>\n",
              "      <td>36.295119</td>\n",
              "      <td>3.204572</td>\n",
              "      <td>12.140388</td>\n",
              "      <td>6.095523</td>\n",
              "      <td>1114.662040</td>\n",
              "      <td>0.966667</td>\n",
              "      <td>0.933333</td>\n",
              "      <td>0.666667</td>\n",
              "      <td>0.633333</td>\n",
              "      <td>4</td>\n",
              "    </tr>\n",
              "    <tr>\n",
              "      <th>6459</th>\n",
              "      <td>-2.798821</td>\n",
              "      <td>-3.416047</td>\n",
              "      <td>1.982399</td>\n",
              "      <td>-10.376471</td>\n",
              "      <td>2.689183</td>\n",
              "      <td>7.231707</td>\n",
              "      <td>-0.522200</td>\n",
              "      <td>0.315340</td>\n",
              "      <td>4.347538</td>\n",
              "      <td>567.032497</td>\n",
              "      <td>...</td>\n",
              "      <td>14.407766</td>\n",
              "      <td>-0.573574</td>\n",
              "      <td>0.120608</td>\n",
              "      <td>4.249764</td>\n",
              "      <td>541.814840</td>\n",
              "      <td>0.133333</td>\n",
              "      <td>0.100000</td>\n",
              "      <td>0.833333</td>\n",
              "      <td>0.800000</td>\n",
              "      <td>4</td>\n",
              "    </tr>\n",
              "    <tr>\n",
              "      <th>6460</th>\n",
              "      <td>0.555454</td>\n",
              "      <td>0.591049</td>\n",
              "      <td>16.132132</td>\n",
              "      <td>-11.755530</td>\n",
              "      <td>5.147531</td>\n",
              "      <td>26.497074</td>\n",
              "      <td>0.080877</td>\n",
              "      <td>2.675938</td>\n",
              "      <td>5.181352</td>\n",
              "      <td>805.392368</td>\n",
              "      <td>...</td>\n",
              "      <td>79.411681</td>\n",
              "      <td>1.296524</td>\n",
              "      <td>3.732367</td>\n",
              "      <td>8.930660</td>\n",
              "      <td>2392.700797</td>\n",
              "      <td>0.433333</td>\n",
              "      <td>0.400000</td>\n",
              "      <td>0.266667</td>\n",
              "      <td>0.233333</td>\n",
              "      <td>4</td>\n",
              "    </tr>\n",
              "    <tr>\n",
              "      <th>6461</th>\n",
              "      <td>0.541090</td>\n",
              "      <td>0.973961</td>\n",
              "      <td>15.169662</td>\n",
              "      <td>-7.005434</td>\n",
              "      <td>4.982409</td>\n",
              "      <td>24.824396</td>\n",
              "      <td>0.871469</td>\n",
              "      <td>0.857181</td>\n",
              "      <td>5.076711</td>\n",
              "      <td>773.189892</td>\n",
              "      <td>...</td>\n",
              "      <td>98.119664</td>\n",
              "      <td>1.260159</td>\n",
              "      <td>7.387765</td>\n",
              "      <td>9.905579</td>\n",
              "      <td>2943.614966</td>\n",
              "      <td>0.200000</td>\n",
              "      <td>0.166667</td>\n",
              "      <td>0.866667</td>\n",
              "      <td>0.833333</td>\n",
              "      <td>4</td>\n",
              "    </tr>\n",
              "  </tbody>\n",
              "</table>\n",
              "<p>6462 rows × 43 columns</p>\n",
              "</div>\n",
              "      <button class=\"colab-df-convert\" onclick=\"convertToInteractive('df-5140d537-708a-4f3a-bb68-167089e8970d')\"\n",
              "              title=\"Convert this dataframe to an interactive table.\"\n",
              "              style=\"display:none;\">\n",
              "        \n",
              "  <svg xmlns=\"http://www.w3.org/2000/svg\" height=\"24px\"viewBox=\"0 0 24 24\"\n",
              "       width=\"24px\">\n",
              "    <path d=\"M0 0h24v24H0V0z\" fill=\"none\"/>\n",
              "    <path d=\"M18.56 5.44l.94 2.06.94-2.06 2.06-.94-2.06-.94-.94-2.06-.94 2.06-2.06.94zm-11 1L8.5 8.5l.94-2.06 2.06-.94-2.06-.94L8.5 2.5l-.94 2.06-2.06.94zm10 10l.94 2.06.94-2.06 2.06-.94-2.06-.94-.94-2.06-.94 2.06-2.06.94z\"/><path d=\"M17.41 7.96l-1.37-1.37c-.4-.4-.92-.59-1.43-.59-.52 0-1.04.2-1.43.59L10.3 9.45l-7.72 7.72c-.78.78-.78 2.05 0 2.83L4 21.41c.39.39.9.59 1.41.59.51 0 1.02-.2 1.41-.59l7.78-7.78 2.81-2.81c.8-.78.8-2.07 0-2.86zM5.41 20L4 18.59l7.72-7.72 1.47 1.35L5.41 20z\"/>\n",
              "  </svg>\n",
              "      </button>\n",
              "      \n",
              "  <style>\n",
              "    .colab-df-container {\n",
              "      display:flex;\n",
              "      flex-wrap:wrap;\n",
              "      gap: 12px;\n",
              "    }\n",
              "\n",
              "    .colab-df-convert {\n",
              "      background-color: #E8F0FE;\n",
              "      border: none;\n",
              "      border-radius: 50%;\n",
              "      cursor: pointer;\n",
              "      display: none;\n",
              "      fill: #1967D2;\n",
              "      height: 32px;\n",
              "      padding: 0 0 0 0;\n",
              "      width: 32px;\n",
              "    }\n",
              "\n",
              "    .colab-df-convert:hover {\n",
              "      background-color: #E2EBFA;\n",
              "      box-shadow: 0px 1px 2px rgba(60, 64, 67, 0.3), 0px 1px 3px 1px rgba(60, 64, 67, 0.15);\n",
              "      fill: #174EA6;\n",
              "    }\n",
              "\n",
              "    [theme=dark] .colab-df-convert {\n",
              "      background-color: #3B4455;\n",
              "      fill: #D2E3FC;\n",
              "    }\n",
              "\n",
              "    [theme=dark] .colab-df-convert:hover {\n",
              "      background-color: #434B5C;\n",
              "      box-shadow: 0px 1px 3px 1px rgba(0, 0, 0, 0.15);\n",
              "      filter: drop-shadow(0px 1px 2px rgba(0, 0, 0, 0.3));\n",
              "      fill: #FFFFFF;\n",
              "    }\n",
              "  </style>\n",
              "\n",
              "      <script>\n",
              "        const buttonEl =\n",
              "          document.querySelector('#df-5140d537-708a-4f3a-bb68-167089e8970d button.colab-df-convert');\n",
              "        buttonEl.style.display =\n",
              "          google.colab.kernel.accessAllowed ? 'block' : 'none';\n",
              "\n",
              "        async function convertToInteractive(key) {\n",
              "          const element = document.querySelector('#df-5140d537-708a-4f3a-bb68-167089e8970d');\n",
              "          const dataTable =\n",
              "            await google.colab.kernel.invokeFunction('convertToInteractive',\n",
              "                                                     [key], {});\n",
              "          if (!dataTable) return;\n",
              "\n",
              "          const docLinkHtml = 'Like what you see? Visit the ' +\n",
              "            '<a target=\"_blank\" href=https://colab.research.google.com/notebooks/data_table.ipynb>data table notebook</a>'\n",
              "            + ' to learn more about interactive tables.';\n",
              "          element.innerHTML = '';\n",
              "          dataTable['output_type'] = 'display_data';\n",
              "          await google.colab.output.renderOutput(dataTable, element);\n",
              "          const docLink = document.createElement('div');\n",
              "          docLink.innerHTML = docLinkHtml;\n",
              "          element.appendChild(docLink);\n",
              "        }\n",
              "      </script>\n",
              "    </div>\n",
              "  </div>\n",
              "  "
            ]
          },
          "metadata": {},
          "execution_count": 43
        }
      ]
    },
    {
      "cell_type": "code",
      "source": [
        "sn.countplot(data=df, x=\"kinds\")"
      ],
      "metadata": {
        "colab": {
          "base_uri": "https://localhost:8080/",
          "height": 467
        },
        "id": "v4LDQzAQ1u8h",
        "outputId": "dcccd8f5-7eb1-468a-c3d7-dd9c9e570311"
      },
      "execution_count": 97,
      "outputs": [
        {
          "output_type": "execute_result",
          "data": {
            "text/plain": [
              "<Axes: xlabel='kinds', ylabel='count'>"
            ]
          },
          "metadata": {},
          "execution_count": 97
        },
        {
          "output_type": "display_data",
          "data": {
            "text/plain": [
              "<Figure size 640x480 with 1 Axes>"
            ],
            "image/png": "[encoded data removed]"
          },
          "metadata": {}
        }
      ]
    },
    {
      "cell_type": "code",
      "source": [
        "sn.histplot(data=df, x=\"accelerometer_X__mean\", hue=\"kinds\")"
      ],
      "metadata": {
        "colab": {
          "base_uri": "https://localhost:8080/",
          "height": 468
        },
        "id": "TqsKtYmw17Gn",
        "outputId": "9cf4214b-5cf8-4352-9df5-456764363902"
      },
      "execution_count": 98,
      "outputs": [
        {
          "output_type": "execute_result",
          "data": {
            "text/plain": [
              "<Axes: xlabel='accelerometer_X__mean', ylabel='Count'>"
            ]
          },
          "metadata": {},
          "execution_count": 98
        },
        {
          "output_type": "display_data",
          "data": {
            "text/plain": [
              "<Figure size 640x480 with 1 Axes>"
            ],
            "image/png": "[encoded data removed]"
          },
          "metadata": {}
        }
      ]
    },
    {
      "cell_type": "code",
      "source": [
        "plt.hist(df[\"accelerometer_X__mean\"], bins=50);"
      ],
      "metadata": {
        "colab": {
          "base_uri": "https://localhost:8080/",
          "height": 430
        },
        "id": "JKO4Q7wJyJoQ",
        "outputId": "5493f7c9-e180-47da-e9e0-9d245d43a3fa"
      },
      "execution_count": 93,
      "outputs": [
        {
          "output_type": "display_data",
          "data": {
            "text/plain": [
              "<Figure size 640x480 with 1 Axes>"
            ],
            "image/png": "[encoded data removed]"
          },
          "metadata": {}
        }
      ]
    },
    {
      "cell_type": "code",
      "source": [],
      "metadata": {
        "id": "Ffg5jA_01PvL"
      },
      "execution_count": null,
      "outputs": []
    },
    {
      "cell_type": "code",
      "source": [
        "df[\"kinds\"] -= 1"
      ],
      "metadata": {
        "id": "4CCMsxenrRTO"
      },
      "execution_count": 44,
      "outputs": []
    },
    {
      "cell_type": "code",
      "source": [
        "df[\"kinds\"].value_counts()"
      ],
      "metadata": {
        "colab": {
          "base_uri": "https://localhost:8080/"
        },
        "id": "eH2pORK-rALx",
        "outputId": "e89d148d-39b5-424a-cca1-2f0f91376d4c"
      },
      "execution_count": 45,
      "outputs": [
        {
          "output_type": "execute_result",
          "data": {
            "text/plain": [
              "1    3408\n",
              "3    1850\n",
              "0    1039\n",
              "2     165\n",
              "Name: kinds, dtype: int64"
            ]
          },
          "metadata": {},
          "execution_count": 45
        }
      ]
    },
    {
      "cell_type": "code",
      "source": [
        "df_cut = df.drop(\"kinds\", axis=1)"
      ],
      "metadata": {
        "id": "gkfmgU8jmTi1"
      },
      "execution_count": 46,
      "outputs": []
    },
    {
      "cell_type": "code",
      "source": [
        "X_train, X_valid, y_train, y_valid = train_test_split(\n",
        "    df_cut, df[\"kinds\"], test_size=0.2, shuffle=True, stratify=df[\"kinds\"]\n",
        ")"
      ],
      "metadata": {
        "id": "J2l8BAQymZFK"
      },
      "execution_count": 63,
      "outputs": []
    },
    {
      "cell_type": "code",
      "source": [
        "svc_rbf = SVC(kernel='rbf', C=1, probability=True).fit(X_train, y_train)\n",
        "\n",
        "y_train_pred__rbf = svc_rbf.predict(X_train)\n",
        "y_valid_pred__rbf = svc_rbf.predict(X_valid)"
      ],
      "metadata": {
        "id": "ARYVg1drqm9b"
      },
      "execution_count": 64,
      "outputs": []
    },
    {
      "cell_type": "code",
      "source": [
        "ac_train_rbf = accuracy_score(y_train, y_train_pred__rbf)\n",
        "ac_valid_rbf = accuracy_score(y_valid, y_valid_pred__rbf)\n",
        "\n",
        "ac_train_rbf, ac_valid_rbf"
      ],
      "metadata": {
        "colab": {
          "base_uri": "https://localhost:8080/"
        },
        "id": "RNZLjNUtmbuT",
        "outputId": "c44bfdab-2ef6-4270-8914-aefce383e000"
      },
      "execution_count": 65,
      "outputs": [
        {
          "output_type": "execute_result",
          "data": {
            "text/plain": [
              "(0.9535693557748114, 0.951276102088167)"
            ]
          },
          "metadata": {},
          "execution_count": 65
        }
      ]
    },
    {
      "cell_type": "code",
      "source": [
        "y_valid_pred__rbf"
      ],
      "metadata": {
        "colab": {
          "base_uri": "https://localhost:8080/"
        },
        "id": "6B8dJptx8T-i",
        "outputId": "73c27ed5-f37d-41f7-afaa-9b1f620e881d"
      },
      "execution_count": 99,
      "outputs": [
        {
          "output_type": "execute_result",
          "data": {
            "text/plain": [
              "array([1, 1, 1, ..., 1, 3, 3])"
            ]
          },
          "metadata": {},
          "execution_count": 99
        }
      ]
    },
    {
      "cell_type": "code",
      "source": [
        "f1_sc_train_rbf = f1_score(y_train, y_train_pred__rbf, average=None)\n",
        "f1_sc_valid_rbf = f1_score(y_valid, y_valid_pred__rbf, average=None)\n",
        "\n",
        "f1_sc_train_rbf, f1_sc_valid_rbf"
      ],
      "metadata": {
        "colab": {
          "base_uri": "https://localhost:8080/"
        },
        "id": "7NOdYzfJuAuF",
        "outputId": "6cd64c7b-5e66-493c-c628-c39f982e8319"
      },
      "execution_count": 69,
      "outputs": [
        {
          "output_type": "execute_result",
          "data": {
            "text/plain": [
              "(array([0.99223881, 0.97997775, 0.        , 0.92763787]),\n",
              " array([0.99047619, 0.97784343, 0.        , 0.92426187]))"
            ]
          },
          "metadata": {},
          "execution_count": 69
        }
      ]
    },
    {
      "cell_type": "code",
      "source": [
        "array = confusion_matrix(y_valid, y_valid_pred__rbf)\n",
        "df_cm = pd.DataFrame(\n",
        "    array,\n",
        "    index = [i for i in [0, 1, 2, 3]],\n",
        "    columns = [i for i in [0, 1, 2, 3]]\n",
        ")\n",
        "plt.figure(figsize=(7, 5))\n",
        "sn.heatmap(df_cm, annot=True, fmt=\"d\")"
      ],
      "metadata": {
        "colab": {
          "base_uri": "https://localhost:8080/",
          "height": 463
        },
        "id": "62NV7ZSNz-Ad",
        "outputId": "397ca6a0-84ed-4a31-84e6-1f18917656a5"
      },
      "execution_count": 90,
      "outputs": [
        {
          "output_type": "execute_result",
          "data": {
            "text/plain": [
              "<Axes: >"
            ]
          },
          "metadata": {},
          "execution_count": 90
        },
        {
          "output_type": "display_data",
          "data": {
            "text/plain": [
              "<Figure size 700x500 with 2 Axes>"
            ],
            "image/png": "[encoded data removed]"
          },
          "metadata": {}
        }
      ]
    },
    {
      "cell_type": "code",
      "source": [
        "svc_poly = SVC(kernel='poly', degree=2, C=100, probability=True).fit(X_train, y_train)\n",
        "\n",
        "y_train_pred_poly = svc_poly.predict_proba(X_train)\n",
        "y_valid_pred_poly = svc_poly.predict_proba(X_valid)"
      ],
      "metadata": {
        "id": "2ebsH0Rpmd7E"
      },
      "execution_count": 57,
      "outputs": []
    },
    {
      "cell_type": "code",
      "source": [
        "y_valid_pred_poly"
      ],
      "metadata": {
        "colab": {
          "base_uri": "https://localhost:8080/"
        },
        "id": "Tyqr3ka58WVg",
        "outputId": "17e59995-e268-4cc6-e322-9135e8f5c6eb"
      },
      "execution_count": 100,
      "outputs": [
        {
          "output_type": "execute_result",
          "data": {
            "text/plain": [
              "array([[1.07222140e-10, 9.99984792e-01, 5.01141228e-08, 1.51576176e-05],\n",
              "       [1.40000008e-14, 9.99999850e-01, 5.00000125e-08, 1.00000025e-07],\n",
              "       [1.27594167e-04, 7.16982997e-03, 3.24416044e-01, 6.68286532e-01],\n",
              "       ...,\n",
              "       [1.40000060e-14, 9.99999850e-01, 5.00000450e-08, 1.00000057e-07],\n",
              "       [9.95408144e-01, 3.49823825e-03, 8.74775610e-04, 2.18842511e-04],\n",
              "       [1.40000008e-14, 9.99999850e-01, 5.00000125e-08, 1.00000025e-07]])"
            ]
          },
          "metadata": {},
          "execution_count": 100
        }
      ]
    },
    {
      "cell_type": "code",
      "source": [
        "ac_train_poly = accuracy_score(y_train, np.argmax(y_train_pred_poly, axis=1))\n",
        "ac_valid_poly = accuracy_score(y_valid, np.argmax(y_valid_pred_poly, axis=1))\n",
        "\n",
        "ac_train_poly, ac_valid_poly"
      ],
      "metadata": {
        "colab": {
          "base_uri": "https://localhost:8080/"
        },
        "id": "IcRqItq1r8sJ",
        "outputId": "dde4c3c9-c32f-4649-fa20-3eb920dbf338"
      },
      "execution_count": 59,
      "outputs": [
        {
          "output_type": "execute_result",
          "data": {
            "text/plain": [
              "(0.9791062100986652, 0.9806651198762568)"
            ]
          },
          "metadata": {},
          "execution_count": 59
        }
      ]
    },
    {
      "cell_type": "code",
      "source": [
        "df = pd.read_csv(\"/content/data/data_2d.csv\", header=None)"
      ],
      "metadata": {
        "id": "hAZkCSc186uW"
      },
      "execution_count": 105,
      "outputs": []
    },
    {
      "cell_type": "code",
      "source": [
        "df"
      ],
      "metadata": {
        "colab": {
          "base_uri": "https://localhost:8080/",
          "height": 424
        },
        "id": "NX1rDVot9CDO",
        "outputId": "593eba3d-eae1-401b-8031-d9525d5bc476"
      },
      "execution_count": 106,
      "outputs": [
        {
          "output_type": "execute_result",
          "data": {
            "text/plain": [
              "       0         1         2\n",
              "0    0.0 -0.768716  0.460860\n",
              "1    0.0  2.687848  2.366961\n",
              "2    0.0 -0.201379  0.470430\n",
              "3    0.0  0.608496  1.225400\n",
              "4    0.0 -0.082282  1.137218\n",
              "..   ...       ...       ...\n",
              "195  1.0  0.629144  4.378584\n",
              "196  1.0 -0.723824  5.361801\n",
              "197  1.0  1.346107  2.333476\n",
              "198  1.0  3.608219  3.411546\n",
              "199  1.0  3.764228  4.372587\n",
              "\n",
              "[200 rows x 3 columns]"
            ],
            "text/html": [
              "\n",
              "  <div id=\"df-eeea6de8-2f1c-4346-8bcf-980291c8bde4\">\n",
              "    <div class=\"colab-df-container\">\n",
              "      <div>\n",
              "<style scoped>\n",
              "    .dataframe tbody tr th:only-of-type {\n",
              "        vertical-align: middle;\n",
              "    }\n",
              "\n",
              "    .dataframe tbody tr th {\n",
              "        vertical-align: top;\n",
              "    }\n",
              "\n",
              "    .dataframe thead th {\n",
              "        text-align: right;\n",
              "    }\n",
              "</style>\n",
              "<table border=\"1\" class=\"dataframe\">\n",
              "  <thead>\n",
              "    <tr style=\"text-align: right;\">\n",
              "      <th></th>\n",
              "      <th>0</th>\n",
              "      <th>1</th>\n",
              "      <th>2</th>\n",
              "    </tr>\n",
              "  </thead>\n",
              "  <tbody>\n",
              "    <tr>\n",
              "      <th>0</th>\n",
              "      <td>0.0</td>\n",
              "      <td>-0.768716</td>\n",
              "      <td>0.460860</td>\n",
              "    </tr>\n",
              "    <tr>\n",
              "      <th>1</th>\n",
              "      <td>0.0</td>\n",
              "      <td>2.687848</td>\n",
              "      <td>2.366961</td>\n",
              "    </tr>\n",
              "    <tr>\n",
              "      <th>2</th>\n",
              "      <td>0.0</td>\n",
              "      <td>-0.201379</td>\n",
              "      <td>0.470430</td>\n",
              "    </tr>\n",
              "    <tr>\n",
              "      <th>3</th>\n",
              "      <td>0.0</td>\n",
              "      <td>0.608496</td>\n",
              "      <td>1.225400</td>\n",
              "    </tr>\n",
              "    <tr>\n",
              "      <th>4</th>\n",
              "      <td>0.0</td>\n",
              "      <td>-0.082282</td>\n",
              "      <td>1.137218</td>\n",
              "    </tr>\n",
              "    <tr>\n",
              "      <th>...</th>\n",
              "      <td>...</td>\n",
              "      <td>...</td>\n",
              "      <td>...</td>\n",
              "    </tr>\n",
              "    <tr>\n",
              "      <th>195</th>\n",
              "      <td>1.0</td>\n",
              "      <td>0.629144</td>\n",
              "      <td>4.378584</td>\n",
              "    </tr>\n",
              "    <tr>\n",
              "      <th>196</th>\n",
              "      <td>1.0</td>\n",
              "      <td>-0.723824</td>\n",
              "      <td>5.361801</td>\n",
              "    </tr>\n",
              "    <tr>\n",
              "      <th>197</th>\n",
              "      <td>1.0</td>\n",
              "      <td>1.346107</td>\n",
              "      <td>2.333476</td>\n",
              "    </tr>\n",
              "    <tr>\n",
              "      <th>198</th>\n",
              "      <td>1.0</td>\n",
              "      <td>3.608219</td>\n",
              "      <td>3.411546</td>\n",
              "    </tr>\n",
              "    <tr>\n",
              "      <th>199</th>\n",
              "      <td>1.0</td>\n",
              "      <td>3.764228</td>\n",
              "      <td>4.372587</td>\n",
              "    </tr>\n",
              "  </tbody>\n",
              "</table>\n",
              "<p>200 rows × 3 columns</p>\n",
              "</div>\n",
              "      <button class=\"colab-df-convert\" onclick=\"convertToInteractive('df-eeea6de8-2f1c-4346-8bcf-980291c8bde4')\"\n",
              "              title=\"Convert this dataframe to an interactive table.\"\n",
              "              style=\"display:none;\">\n",
              "        \n",
              "  <svg xmlns=\"http://www.w3.org/2000/svg\" height=\"24px\"viewBox=\"0 0 24 24\"\n",
              "       width=\"24px\">\n",
              "    <path d=\"M0 0h24v24H0V0z\" fill=\"none\"/>\n",
              "    <path d=\"M18.56 5.44l.94 2.06.94-2.06 2.06-.94-2.06-.94-.94-2.06-.94 2.06-2.06.94zm-11 1L8.5 8.5l.94-2.06 2.06-.94-2.06-.94L8.5 2.5l-.94 2.06-2.06.94zm10 10l.94 2.06.94-2.06 2.06-.94-2.06-.94-.94-2.06-.94 2.06-2.06.94z\"/><path d=\"M17.41 7.96l-1.37-1.37c-.4-.4-.92-.59-1.43-.59-.52 0-1.04.2-1.43.59L10.3 9.45l-7.72 7.72c-.78.78-.78 2.05 0 2.83L4 21.41c.39.39.9.59 1.41.59.51 0 1.02-.2 1.41-.59l7.78-7.78 2.81-2.81c.8-.78.8-2.07 0-2.86zM5.41 20L4 18.59l7.72-7.72 1.47 1.35L5.41 20z\"/>\n",
              "  </svg>\n",
              "      </button>\n",
              "      \n",
              "  <style>\n",
              "    .colab-df-container {\n",
              "      display:flex;\n",
              "      flex-wrap:wrap;\n",
              "      gap: 12px;\n",
              "    }\n",
              "\n",
              "    .colab-df-convert {\n",
              "      background-color: #E8F0FE;\n",
              "      border: none;\n",
              "      border-radius: 50%;\n",
              "      cursor: pointer;\n",
              "      display: none;\n",
              "      fill: #1967D2;\n",
              "      height: 32px;\n",
              "      padding: 0 0 0 0;\n",
              "      width: 32px;\n",
              "    }\n",
              "\n",
              "    .colab-df-convert:hover {\n",
              "      background-color: #E2EBFA;\n",
              "      box-shadow: 0px 1px 2px rgba(60, 64, 67, 0.3), 0px 1px 3px 1px rgba(60, 64, 67, 0.15);\n",
              "      fill: #174EA6;\n",
              "    }\n",
              "\n",
              "    [theme=dark] .colab-df-convert {\n",
              "      background-color: #3B4455;\n",
              "      fill: #D2E3FC;\n",
              "    }\n",
              "\n",
              "    [theme=dark] .colab-df-convert:hover {\n",
              "      background-color: #434B5C;\n",
              "      box-shadow: 0px 1px 3px 1px rgba(0, 0, 0, 0.15);\n",
              "      filter: drop-shadow(0px 1px 2px rgba(0, 0, 0, 0.3));\n",
              "      fill: #FFFFFF;\n",
              "    }\n",
              "  </style>\n",
              "\n",
              "      <script>\n",
              "        const buttonEl =\n",
              "          document.querySelector('#df-eeea6de8-2f1c-4346-8bcf-980291c8bde4 button.colab-df-convert');\n",
              "        buttonEl.style.display =\n",
              "          google.colab.kernel.accessAllowed ? 'block' : 'none';\n",
              "\n",
              "        async function convertToInteractive(key) {\n",
              "          const element = document.querySelector('#df-eeea6de8-2f1c-4346-8bcf-980291c8bde4');\n",
              "          const dataTable =\n",
              "            await google.colab.kernel.invokeFunction('convertToInteractive',\n",
              "                                                     [key], {});\n",
              "          if (!dataTable) return;\n",
              "\n",
              "          const docLinkHtml = 'Like what you see? Visit the ' +\n",
              "            '<a target=\"_blank\" href=https://colab.research.google.com/notebooks/data_table.ipynb>data table notebook</a>'\n",
              "            + ' to learn more about interactive tables.';\n",
              "          element.innerHTML = '';\n",
              "          dataTable['output_type'] = 'display_data';\n",
              "          await google.colab.output.renderOutput(dataTable, element);\n",
              "          const docLink = document.createElement('div');\n",
              "          docLink.innerHTML = docLinkHtml;\n",
              "          element.appendChild(docLink);\n",
              "        }\n",
              "      </script>\n",
              "    </div>\n",
              "  </div>\n",
              "  "
            ]
          },
          "metadata": {},
          "execution_count": 106
        }
      ]
    },
    {
      "cell_type": "code",
      "source": [
        "df[df[0] == 0][1].std(), df[df[0] == 0][2].std()"
      ],
      "metadata": {
        "colab": {
          "base_uri": "https://localhost:8080/"
        },
        "id": "o3FZyabp9Cgn",
        "outputId": "e83fad45-7efe-4171-f314-d1ae9104a84a"
      },
      "execution_count": 116,
      "outputs": [
        {
          "output_type": "execute_result",
          "data": {
            "text/plain": [
              "(1.0092193894831687, 1.0043950631977858)"
            ]
          },
          "metadata": {},
          "execution_count": 116
        }
      ]
    },
    {
      "cell_type": "code",
      "source": [
        "df[df[0] == 1][1].std(), df[df[0] == 1][2].std()"
      ],
      "metadata": {
        "colab": {
          "base_uri": "https://localhost:8080/"
        },
        "id": "h0SWGamX-NJU",
        "outputId": "fb734568-1f40-41db-e76f-0a9df4c37f74"
      },
      "execution_count": 115,
      "outputs": [
        {
          "output_type": "execute_result",
          "data": {
            "text/plain": [
              "(1.0913357423318955, 0.9420460172060752)"
            ]
          },
          "metadata": {},
          "execution_count": 115
        }
      ]
    },
    {
      "cell_type": "code",
      "source": [],
      "metadata": {
        "id": "o4XAvGfe-aLu"
      },
      "execution_count": null,
      "outputs": []
    }
  ]
}